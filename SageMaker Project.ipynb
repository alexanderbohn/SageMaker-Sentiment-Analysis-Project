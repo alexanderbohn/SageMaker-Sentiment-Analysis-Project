{
 "cells": [
  {
   "cell_type": "markdown",
   "metadata": {},
   "source": [
    "# Creating a Sentiment Analysis Web App\n",
    "## Using PyTorch and SageMaker\n",
    "\n",
    "_Deep Learning Nanodegree Program | Deployment_\n",
    "\n",
    "---\n",
    "\n",
    "Now that we have a basic understanding of how SageMaker works we will try to use it to construct a complete project from end to end. Our goal will be to have a simple web page which a user can use to enter a movie review. The web page will then send the review off to our deployed model which will predict the sentiment of the entered review.\n",
    "\n",
    "## Instructions\n",
    "\n",
    "Some template code has already been provided for you, and you will need to implement additional functionality to successfully complete this notebook. You will not need to modify the included code beyond what is requested. Sections that begin with '**TODO**' in the header indicate that you need to complete or implement some portion within them. Instructions will be provided for each section and the specifics of the implementation are marked in the code block with a `# TODO: ...` comment. Please be sure to read the instructions carefully!\n",
    "\n",
    "In addition to implementing code, there will be questions for you to answer which relate to the task and your implementation. Each section where you will answer a question is preceded by a '**Question:**' header. Carefully read each question and provide your answer below the '**Answer:**' header by editing the Markdown cell.\n",
    "\n",
    "> **Note**: Code and Markdown cells can be executed using the **Shift+Enter** keyboard shortcut. In addition, a cell can be edited by typically clicking it (double-click for Markdown cells) or by pressing **Enter** while it is highlighted.\n",
    "\n",
    "## General Outline\n",
    "\n",
    "Recall the general outline for SageMaker projects using a notebook instance.\n",
    "\n",
    "1. Download or otherwise retrieve the data.\n",
    "2. Process / Prepare the data.\n",
    "3. Upload the processed data to S3.\n",
    "4. Train a chosen model.\n",
    "5. Test the trained model (typically using a batch transform job).\n",
    "6. Deploy the trained model.\n",
    "7. Use the deployed model.\n",
    "\n",
    "For this project, you will be following the steps in the general outline with some modifications. \n",
    "\n",
    "First, you will not be testing the model in its own step. You will still be testing the model, however, you will do it by deploying your model and then using the deployed model by sending the test data to it. One of the reasons for doing this is so that you can make sure that your deployed model is working correctly before moving forward.\n",
    "\n",
    "In addition, you will deploy and use your trained model a second time. In the second iteration you will customize the way that your trained model is deployed by including some of your own code. In addition, your newly deployed model will be used in the sentiment analysis web app."
   ]
  },
  {
   "cell_type": "markdown",
   "metadata": {},
   "source": [
    "## Step 1: Downloading the data\n",
    "\n",
    "As in the XGBoost in SageMaker notebook, we will be using the [IMDb dataset](http://ai.stanford.edu/~amaas/data/sentiment/)\n",
    "\n",
    "> Maas, Andrew L., et al. [Learning Word Vectors for Sentiment Analysis](http://ai.stanford.edu/~amaas/data/sentiment/). In _Proceedings of the 49th Annual Meeting of the Association for Computational Linguistics: Human Language Technologies_. Association for Computational Linguistics, 2011."
   ]
  },
  {
   "cell_type": "code",
   "execution_count": 3,
   "metadata": {},
   "outputs": [
    {
     "name": "stdout",
     "output_type": "stream",
     "text": [
      "mkdir: cannot create directory ‘../data’: File exists\n",
      "--2020-02-06 19:33:26--  http://ai.stanford.edu/~amaas/data/sentiment/aclImdb_v1.tar.gz\n",
      "Resolving ai.stanford.edu (ai.stanford.edu)... 171.64.68.10\n",
      "Connecting to ai.stanford.edu (ai.stanford.edu)|171.64.68.10|:80... connected.\n",
      "HTTP request sent, awaiting response... 200 OK\n",
      "Length: 84125825 (80M) [application/x-gzip]\n",
      "Saving to: ‘../data/aclImdb_v1.tar.gz’\n",
      "\n",
      "../data/aclImdb_v1. 100%[===================>]  80.23M  21.1MB/s    in 5.4s    \n",
      "\n",
      "2020-02-06 19:33:31 (15.0 MB/s) - ‘../data/aclImdb_v1.tar.gz’ saved [84125825/84125825]\n",
      "\n"
     ]
    }
   ],
   "source": [
    "%mkdir ../data\n",
    "!wget -O ../data/aclImdb_v1.tar.gz http://ai.stanford.edu/~amaas/data/sentiment/aclImdb_v1.tar.gz\n",
    "!tar -zxf ../data/aclImdb_v1.tar.gz -C ../data"
   ]
  },
  {
   "cell_type": "markdown",
   "metadata": {},
   "source": [
    "## Step 2: Preparing and Processing the data\n",
    "\n",
    "Also, as in the XGBoost notebook, we will be doing some initial data processing. The first few steps are the same as in the XGBoost example. To begin with, we will read in each of the reviews and combine them into a single input structure. Then, we will split the dataset into a training set and a testing set."
   ]
  },
  {
   "cell_type": "code",
   "execution_count": 4,
   "metadata": {},
   "outputs": [],
   "source": [
    "import os\n",
    "import glob\n",
    "\n",
    "def read_imdb_data(data_dir='../data/aclImdb'):\n",
    "    data = {}\n",
    "    labels = {}\n",
    "    \n",
    "    for data_type in ['train', 'test']:\n",
    "        data[data_type] = {}\n",
    "        labels[data_type] = {}\n",
    "        \n",
    "        for sentiment in ['pos', 'neg']:\n",
    "            data[data_type][sentiment] = []\n",
    "            labels[data_type][sentiment] = []\n",
    "            \n",
    "            path = os.path.join(data_dir, data_type, sentiment, '*.txt')\n",
    "            files = glob.glob(path)\n",
    "            \n",
    "            for f in files:\n",
    "                with open(f) as review:\n",
    "                    data[data_type][sentiment].append(review.read())\n",
    "                    # Here we represent a positive review by '1' and a negative review by '0'\n",
    "                    labels[data_type][sentiment].append(1 if sentiment == 'pos' else 0)\n",
    "                    \n",
    "            assert len(data[data_type][sentiment]) == len(labels[data_type][sentiment]), \\\n",
    "                    \"{}/{} data size does not match labels size\".format(data_type, sentiment)\n",
    "                \n",
    "    return data, labels"
   ]
  },
  {
   "cell_type": "code",
   "execution_count": 5,
   "metadata": {},
   "outputs": [
    {
     "name": "stdout",
     "output_type": "stream",
     "text": [
      "IMDB reviews: train = 12500 pos / 12500 neg, test = 12500 pos / 12500 neg\n"
     ]
    }
   ],
   "source": [
    "data, labels = read_imdb_data()\n",
    "print(\"IMDB reviews: train = {} pos / {} neg, test = {} pos / {} neg\".format(\n",
    "            len(data['train']['pos']), len(data['train']['neg']),\n",
    "            len(data['test']['pos']), len(data['test']['neg'])))"
   ]
  },
  {
   "cell_type": "markdown",
   "metadata": {},
   "source": [
    "Now that we've read the raw training and testing data from the downloaded dataset, we will combine the positive and negative reviews and shuffle the resulting records."
   ]
  },
  {
   "cell_type": "code",
   "execution_count": 6,
   "metadata": {},
   "outputs": [],
   "source": [
    "from sklearn.utils import shuffle\n",
    "\n",
    "def prepare_imdb_data(data, labels):\n",
    "    \"\"\"Prepare training and test sets from IMDb movie reviews.\"\"\"\n",
    "    \n",
    "    #Combine positive and negative reviews and labels\n",
    "    data_train = data['train']['pos'] + data['train']['neg']\n",
    "    data_test = data['test']['pos'] + data['test']['neg']\n",
    "    labels_train = labels['train']['pos'] + labels['train']['neg']\n",
    "    labels_test = labels['test']['pos'] + labels['test']['neg']\n",
    "    \n",
    "    #Shuffle reviews and corresponding labels within training and test sets\n",
    "    data_train, labels_train = shuffle(data_train, labels_train)\n",
    "    data_test, labels_test = shuffle(data_test, labels_test)\n",
    "    \n",
    "    # Return a unified training data, test data, training labels, test labets\n",
    "    return data_train, data_test, labels_train, labels_test"
   ]
  },
  {
   "cell_type": "code",
   "execution_count": 7,
   "metadata": {},
   "outputs": [
    {
     "name": "stdout",
     "output_type": "stream",
     "text": [
      "IMDb reviews (combined): train = 25000, test = 25000\n"
     ]
    }
   ],
   "source": [
    "train_X, test_X, train_y, test_y = prepare_imdb_data(data, labels)\n",
    "print(\"IMDb reviews (combined): train = {}, test = {}\".format(len(train_X), len(test_X)))"
   ]
  },
  {
   "cell_type": "markdown",
   "metadata": {},
   "source": [
    "Now that we have our training and testing sets unified and prepared, we should do a quick check and see an example of the data our model will be trained on. This is generally a good idea as it allows you to see how each of the further processing steps affects the reviews and it also ensures that the data has been loaded correctly."
   ]
  },
  {
   "cell_type": "code",
   "execution_count": 8,
   "metadata": {},
   "outputs": [
    {
     "name": "stdout",
     "output_type": "stream",
     "text": [
      "A young couple Mandy Pullman (Mitch Martin) and Roy Seeley (Matt Birman) are relaxing on a beach in the small town of Galen. They decide to start playing practical jokes on each other. Mandy hides in an old run down cabin, she is attacked and raped by an unknown assailant. Roy tries to help her after hearing her screams but is killed. Dr. Sam Cordell (John Cassavetes) and his daughter Jenny (Erin Flannery) are both new to Galen after the death of Sam's wife. Sam is called into action by Police Chief Hank Walden (John Ireland) when Mandy and Roy are found. He performs the autopsy on Roy and treats Mandy for her horrific injuries. Soon after a curator at the local museum named Carolyn Davis (Denise Furgusson) is also attacked and raped. A local journalist named Laura Kincaid (Kerrie Keane) reports the events and suggests to Sam that a similar string of rapes and murders occurred in the town 30 years earlier. More rapes and murders occur. Meanwhile Jenny's boyfriend Tim Galen (Duncan MacIntosh) has been having strange dreams and nightmares and is convinced that he has something to do with the horrific acts. Tim's story and digging into the towns past makes Sam become convinced of the existence of a creature known as an Incubus - a shape-shifting demonic entity that exists only to reproduce! Directed by John Hough this is one seriously dull horror film. The script by George Franklin based on the novel by Ray Russell is slow to say the least. Nothing interesting or exciting happens and it finishes with one of the most boring none event of a twist ending I've ever seen and frustratingly it just finishes suddenly. As the story plods along at a snails pace there are a few rapes, but none are shown on screen. There is only one gore scene in the entire film too. The monster itself is only shown at the very end and has all of three short scenes. Everything about this film production-wise is very static and flat, the film has no energy or pace. The acting is dull and you don't feel or care for anyone. Check out the scene in the autopsy room where you can clearly see the boom mike at the top of the screen on several occasions. The type of rubbish horror film making that you'll forget within a day. A real waste of time, don't bother.\n",
      "0\n"
     ]
    }
   ],
   "source": [
    "print(train_X[100])\n",
    "print(train_y[100])"
   ]
  },
  {
   "cell_type": "markdown",
   "metadata": {},
   "source": [
    "The first step in processing the reviews is to make sure that any html tags that appear should be removed. In addition we wish to tokenize our input, that way words such as *entertained* and *entertaining* are considered the same with regard to sentiment analysis."
   ]
  },
  {
   "cell_type": "code",
   "execution_count": 9,
   "metadata": {},
   "outputs": [],
   "source": [
    "import nltk\n",
    "from nltk.corpus import stopwords\n",
    "from nltk.stem.porter import *\n",
    "\n",
    "import re\n",
    "from bs4 import BeautifulSoup\n",
    "\n",
    "def review_to_words(review):\n",
    "    nltk.download(\"stopwords\", quiet=True)\n",
    "    stemmer = PorterStemmer()\n",
    "    \n",
    "    text = BeautifulSoup(review, \"html.parser\").get_text() # Remove HTML tags\n",
    "    text = re.sub(r\"[^a-zA-Z0-9]\", \" \", text.lower()) # Convert to lower case\n",
    "    words = text.split() # Split string into words\n",
    "    words = [w for w in words if w not in stopwords.words(\"english\")] # Remove stopwords\n",
    "    words = [PorterStemmer().stem(w) for w in words] # stem\n",
    "    \n",
    "    return words"
   ]
  },
  {
   "cell_type": "markdown",
   "metadata": {},
   "source": [
    "The `review_to_words` method defined above uses `BeautifulSoup` to remove any html tags that appear and uses the `nltk` package to tokenize the reviews. As a check to ensure we know how everything is working, try applying `review_to_words` to one of the reviews in the training set."
   ]
  },
  {
   "cell_type": "code",
   "execution_count": 10,
   "metadata": {},
   "outputs": [
    {
     "data": {
      "text/plain": [
       "['young',\n",
       " 'coupl',\n",
       " 'mandi',\n",
       " 'pullman',\n",
       " 'mitch',\n",
       " 'martin',\n",
       " 'roy',\n",
       " 'seeley',\n",
       " 'matt',\n",
       " 'birman',\n",
       " 'relax',\n",
       " 'beach',\n",
       " 'small',\n",
       " 'town',\n",
       " 'galen',\n",
       " 'decid',\n",
       " 'start',\n",
       " 'play',\n",
       " 'practic',\n",
       " 'joke',\n",
       " 'mandi',\n",
       " 'hide',\n",
       " 'old',\n",
       " 'run',\n",
       " 'cabin',\n",
       " 'attack',\n",
       " 'rape',\n",
       " 'unknown',\n",
       " 'assail',\n",
       " 'roy',\n",
       " 'tri',\n",
       " 'help',\n",
       " 'hear',\n",
       " 'scream',\n",
       " 'kill',\n",
       " 'dr',\n",
       " 'sam',\n",
       " 'cordel',\n",
       " 'john',\n",
       " 'cassavet',\n",
       " 'daughter',\n",
       " 'jenni',\n",
       " 'erin',\n",
       " 'flanneri',\n",
       " 'new',\n",
       " 'galen',\n",
       " 'death',\n",
       " 'sam',\n",
       " 'wife',\n",
       " 'sam',\n",
       " 'call',\n",
       " 'action',\n",
       " 'polic',\n",
       " 'chief',\n",
       " 'hank',\n",
       " 'walden',\n",
       " 'john',\n",
       " 'ireland',\n",
       " 'mandi',\n",
       " 'roy',\n",
       " 'found',\n",
       " 'perform',\n",
       " 'autopsi',\n",
       " 'roy',\n",
       " 'treat',\n",
       " 'mandi',\n",
       " 'horrif',\n",
       " 'injuri',\n",
       " 'soon',\n",
       " 'curat',\n",
       " 'local',\n",
       " 'museum',\n",
       " 'name',\n",
       " 'carolyn',\n",
       " 'davi',\n",
       " 'denis',\n",
       " 'furgusson',\n",
       " 'also',\n",
       " 'attack',\n",
       " 'rape',\n",
       " 'local',\n",
       " 'journalist',\n",
       " 'name',\n",
       " 'laura',\n",
       " 'kincaid',\n",
       " 'kerri',\n",
       " 'kean',\n",
       " 'report',\n",
       " 'event',\n",
       " 'suggest',\n",
       " 'sam',\n",
       " 'similar',\n",
       " 'string',\n",
       " 'rape',\n",
       " 'murder',\n",
       " 'occur',\n",
       " 'town',\n",
       " '30',\n",
       " 'year',\n",
       " 'earlier',\n",
       " 'rape',\n",
       " 'murder',\n",
       " 'occur',\n",
       " 'meanwhil',\n",
       " 'jenni',\n",
       " 'boyfriend',\n",
       " 'tim',\n",
       " 'galen',\n",
       " 'duncan',\n",
       " 'macintosh',\n",
       " 'strang',\n",
       " 'dream',\n",
       " 'nightmar',\n",
       " 'convinc',\n",
       " 'someth',\n",
       " 'horrif',\n",
       " 'act',\n",
       " 'tim',\n",
       " 'stori',\n",
       " 'dig',\n",
       " 'town',\n",
       " 'past',\n",
       " 'make',\n",
       " 'sam',\n",
       " 'becom',\n",
       " 'convinc',\n",
       " 'exist',\n",
       " 'creatur',\n",
       " 'known',\n",
       " 'incubu',\n",
       " 'shape',\n",
       " 'shift',\n",
       " 'demon',\n",
       " 'entiti',\n",
       " 'exist',\n",
       " 'reproduc',\n",
       " 'direct',\n",
       " 'john',\n",
       " 'hough',\n",
       " 'one',\n",
       " 'serious',\n",
       " 'dull',\n",
       " 'horror',\n",
       " 'film',\n",
       " 'script',\n",
       " 'georg',\n",
       " 'franklin',\n",
       " 'base',\n",
       " 'novel',\n",
       " 'ray',\n",
       " 'russel',\n",
       " 'slow',\n",
       " 'say',\n",
       " 'least',\n",
       " 'noth',\n",
       " 'interest',\n",
       " 'excit',\n",
       " 'happen',\n",
       " 'finish',\n",
       " 'one',\n",
       " 'bore',\n",
       " 'none',\n",
       " 'event',\n",
       " 'twist',\n",
       " 'end',\n",
       " 'ever',\n",
       " 'seen',\n",
       " 'frustratingli',\n",
       " 'finish',\n",
       " 'suddenli',\n",
       " 'stori',\n",
       " 'plod',\n",
       " 'along',\n",
       " 'snail',\n",
       " 'pace',\n",
       " 'rape',\n",
       " 'none',\n",
       " 'shown',\n",
       " 'screen',\n",
       " 'one',\n",
       " 'gore',\n",
       " 'scene',\n",
       " 'entir',\n",
       " 'film',\n",
       " 'monster',\n",
       " 'shown',\n",
       " 'end',\n",
       " 'three',\n",
       " 'short',\n",
       " 'scene',\n",
       " 'everyth',\n",
       " 'film',\n",
       " 'product',\n",
       " 'wise',\n",
       " 'static',\n",
       " 'flat',\n",
       " 'film',\n",
       " 'energi',\n",
       " 'pace',\n",
       " 'act',\n",
       " 'dull',\n",
       " 'feel',\n",
       " 'care',\n",
       " 'anyon',\n",
       " 'check',\n",
       " 'scene',\n",
       " 'autopsi',\n",
       " 'room',\n",
       " 'clearli',\n",
       " 'see',\n",
       " 'boom',\n",
       " 'mike',\n",
       " 'top',\n",
       " 'screen',\n",
       " 'sever',\n",
       " 'occas',\n",
       " 'type',\n",
       " 'rubbish',\n",
       " 'horror',\n",
       " 'film',\n",
       " 'make',\n",
       " 'forget',\n",
       " 'within',\n",
       " 'day',\n",
       " 'real',\n",
       " 'wast',\n",
       " 'time',\n",
       " 'bother']"
      ]
     },
     "execution_count": 10,
     "metadata": {},
     "output_type": "execute_result"
    }
   ],
   "source": [
    "# TODO: Apply review_to_words to a review (train_X[100] or any other review)\n",
    "review_to_words(train_X[100])"
   ]
  },
  {
   "cell_type": "markdown",
   "metadata": {},
   "source": [
    "**Question:** Above we mentioned that `review_to_words` method removes html formatting and allows us to tokenize the words found in a review, for example, converting *entertained* and *entertaining* into *entertain* so that they are treated as though they are the same word. What else, if anything, does this method do to the input?"
   ]
  },
  {
   "cell_type": "markdown",
   "metadata": {},
   "source": [
    "**Answer:** The review_to_words method also substitutes any non-alphanumeric character with a space and lowercases them. Additionally, the method splits the string of words into individual words, in the form of a list, so that the list comprehension code can successfully remove the stop words."
   ]
  },
  {
   "cell_type": "markdown",
   "metadata": {},
   "source": [
    "The method below applies the `review_to_words` method to each of the reviews in the training and testing datasets. In addition it caches the results. This is because performing this processing step can take a long time. This way if you are unable to complete the notebook in the current session, you can come back without needing to process the data a second time."
   ]
  },
  {
   "cell_type": "code",
   "execution_count": 11,
   "metadata": {},
   "outputs": [],
   "source": [
    "import pickle\n",
    "\n",
    "cache_dir = os.path.join(\"../cache\", \"sentiment_analysis\")  # where to store cache files\n",
    "os.makedirs(cache_dir, exist_ok=True)  # ensure cache directory exists\n",
    "\n",
    "def preprocess_data(data_train, data_test, labels_train, labels_test,\n",
    "                    cache_dir=cache_dir, cache_file=\"preprocessed_data.pkl\"):\n",
    "    \"\"\"Convert each review to words; read from cache if available.\"\"\"\n",
    "\n",
    "    # If cache_file is not None, try to read from it first\n",
    "    cache_data = None\n",
    "    if cache_file is not None:\n",
    "        try:\n",
    "            with open(os.path.join(cache_dir, cache_file), \"rb\") as f:\n",
    "                cache_data = pickle.load(f)\n",
    "            print(\"Read preprocessed data from cache file:\", cache_file)\n",
    "        except:\n",
    "            pass  # unable to read from cache, but that's okay\n",
    "    \n",
    "    # If cache is missing, then do the heavy lifting\n",
    "    if cache_data is None:\n",
    "        # Preprocess training and test data to obtain words for each review\n",
    "        #words_train = list(map(review_to_words, data_train))\n",
    "        #words_test = list(map(review_to_words, data_test))\n",
    "        words_train = [review_to_words(review) for review in data_train]\n",
    "        words_test = [review_to_words(review) for review in data_test]\n",
    "        \n",
    "        # Write to cache file for future runs\n",
    "        if cache_file is not None:\n",
    "            cache_data = dict(words_train=words_train, words_test=words_test,\n",
    "                              labels_train=labels_train, labels_test=labels_test)\n",
    "            with open(os.path.join(cache_dir, cache_file), \"wb\") as f:\n",
    "                pickle.dump(cache_data, f)\n",
    "            print(\"Wrote preprocessed data to cache file:\", cache_file)\n",
    "    else:\n",
    "        # Unpack data loaded from cache file\n",
    "        words_train, words_test, labels_train, labels_test = (cache_data['words_train'],\n",
    "                cache_data['words_test'], cache_data['labels_train'], cache_data['labels_test'])\n",
    "    \n",
    "    return words_train, words_test, labels_train, labels_test"
   ]
  },
  {
   "cell_type": "code",
   "execution_count": 12,
   "metadata": {},
   "outputs": [
    {
     "name": "stdout",
     "output_type": "stream",
     "text": [
      "Read preprocessed data from cache file: preprocessed_data.pkl\n"
     ]
    }
   ],
   "source": [
    "# Preprocess data\n",
    "train_X, test_X, train_y, test_y = preprocess_data(train_X, test_X, train_y, test_y)"
   ]
  },
  {
   "cell_type": "markdown",
   "metadata": {},
   "source": [
    "## Transform the data\n",
    "\n",
    "In the XGBoost notebook we transformed the data from its word representation to a bag-of-words feature representation. For the model we are going to construct in this notebook we will construct a feature representation which is very similar. To start, we will represent each word as an integer. Of course, some of the words that appear in the reviews occur very infrequently and so likely don't contain much information for the purposes of sentiment analysis. The way we will deal with this problem is that we will fix the size of our working vocabulary and we will only include the words that appear most frequently. We will then combine all of the infrequent words into a single category and, in our case, we will label it as `1`.\n",
    "\n",
    "Since we will be using a recurrent neural network, it will be convenient if the length of each review is the same. To do this, we will fix a size for our reviews and then pad short reviews with the category 'no word' (which we will label `0`) and truncate long reviews."
   ]
  },
  {
   "cell_type": "markdown",
   "metadata": {},
   "source": [
    "### (TODO) Create a word dictionary\n",
    "\n",
    "To begin with, we need to construct a way to map words that appear in the reviews to integers. Here we fix the size of our vocabulary (including the 'no word' and 'infrequent' categories) to be `5000` but you may wish to change this to see how it affects the model.\n",
    "\n",
    "> **TODO:** Complete the implementation for the `build_dict()` method below. Note that even though the vocab_size is set to `5000`, we only want to construct a mapping for the most frequently appearing `4998` words. This is because we want to reserve the special labels `0` for 'no word' and `1` for 'infrequent word'."
   ]
  },
  {
   "cell_type": "code",
   "execution_count": 13,
   "metadata": {},
   "outputs": [],
   "source": [
    "import numpy as np\n",
    "from collections import Counter\n",
    "\n",
    "def build_dict(data, vocab_size = 5000):\n",
    "    \"\"\"Construct and return a dictionary mapping each of the most frequently appearing words to a unique integer.\"\"\"\n",
    "    \n",
    "    # TODO: Determine how often each word appears in `data`. Note that `data` is a list of sentences and that a\n",
    "    #       sentence is a list of words.   \n",
    "    \n",
    "    word_count = {} # A dict storing the words that appear in the reviews along with how often they occur\n",
    "    for sentence in data:\n",
    "        for word in sentence:\n",
    "            if word not in word_count:\n",
    "                word_count[word] = 0\n",
    "            word_count[word] += 1\n",
    "    \n",
    "    # TODO: Sort the words found in `data` so that sorted_words[0] is the most frequently appearing word and\n",
    "    #       sorted_words[-1] is the least frequently appearing word.\n",
    "    \n",
    "    sorted_words = sorted(word_count, key=word_count.get, reverse=True)\n",
    "    # Check result of sorted_words\n",
    "    # return sorted_words\n",
    "    \n",
    "    word_dict = {} # This is what we are building, a dictionary that translates words into integers\n",
    "    for idx, word in enumerate(sorted_words[:vocab_size - 2]): # The -2 is so that we save room for the 'no word'\n",
    "        word_dict[word] = idx + 2                              # 'infrequent' labels\n",
    "        \n",
    "    return word_dict\n",
    "    "
   ]
  },
  {
   "cell_type": "code",
   "execution_count": 14,
   "metadata": {},
   "outputs": [
    {
     "name": "stdout",
     "output_type": "stream",
     "text": [
      "{'movi': 2, 'film': 3, 'one': 4, 'like': 5, 'time': 6, 'good': 7, 'make': 8, 'charact': 9, 'get': 10, 'see': 11, 'watch': 12, 'stori': 13, 'even': 14, 'would': 15, 'realli': 16, 'well': 17, 'scene': 18, 'look': 19, 'show': 20, 'much': 21, 'end': 22, 'peopl': 23, 'bad': 24, 'go': 25, 'great': 26, 'also': 27, 'first': 28, 'love': 29, 'think': 30, 'way': 31, 'act': 32, 'play': 33, 'made': 34, 'thing': 35, 'could': 36, 'know': 37, 'say': 38, 'seem': 39, 'work': 40, 'plot': 41, 'two': 42, 'actor': 43, 'year': 44, 'come': 45, 'mani': 46, 'seen': 47, 'take': 48, 'want': 49, 'life': 50, 'never': 51, 'littl': 52, 'best': 53, 'tri': 54, 'man': 55, 'ever': 56, 'give': 57, 'better': 58, 'still': 59, 'perform': 60, 'find': 61, 'feel': 62, 'part': 63, 'back': 64, 'use': 65, 'someth': 66, 'director': 67, 'actual': 68, 'interest': 69, 'lot': 70, 'real': 71, 'old': 72, 'cast': 73, 'though': 74, 'live': 75, 'star': 76, 'enjoy': 77, 'guy': 78, 'anoth': 79, 'new': 80, 'role': 81, 'noth': 82, '10': 83, 'funni': 84, 'music': 85, 'point': 86, 'start': 87, 'set': 88, 'girl': 89, 'origin': 90, 'day': 91, 'world': 92, 'everi': 93, 'believ': 94, 'turn': 95, 'quit': 96, 'direct': 97, 'us': 98, 'thought': 99, 'fact': 100, 'minut': 101, 'horror': 102, 'kill': 103, 'action': 104, 'comedi': 105, 'pretti': 106, 'young': 107, 'wonder': 108, 'happen': 109, 'around': 110, 'got': 111, 'effect': 112, 'right': 113, 'long': 114, 'howev': 115, 'big': 116, 'line': 117, 'famili': 118, 'enough': 119, 'seri': 120, 'may': 121, 'need': 122, 'fan': 123, 'bit': 124, 'script': 125, 'beauti': 126, 'person': 127, 'becom': 128, 'without': 129, 'must': 130, 'alway': 131, 'friend': 132, 'tell': 133, 'reason': 134, 'saw': 135, 'last': 136, 'final': 137, 'kid': 138, 'almost': 139, 'put': 140, 'least': 141, 'sure': 142, 'done': 143, 'whole': 144, 'place': 145, 'complet': 146, 'kind': 147, 'expect': 148, 'differ': 149, 'shot': 150, 'far': 151, 'mean': 152, 'anyth': 153, 'book': 154, 'laugh': 155, 'might': 156, 'name': 157, 'sinc': 158, 'begin': 159, '2': 160, 'probabl': 161, 'woman': 162, 'help': 163, 'entertain': 164, 'let': 165, 'screen': 166, 'call': 167, 'tv': 168, 'moment': 169, 'away': 170, 'read': 171, 'yet': 172, 'rather': 173, 'worst': 174, 'run': 175, 'fun': 176, 'lead': 177, 'hard': 178, 'audienc': 179, 'idea': 180, 'anyon': 181, 'episod': 182, 'american': 183, 'found': 184, 'appear': 185, 'bore': 186, 'especi': 187, 'although': 188, 'hope': 189, 'keep': 190, 'cours': 191, 'anim': 192, 'job': 193, 'goe': 194, 'move': 195, 'sens': 196, 'dvd': 197, 'version': 198, 'war': 199, 'money': 200, 'someon': 201, 'mind': 202, 'mayb': 203, 'problem': 204, 'true': 205, 'hous': 206, 'everyth': 207, 'nice': 208, 'second': 209, 'rate': 210, 'three': 211, 'night': 212, 'face': 213, 'follow': 214, 'recommend': 215, 'main': 216, 'product': 217, 'worth': 218, 'leav': 219, 'human': 220, 'special': 221, 'excel': 222, 'togeth': 223, 'wast': 224, 'sound': 225, 'everyon': 226, 'john': 227, 'hand': 228, '1': 229, 'father': 230, 'later': 231, 'eye': 232, 'said': 233, 'view': 234, 'instead': 235, 'review': 236, 'boy': 237, 'high': 238, 'hour': 239, 'miss': 240, 'talk': 241, 'classic': 242, 'wife': 243, 'understand': 244, 'left': 245, 'care': 246, 'black': 247, 'death': 248, 'open': 249, 'murder': 250, 'write': 251, 'half': 252, 'head': 253, 'rememb': 254, 'chang': 255, 'viewer': 256, 'fight': 257, 'gener': 258, 'surpris': 259, 'short': 260, 'includ': 261, 'die': 262, 'fall': 263, 'less': 264, 'els': 265, 'entir': 266, 'piec': 267, 'involv': 268, 'pictur': 269, 'simpli': 270, 'home': 271, 'top': 272, 'power': 273, 'total': 274, 'usual': 275, 'budget': 276, 'attempt': 277, 'suppos': 278, 'releas': 279, 'hollywood': 280, 'terribl': 281, 'song': 282, 'men': 283, 'possibl': 284, 'featur': 285, 'portray': 286, 'disappoint': 287, 'poor': 288, '3': 289, 'coupl': 290, 'camera': 291, 'stupid': 292, 'dead': 293, 'wrong': 294, 'produc': 295, 'low': 296, 'video': 297, 'either': 298, 'aw': 299, 'definit': 300, 'except': 301, 'rest': 302, 'given': 303, 'absolut': 304, 'women': 305, 'lack': 306, 'word': 307, 'writer': 308, 'titl': 309, 'talent': 310, 'decid': 311, 'full': 312, 'perfect': 313, 'along': 314, 'style': 315, 'close': 316, 'truli': 317, 'school': 318, 'emot': 319, 'save': 320, 'sex': 321, 'age': 322, 'next': 323, 'bring': 324, 'mr': 325, 'case': 326, 'killer': 327, 'heart': 328, 'comment': 329, 'sort': 330, 'creat': 331, 'perhap': 332, 'came': 333, 'brother': 334, 'sever': 335, 'joke': 336, 'art': 337, 'dialogu': 338, 'game': 339, 'small': 340, 'base': 341, 'flick': 342, 'written': 343, 'sequenc': 344, 'meet': 345, 'earli': 346, 'often': 347, 'other': 348, 'mother': 349, 'develop': 350, 'humor': 351, 'actress': 352, 'consid': 353, 'dark': 354, 'guess': 355, 'amaz': 356, 'unfortun': 357, 'lost': 358, 'light': 359, 'exampl': 360, 'cinema': 361, 'drama': 362, 'white': 363, 'ye': 364, 'experi': 365, 'imagin': 366, 'mention': 367, 'stop': 368, 'natur': 369, 'forc': 370, 'manag': 371, 'felt': 372, 'cut': 373, 'present': 374, 'children': 375, 'fail': 376, 'son': 377, 'support': 378, 'qualiti': 379, 'car': 380, 'ask': 381, 'hit': 382, 'side': 383, 'voic': 384, 'extrem': 385, 'impress': 386, 'wors': 387, 'evil': 388, 'stand': 389, 'went': 390, 'certainli': 391, 'basic': 392, 'oh': 393, 'overal': 394, 'favorit': 395, 'horribl': 396, 'mysteri': 397, 'number': 398, 'type': 399, 'danc': 400, 'wait': 401, 'hero': 402, 'alreadi': 403, '5': 404, 'learn': 405, 'matter': 406, '4': 407, 'michael': 408, 'genr': 409, 'fine': 410, 'despit': 411, 'throughout': 412, 'walk': 413, 'success': 414, 'histori': 415, 'question': 416, 'zombi': 417, 'town': 418, 'relationship': 419, 'realiz': 420, 'child': 421, 'past': 422, 'daughter': 423, 'late': 424, 'b': 425, 'wish': 426, 'hate': 427, 'credit': 428, 'event': 429, 'theme': 430, 'touch': 431, 'citi': 432, 'today': 433, 'sometim': 434, 'behind': 435, 'god': 436, 'twist': 437, 'sit': 438, 'stay': 439, 'deal': 440, 'annoy': 441, 'abl': 442, 'rent': 443, 'pleas': 444, 'edit': 445, 'blood': 446, 'deserv': 447, 'comic': 448, 'anyway': 449, 'appar': 450, 'soon': 451, 'gave': 452, 'etc': 453, 'level': 454, 'slow': 455, 'chanc': 456, 'score': 457, 'bodi': 458, 'brilliant': 459, 'incred': 460, 'figur': 461, 'situat': 462, 'major': 463, 'self': 464, 'stuff': 465, 'decent': 466, 'element': 467, 'return': 468, 'dream': 469, 'obvious': 470, 'order': 471, 'continu': 472, 'pace': 473, 'ridicul': 474, 'happi': 475, 'highli': 476, 'group': 477, 'add': 478, 'thank': 479, 'ladi': 480, 'novel': 481, 'speak': 482, 'pain': 483, 'career': 484, 'shoot': 485, 'strang': 486, 'heard': 487, 'sad': 488, 'polic': 489, 'husband': 490, 'import': 491, 'break': 492, 'took': 493, 'strong': 494, 'cannot': 495, 'predict': 496, 'robert': 497, 'violenc': 498, 'hilari': 499, 'recent': 500, 'countri': 501, 'known': 502, 'particularli': 503, 'pick': 504, 'documentari': 505, 'season': 506, 'critic': 507, 'jame': 508, 'compar': 509, 'alon': 510, 'obviou': 511, 'told': 512, 'state': 513, 'visual': 514, 'rock': 515, 'offer': 516, 'exist': 517, 'theater': 518, 'opinion': 519, 'gore': 520, 'hold': 521, 'crap': 522, 'result': 523, 'realiti': 524, 'room': 525, 'hear': 526, 'effort': 527, 'clich': 528, 'thriller': 529, 'caus': 530, 'sequel': 531, 'serious': 532, 'explain': 533, 'king': 534, 'local': 535, 'ago': 536, 'hell': 537, 'none': 538, 'note': 539, 'allow': 540, 'sister': 541, 'david': 542, 'simpl': 543, 'femal': 544, 'deliv': 545, 'ok': 546, 'class': 547, 'convinc': 548, 'check': 549, 'suspens': 550, 'win': 551, 'buy': 552, 'oscar': 553, 'huge': 554, 'valu': 555, 'sexual': 556, 'cool': 557, 'scari': 558, 'similar': 559, 'excit': 560, 'exactli': 561, 'provid': 562, 'apart': 563, 'avoid': 564, 'shown': 565, 'seriou': 566, 'english': 567, 'whose': 568, 'taken': 569, 'cinematographi': 570, 'shock': 571, 'polit': 572, 'spoiler': 573, 'offic': 574, 'across': 575, 'middl': 576, 'street': 577, 'pass': 578, 'messag': 579, 'charm': 580, 'somewhat': 581, 'silli': 582, 'modern': 583, 'filmmak': 584, 'confus': 585, 'form': 586, 'tale': 587, 'singl': 588, 'jack': 589, 'mostli': 590, 'carri': 591, 'william': 592, 'attent': 593, 'sing': 594, 'subject': 595, 'five': 596, 'richard': 597, 'prove': 598, 'stage': 599, 'team': 600, 'unlik': 601, 'cop': 602, 'georg': 603, 'televis': 604, 'monster': 605, 'earth': 606, 'cover': 607, 'villain': 608, 'pay': 609, 'marri': 610, 'toward': 611, 'build': 612, 'pull': 613, 'parent': 614, 'due': 615, 'respect': 616, 'fill': 617, 'four': 618, 'dialog': 619, 'remind': 620, 'futur': 621, 'typic': 622, 'weak': 623, '7': 624, 'cheap': 625, 'intellig': 626, 'british': 627, 'atmospher': 628, 'clearli': 629, '80': 630, 'dog': 631, 'non': 632, 'paul': 633, 'artist': 634, '8': 635, 'fast': 636, 'knew': 637, 'crime': 638, 'easili': 639, 'escap': 640, 'doubt': 641, 'adult': 642, 'detail': 643, 'date': 644, 'member': 645, 'fire': 646, 'romant': 647, 'gun': 648, 'drive': 649, 'straight': 650, 'beyond': 651, 'fit': 652, 'attack': 653, 'imag': 654, 'upon': 655, 'posit': 656, 'whether': 657, 'peter': 658, 'fantast': 659, 'appreci': 660, 'aspect': 661, 'captur': 662, 'ten': 663, 'plan': 664, 'discov': 665, 'remain': 666, 'near': 667, 'period': 668, 'realist': 669, 'air': 670, 'mark': 671, 'red': 672, 'dull': 673, 'adapt': 674, 'within': 675, 'spend': 676, 'lose': 677, 'materi': 678, 'color': 679, 'chase': 680, 'mari': 681, 'storylin': 682, 'forget': 683, 'bunch': 684, 'clear': 685, 'lee': 686, 'victim': 687, 'nearli': 688, 'box': 689, 'york': 690, 'match': 691, 'inspir': 692, 'finish': 693, 'mess': 694, 'standard': 695, 'easi': 696, 'truth': 697, 'busi': 698, 'suffer': 699, 'space': 700, 'dramat': 701, 'bill': 702, 'western': 703, 'e': 704, 'list': 705, 'battl': 706, 'notic': 707, 'de': 708, 'french': 709, 'ad': 710, '9': 711, 'tom': 712, 'larg': 713, 'among': 714, 'eventu': 715, 'accept': 716, 'train': 717, 'agre': 718, 'soundtrack': 719, 'spirit': 720, 'third': 721, 'teenag': 722, 'soldier': 723, 'adventur': 724, 'suggest': 725, 'sorri': 726, 'famou': 727, 'drug': 728, 'cri': 729, 'normal': 730, 'babi': 731, 'troubl': 732, 'ultim': 733, 'contain': 734, 'certain': 735, 'cultur': 736, 'romanc': 737, 'rare': 738, 'lame': 739, 'somehow': 740, 'disney': 741, 'mix': 742, 'gone': 743, 'cartoon': 744, 'student': 745, 'fear': 746, 'reveal': 747, 'suck': 748, 'kept': 749, 'attract': 750, 'appeal': 751, 'premis': 752, 'secret': 753, 'greatest': 754, 'design': 755, 'shame': 756, 'throw': 757, 'copi': 758, 'scare': 759, 'wit': 760, 'america': 761, 'admit': 762, 'relat': 763, 'particular': 764, 'brought': 765, 'screenplay': 766, 'whatev': 767, 'pure': 768, '70': 769, 'harri': 770, 'averag': 771, 'master': 772, 'describ': 773, 'male': 774, 'treat': 775, '20': 776, 'fantasi': 777, 'issu': 778, 'warn': 779, 'inde': 780, 'forward': 781, 'background': 782, 'free': 783, 'project': 784, 'memor': 785, 'japanes': 786, 'poorli': 787, 'award': 788, 'locat': 789, 'amus': 790, 'potenti': 791, 'struggl': 792, 'weird': 793, 'magic': 794, 'societi': 795, 'okay': 796, 'accent': 797, 'imdb': 798, 'doctor': 799, 'hot': 800, 'water': 801, 'express': 802, '30': 803, 'dr': 804, 'alien': 805, 'odd': 806, 'choic': 807, 'crazi': 808, 'studio': 809, 'fiction': 810, 'control': 811, 'becam': 812, 'masterpiec': 813, 'fli': 814, 'difficult': 815, 'joe': 816, 'scream': 817, 'costum': 818, 'lover': 819, 'refer': 820, 'uniqu': 821, 'remak': 822, 'girlfriend': 823, 'vampir': 824, 'prison': 825, 'execut': 826, 'wear': 827, 'jump': 828, 'unless': 829, 'wood': 830, 'creepi': 831, 'cheesi': 832, 'superb': 833, 'otherwis': 834, 'parti': 835, 'ghost': 836, 'roll': 837, 'mad': 838, 'public': 839, 'depict': 840, 'week': 841, 'earlier': 842, 'badli': 843, 'moral': 844, 'jane': 845, 'dumb': 846, 'fi': 847, 'flaw': 848, 'grow': 849, 'deep': 850, 'sci': 851, 'maker': 852, 'cat': 853, 'footag': 854, 'older': 855, 'connect': 856, 'bother': 857, 'plenti': 858, 'outsid': 859, 'stick': 860, 'gay': 861, 'catch': 862, 'co': 863, 'plu': 864, 'popular': 865, 'equal': 866, 'social': 867, 'quickli': 868, 'disturb': 869, 'perfectli': 870, 'dress': 871, '90': 872, 'era': 873, 'mistak': 874, 'lie': 875, 'previou': 876, 'ride': 877, 'combin': 878, 'concept': 879, 'band': 880, 'answer': 881, 'rich': 882, 'surviv': 883, 'front': 884, 'sweet': 885, 'christma': 886, 'insid': 887, 'eat': 888, 'concern': 889, 'bare': 890, 'beat': 891, 'listen': 892, 'ben': 893, 'c': 894, 'term': 895, 'serv': 896, 'meant': 897, 'la': 898, 'german': 899, 'hardli': 900, 'stereotyp': 901, 'innoc': 902, 'law': 903, 'desper': 904, 'memori': 905, 'promis': 906, 'cute': 907, 'intent': 908, 'variou': 909, 'inform': 910, 'steal': 911, 'brain': 912, 'post': 913, 'tone': 914, 'island': 915, 'amount': 916, 'compani': 917, 'nuditi': 918, 'track': 919, 'store': 920, 'claim': 921, '50': 922, 'flat': 923, 'hair': 924, 'univers': 925, 'land': 926, 'kick': 927, 'scott': 928, 'fairli': 929, 'danger': 930, 'player': 931, 'crew': 932, 'plain': 933, 'step': 934, 'toni': 935, 'share': 936, 'tast': 937, 'centuri': 938, 'engag': 939, 'achiev': 940, 'travel': 941, 'cold': 942, 'suit': 943, 'record': 944, 'rip': 945, 'manner': 946, 'sadli': 947, 'tension': 948, 'spot': 949, 'wrote': 950, 'intens': 951, 'fascin': 952, 'familiar': 953, 'burn': 954, 'remark': 955, 'depth': 956, 'destroy': 957, 'histor': 958, 'sleep': 959, 'purpos': 960, 'languag': 961, 'ruin': 962, 'ignor': 963, 'delight': 964, 'unbeliev': 965, 'italian': 966, 'collect': 967, 'abil': 968, 'soul': 969, 'clever': 970, 'detect': 971, 'violent': 972, 'rape': 973, 'reach': 974, 'door': 975, 'liter': 976, 'trash': 977, 'scienc': 978, 'commun': 979, 'caught': 980, 'reveng': 981, 'creatur': 982, 'approach': 983, 'trip': 984, 'intrigu': 985, 'fashion': 986, 'skill': 987, 'introduc': 988, 'paint': 989, 'channel': 990, 'complex': 991, 'camp': 992, 'christian': 993, 'extra': 994, 'hole': 995, 'mental': 996, 'limit': 997, 'ann': 998, 'immedi': 999, '6': 1000, 'slightli': 1001, 'comput': 1002, 'mere': 1003, 'million': 1004, 'conclus': 1005, 'slasher': 1006, 'imposs': 1007, 'suddenli': 1008, 'teen': 1009, 'crimin': 1010, 'neither': 1011, 'physic': 1012, 'spent': 1013, 'nation': 1014, 'respons': 1015, 'planet': 1016, 'receiv': 1017, 'fake': 1018, 'sick': 1019, 'blue': 1020, 'bizarr': 1021, 'embarrass': 1022, 'indian': 1023, 'ring': 1024, '15': 1025, 'pop': 1026, 'drop': 1027, 'drag': 1028, 'haunt': 1029, 'suspect': 1030, 'pointless': 1031, 'search': 1032, 'edg': 1033, 'handl': 1034, 'biggest': 1035, 'common': 1036, 'arriv': 1037, 'hurt': 1038, 'faith': 1039, 'technic': 1040, 'angel': 1041, 'genuin': 1042, 'dad': 1043, 'awesom': 1044, 'f': 1045, 'solid': 1046, 'focu': 1047, 'former': 1048, 'colleg': 1049, 'van': 1050, 'count': 1051, 'tear': 1052, 'heavi': 1053, 'wall': 1054, 'rais': 1055, 'younger': 1056, 'visit': 1057, 'laughabl': 1058, 'excus': 1059, 'sign': 1060, 'fair': 1061, 'cult': 1062, 'key': 1063, 'motion': 1064, 'tough': 1065, 'super': 1066, 'desir': 1067, 'stun': 1068, 'addit': 1069, 'exploit': 1070, 'cloth': 1071, 'tortur': 1072, 'smith': 1073, 'race': 1074, 'davi': 1075, 'author': 1076, 'cross': 1077, 'jim': 1078, 'consist': 1079, 'focus': 1080, 'minor': 1081, 'compel': 1082, 'pathet': 1083, 'chemistri': 1084, 'commit': 1085, 'park': 1086, 'frank': 1087, 'tradit': 1088, 'obsess': 1089, 'grade': 1090, 'asid': 1091, '60': 1092, 'brutal': 1093, 'steve': 1094, 'somewher': 1095, 'rule': 1096, 'opportun': 1097, 'u': 1098, 'grant': 1099, 'depress': 1100, 'explor': 1101, 'besid': 1102, 'honest': 1103, 'anti': 1104, 'dub': 1105, 'intend': 1106, 'trailer': 1107, 'bar': 1108, 'scientist': 1109, 'longer': 1110, 'regard': 1111, 'west': 1112, 'decad': 1113, 'judg': 1114, 'silent': 1115, 'creativ': 1116, 'armi': 1117, 'wild': 1118, 'stewart': 1119, 'south': 1120, 'g': 1121, 'draw': 1122, 'road': 1123, 'govern': 1124, 'ex': 1125, 'boss': 1126, 'practic': 1127, 'gang': 1128, 'surprisingli': 1129, 'festiv': 1130, 'club': 1131, 'motiv': 1132, 'redeem': 1133, 'page': 1134, 'green': 1135, 'london': 1136, 'idiot': 1137, 'display': 1138, 'militari': 1139, 'aliv': 1140, 'machin': 1141, 'repeat': 1142, 'thrill': 1143, 'folk': 1144, 'nobodi': 1145, 'yeah': 1146, '100': 1147, '40': 1148, 'garbag': 1149, 'journey': 1150, 'smile': 1151, 'ground': 1152, 'tire': 1153, 'bought': 1154, 'mood': 1155, 'sam': 1156, 'stone': 1157, 'cost': 1158, 'noir': 1159, 'mouth': 1160, 'agent': 1161, 'terrif': 1162, 'requir': 1163, 'utterli': 1164, 'sexi': 1165, 'area': 1166, 'honestli': 1167, 'geniu': 1168, 'report': 1169, 'glad': 1170, 'humour': 1171, 'enter': 1172, 'investig': 1173, 'serial': 1174, 'passion': 1175, 'narr': 1176, 'occasion': 1177, 'marriag': 1178, 'climax': 1179, 'industri': 1180, 'studi': 1181, 'nowher': 1182, 'charli': 1183, 'center': 1184, 'demon': 1185, 'ship': 1186, 'hors': 1187, 'bear': 1188, 'loos': 1189, 'wow': 1190, 'hang': 1191, 'graphic': 1192, 'giant': 1193, 'admir': 1194, 'send': 1195, 'damn': 1196, 'loud': 1197, 'rel': 1198, 'profession': 1199, 'subtl': 1200, 'nake': 1201, 'blow': 1202, 'bottom': 1203, 'insult': 1204, 'batman': 1205, 'doubl': 1206, 'boyfriend': 1207, 'r': 1208, 'kelli': 1209, 'initi': 1210, 'frame': 1211, 'gem': 1212, 'opera': 1213, 'affect': 1214, 'cinemat': 1215, 'drawn': 1216, 'church': 1217, 'challeng': 1218, 'seek': 1219, 'evid': 1220, 'fulli': 1221, 'nightmar': 1222, 'l': 1223, 'j': 1224, 'conflict': 1225, 'essenti': 1226, 'arm': 1227, 'christoph': 1228, 'wind': 1229, 'grace': 1230, 'henri': 1231, 'assum': 1232, 'narrat': 1233, 'witch': 1234, 'hunt': 1235, 'push': 1236, 'wise': 1237, 'chri': 1238, 'repres': 1239, 'month': 1240, 'nomin': 1241, 'avail': 1242, 'sceneri': 1243, 'hide': 1244, 'affair': 1245, 'justic': 1246, 'bond': 1247, 'thu': 1248, 'smart': 1249, 'outstand': 1250, 'flashback': 1251, 'interview': 1252, 'constantli': 1253, 'presenc': 1254, 'satisfi': 1255, 'bed': 1256, 'central': 1257, 'sell': 1258, 'content': 1259, 'iron': 1260, 'everybodi': 1261, 'gag': 1262, 'slowli': 1263, 'hotel': 1264, 'hire': 1265, 'system': 1266, 'individu': 1267, 'charl': 1268, 'hey': 1269, 'adam': 1270, 'thrown': 1271, 'mediocr': 1272, 'jone': 1273, 'allen': 1274, 'lesson': 1275, 'ray': 1276, 'billi': 1277, 'photographi': 1278, 'cameo': 1279, 'pari': 1280, 'fellow': 1281, 'strike': 1282, 'rise': 1283, 'brief': 1284, 'independ': 1285, 'absurd': 1286, 'neg': 1287, 'impact': 1288, 'phone': 1289, 'born': 1290, 'ill': 1291, 'model': 1292, 'spoil': 1293, 'fresh': 1294, 'angl': 1295, 'likabl': 1296, 'abus': 1297, 'hill': 1298, 'discuss': 1299, 'ahead': 1300, 'sight': 1301, 'sent': 1302, 'photograph': 1303, 'occur': 1304, 'shine': 1305, 'blame': 1306, 'logic': 1307, 'bruce': 1308, 'mainli': 1309, 'forev': 1310, 'commerci': 1311, 'skip': 1312, 'segment': 1313, 'held': 1314, 'surround': 1315, 'teacher': 1316, 'zero': 1317, 'blond': 1318, 'summer': 1319, 'satir': 1320, 'trap': 1321, 'resembl': 1322, 'queen': 1323, 'ball': 1324, 'fool': 1325, 'six': 1326, 'sub': 1327, 'tragedi': 1328, 'twice': 1329, 'reaction': 1330, 'pack': 1331, 'bomb': 1332, 'will': 1333, 'hospit': 1334, 'protagonist': 1335, 'sport': 1336, 'mile': 1337, 'drink': 1338, 'trust': 1339, 'mom': 1340, 'vote': 1341, 'jerri': 1342, 'encount': 1343, 'plane': 1344, 'current': 1345, 'station': 1346, 'al': 1347, 'program': 1348, 'choos': 1349, 'martin': 1350, 'celebr': 1351, 'join': 1352, 'tragic': 1353, 'field': 1354, 'favourit': 1355, 'lord': 1356, 'round': 1357, 'robot': 1358, 'jean': 1359, 'vision': 1360, 'arthur': 1361, 'tie': 1362, 'roger': 1363, 'fortun': 1364, 'random': 1365, 'psycholog': 1366, 'dread': 1367, 'intern': 1368, 'epic': 1369, 'improv': 1370, 'prefer': 1371, 'nonsens': 1372, 'legend': 1373, 'highlight': 1374, 'pleasur': 1375, 'formula': 1376, 'tape': 1377, '11': 1378, 'dollar': 1379, 'fox': 1380, 'gorgeou': 1381, 'wide': 1382, 'object': 1383, 'thin': 1384, 'porn': 1385, 'buddi': 1386, 'ugli': 1387, 'influenc': 1388, 'prepar': 1389, 'nasti': 1390, 'ii': 1391, 'progress': 1392, 'supposedli': 1393, 'warm': 1394, 'reflect': 1395, 'worthi': 1396, 'youth': 1397, 'length': 1398, 'unusu': 1399, 'latter': 1400, 'crash': 1401, 'superior': 1402, 'shop': 1403, 'seven': 1404, 'childhood': 1405, 'remot': 1406, 'theatr': 1407, 'pilot': 1408, 'paid': 1409, 'disgust': 1410, 'funniest': 1411, 'convers': 1412, 'fell': 1413, 'castl': 1414, 'trick': 1415, 'disast': 1416, 'rob': 1417, 'establish': 1418, 'gangster': 1419, 'ident': 1420, 'mine': 1421, 'disappear': 1422, 'heaven': 1423, 'suicid': 1424, 'mask': 1425, 'tend': 1426, 'heroin': 1427, 'decis': 1428, 'singer': 1429, 'forgotten': 1430, 'brian': 1431, 'partner': 1432, 'alan': 1433, 'desert': 1434, 'recogn': 1435, 'ms': 1436, 'sky': 1437, 'stuck': 1438, 'p': 1439, 'thoroughli': 1440, 'replac': 1441, 'accur': 1442, 'market': 1443, 'commentari': 1444, 'danni': 1445, 'uncl': 1446, 'andi': 1447, 'clue': 1448, 'seemingli': 1449, 'eddi': 1450, 'jackson': 1451, 'devil': 1452, 'that': 1453, 'refus': 1454, 'pair': 1455, 'therefor': 1456, 'unit': 1457, 'ed': 1458, 'accid': 1459, 'fate': 1460, 'fault': 1461, 'river': 1462, 'tune': 1463, 'afraid': 1464, 'hidden': 1465, 'russian': 1466, 'stephen': 1467, 'clean': 1468, 'readi': 1469, 'captain': 1470, 'convey': 1471, 'instanc': 1472, 'irrit': 1473, 'test': 1474, 'quick': 1475, 'european': 1476, 'frustrat': 1477, 'insan': 1478, 'daniel': 1479, 'food': 1480, 'wed': 1481, '1950': 1482, 'chines': 1483, 'rescu': 1484, 'lock': 1485, 'dirti': 1486, 'angri': 1487, 'joy': 1488, 'steven': 1489, 'price': 1490, 'bland': 1491, 'cage': 1492, 'rang': 1493, 'anymor': 1494, 'wooden': 1495, 'rush': 1496, 'n': 1497, 'jason': 1498, 'news': 1499, 'twenti': 1500, 'worri': 1501, 'martial': 1502, 'led': 1503, 'board': 1504, '12': 1505, 'symbol': 1506, 'cgi': 1507, 'hunter': 1508, 'transform': 1509, 'piti': 1510, 'invent': 1511, 'johnni': 1512, 'sentiment': 1513, 'onto': 1514, 'x': 1515, 'explan': 1516, 'attitud': 1517, 'process': 1518, 'owner': 1519, 'awar': 1520, 'aim': 1521, 'energi': 1522, 'floor': 1523, 'favor': 1524, 'necessari': 1525, 'target': 1526, 'religi': 1527, 'opposit': 1528, 'chick': 1529, 'insight': 1530, 'blind': 1531, 'window': 1532, 'movement': 1533, 'comparison': 1534, 'mountain': 1535, 'research': 1536, 'possess': 1537, 'deepli': 1538, 'rain': 1539, 'grand': 1540, 'comed': 1541, 'whatsoev': 1542, 'bank': 1543, 'shadow': 1544, 'mid': 1545, 'began': 1546, 'princ': 1547, 'parodi': 1548, 'taylor': 1549, 'credibl': 1550, 'friendship': 1551, 'weapon': 1552, 'pre': 1553, 'teach': 1554, 'flesh': 1555, 'dougla': 1556, 'hint': 1557, 'terror': 1558, 'protect': 1559, 'bloodi': 1560, 'marvel': 1561, 'leader': 1562, 'accord': 1563, 'watchabl': 1564, 'load': 1565, 'drunk': 1566, 'superman': 1567, 'anybodi': 1568, 'freddi': 1569, 'brown': 1570, 'tim': 1571, 'hitler': 1572, 'appropri': 1573, 'seat': 1574, 'jeff': 1575, 'knock': 1576, 'unknown': 1577, 'villag': 1578, 'charg': 1579, 'keaton': 1580, 'enemi': 1581, 'england': 1582, 'empti': 1583, 'unnecessari': 1584, 'media': 1585, 'craft': 1586, 'strength': 1587, 'utter': 1588, 'dare': 1589, 'wave': 1590, 'buck': 1591, 'perspect': 1592, 'correct': 1593, 'contrast': 1594, 'kiss': 1595, 'ford': 1596, 'nativ': 1597, 'magnific': 1598, 'knowledg': 1599, 'chill': 1600, 'anywher': 1601, 'soap': 1602, 'distract': 1603, 'nazi': 1604, 'speed': 1605, 'mission': 1606, 'breath': 1607, '1980': 1608, 'fred': 1609, 'ice': 1610, 'jr': 1611, 'joan': 1612, 'crowd': 1613, 'moon': 1614, '000': 1615, 'soft': 1616, 'kate': 1617, 'frighten': 1618, 'hundr': 1619, 'nick': 1620, 'dan': 1621, 'dick': 1622, 'dozen': 1623, 'simon': 1624, 'radio': 1625, 'somebodi': 1626, 'shakespear': 1627, 'andrew': 1628, 'thousand': 1629, 'loss': 1630, 'academi': 1631, 'sum': 1632, 'root': 1633, 'vehicl': 1634, 'account': 1635, 'quot': 1636, '1970': 1637, 'behavior': 1638, 'leg': 1639, 'convent': 1640, 'regular': 1641, 'gold': 1642, 'worker': 1643, 'pretenti': 1644, 'demand': 1645, 'compet': 1646, 'notabl': 1647, 'japan': 1648, 'stretch': 1649, 'explos': 1650, 'interpret': 1651, 'candi': 1652, 'privat': 1653, 'lynch': 1654, 'debut': 1655, 'constant': 1656, 'tarzan': 1657, 'spi': 1658, 'translat': 1659, 'sea': 1660, 'revolv': 1661, 'prais': 1662, 'failur': 1663, 'quiet': 1664, 'ass': 1665, 'sat': 1666, 'threaten': 1667, 'technolog': 1668, 'franc': 1669, 'jesu': 1670, 'punch': 1671, 'toy': 1672, 'met': 1673, 'higher': 1674, 'aid': 1675, 'kevin': 1676, 'vh': 1677, 'interact': 1678, 'mike': 1679, 'abandon': 1680, 'command': 1681, 'bet': 1682, 'separ': 1683, 'confront': 1684, 'site': 1685, 'techniqu': 1686, 'servic': 1687, 'belong': 1688, 'gotten': 1689, 'recal': 1690, 'stunt': 1691, 'bug': 1692, 'foot': 1693, 'cabl': 1694, 'freak': 1695, 'fu': 1696, 'capabl': 1697, 'bright': 1698, 'african': 1699, 'jimmi': 1700, 'stock': 1701, 'succeed': 1702, 'presid': 1703, 'clark': 1704, 'fat': 1705, 'boat': 1706, 'spanish': 1707, 'structur': 1708, 'gene': 1709, 'kidnap': 1710, 'paper': 1711, 'factor': 1712, 'belief': 1713, 'whilst': 1714, 'realism': 1715, 'educ': 1716, 'tree': 1717, 'complic': 1718, 'witti': 1719, 'realis': 1720, 'bob': 1721, 'attend': 1722, 'finest': 1723, 'broken': 1724, 'santa': 1725, 'assist': 1726, 'up': 1727, 'depart': 1728, 'observ': 1729, 'determin': 1730, 'v': 1731, 'smoke': 1732, 'fame': 1733, 'routin': 1734, 'rubbish': 1735, 'oper': 1736, 'lewi': 1737, 'hat': 1738, 'domin': 1739, 'morgan': 1740, 'advanc': 1741, 'lone': 1742, 'hook': 1743, 'foreign': 1744, 'safe': 1745, 'kinda': 1746, 'numer': 1747, 'rank': 1748, 'shallow': 1749, 'rose': 1750, 'shape': 1751, 'washington': 1752, 'vs': 1753, 'civil': 1754, 'werewolf': 1755, 'gari': 1756, 'morn': 1757, 'accomplish': 1758, 'winner': 1759, 'kong': 1760, 'ordinari': 1761, 'whenev': 1762, 'grab': 1763, 'virtual': 1764, 'peac': 1765, 'luck': 1766, 'offens': 1767, 'h': 1768, 'bigger': 1769, 'patient': 1770, 'contriv': 1771, 'unfunni': 1772, 'complain': 1773, 'welcom': 1774, 'activ': 1775, 'trek': 1776, 'pretend': 1777, 'con': 1778, 'dimension': 1779, 'code': 1780, 'flash': 1781, 'lesbian': 1782, 'wake': 1783, 'dri': 1784, 'cain': 1785, 'eric': 1786, 'statu': 1787, 'albert': 1788, 'corrupt': 1789, 'guard': 1790, 'dancer': 1791, 'manipul': 1792, 'awkward': 1793, 'gain': 1794, 'context': 1795, 'sourc': 1796, 'speech': 1797, 'signific': 1798, 'anthoni': 1799, '13': 1800, 'sean': 1801, 'psycho': 1802, 'clip': 1803, 'corni': 1804, 'w': 1805, 'priest': 1806, 'theatric': 1807, 'reli': 1808, 'religion': 1809, 'advic': 1810, 'curiou': 1811, 'flow': 1812, 'addict': 1813, 'jennif': 1814, 'howard': 1815, 'secur': 1816, 'asian': 1817, 'skin': 1818, 'specif': 1819, 'golden': 1820, 'organ': 1821, 'core': 1822, 'comfort': 1823, 'luke': 1824, 'promot': 1825, 'cheat': 1826, 'cash': 1827, 'lucki': 1828, 'associ': 1829, 'lower': 1830, 'dislik': 1831, 'devic': 1832, 'spell': 1833, 'frankli': 1834, 'balanc': 1835, 'degre': 1836, 'regret': 1837, 'frequent': 1838, 'wing': 1839, 'contribut': 1840, 'print': 1841, 'sake': 1842, 'lake': 1843, 'forgiv': 1844, 'thoma': 1845, 'betti': 1846, 'mass': 1847, 'gordon': 1848, 'unexpect': 1849, 'crack': 1850, 'construct': 1851, 'amateur': 1852, 'invit': 1853, 'depend': 1854, 'grown': 1855, 'unfold': 1856, 'categori': 1857, 'grew': 1858, 'walter': 1859, 'condit': 1860, 'honor': 1861, 'intellectu': 1862, 'anna': 1863, 'matur': 1864, 'spectacular': 1865, 'sole': 1866, 'sudden': 1867, 'veteran': 1868, 'mirror': 1869, 'liner': 1870, 'experienc': 1871, 'demonstr': 1872, 'grip': 1873, 'overli': 1874, 'meanwhil': 1875, 'card': 1876, 'freedom': 1877, 'gift': 1878, 'robin': 1879, 'colour': 1880, 'brilliantli': 1881, 'crappi': 1882, 'sheriff': 1883, 'subtitl': 1884, 'unabl': 1885, 'section': 1886, 'oliv': 1887, 'circumst': 1888, 'drew': 1889, 'theori': 1890, 'laughter': 1891, 'cook': 1892, 'matt': 1893, 'altern': 1894, 'path': 1895, 'pile': 1896, 'parker': 1897, 'sheer': 1898, 'treatment': 1899, 'accident': 1900, 'wander': 1901, 'defin': 1902, 'relief': 1903, 'sinatra': 1904, 'lawyer': 1905, 'hall': 1906, 'captiv': 1907, 'hank': 1908, 'dragon': 1909, 'gratuit': 1910, 'moor': 1911, 'halloween': 1912, 'kung': 1913, 'unintent': 1914, 'k': 1915, 'cowboy': 1916, 'jacki': 1917, 'broadway': 1918, 'wayn': 1919, 'wound': 1920, 'barbara': 1921, 'canadian': 1922, 'surreal': 1923, 'spoof': 1924, 'statement': 1925, 'winter': 1926, 'compos': 1927, 'cheer': 1928, 'gonna': 1929, 'fare': 1930, 'fish': 1931, 'treasur': 1932, 'sensit': 1933, 'unrealist': 1934, 'woodi': 1935, 'victor': 1936, 'emerg': 1937, 'driven': 1938, 'ran': 1939, 'neighbor': 1940, 'sympathet': 1941, 'topic': 1942, 'glass': 1943, 'authent': 1944, 'overlook': 1945, 'expos': 1946, 'menac': 1947, 'gross': 1948, 'michel': 1949, 'handsom': 1950, 'ancient': 1951, 'chief': 1952, 'contemporari': 1953, 'comedian': 1954, 'built': 1955, 'stranger': 1956, 'nevertheless': 1957, 'network': 1958, 'cinderella': 1959, 'pleasant': 1960, 'feet': 1961, 'russel': 1962, 'endless': 1963, 'earn': 1964, 'underr': 1965, 'blockbust': 1966, 'consider': 1967, 'letter': 1968, 'miser': 1969, 'gori': 1970, 'brook': 1971, 'solv': 1972, 'switch': 1973, 'edward': 1974, 'joseph': 1975, 'convict': 1976, 'virgin': 1977, 'bullet': 1978, 'victoria': 1979, 'scenario': 1980, '0': 1981, 'alex': 1982, 'chosen': 1983, 'cynic': 1984, 'scale': 1985, 'outrag': 1986, 'gut': 1987, 'curs': 1988, 'com': 1989, 'sword': 1990, 'wrap': 1991, 'substanc': 1992, 'driver': 1993, 'juli': 1994, 'uk': 1995, 'screenwrit': 1996, 'monkey': 1997, 'proper': 1998, 'par': 1999, 'remov': 2000, 'bird': 2001, 'court': 2002, 'indic': 2003, 'advertis': 2004, 'inevit': 2005, 'naiv': 2006, 'consequ': 2007, 'loser': 2008, 'grave': 2009, 'roy': 2010, 'nanci': 2011, 'rental': 2012, 'fatal': 2013, 'le': 2014, 'bridg': 2015, 'brave': 2016, 'slap': 2017, 'invis': 2018, 'germani': 2019, 'anger': 2020, 'footbal': 2021, 'loui': 2022, 'ador': 2023, 'provok': 2024, 'alcohol': 2025, 'anderson': 2026, 'chan': 2027, 'willi': 2028, 'stumbl': 2029, 'ryan': 2030, 'professor': 2031, 'assassin': 2032, 'patrick': 2033, 'sharp': 2034, '1930': 2035, 'bat': 2036, 'australian': 2037, 'trilog': 2038, 'lousi': 2039, 'heck': 2040, 'liber': 2041, 'amateurish': 2042, 'cell': 2043, 'refresh': 2044, 'deni': 2045, 'saturday': 2046, 'ape': 2047, 'eight': 2048, 'strongli': 2049, 'sin': 2050, 'justifi': 2051, 'san': 2052, 'vagu': 2053, 'resid': 2054, 'creator': 2055, 'reput': 2056, 'defeat': 2057, 'sympathi': 2058, 'mini': 2059, 'indi': 2060, 'terrifi': 2061, 'tediou': 2062, 'tabl': 2063, 'expert': 2064, 'prevent': 2065, 'task': 2066, 'endur': 2067, 'basebal': 2068, 'employ': 2069, 'rival': 2070, 'imit': 2071, 'trial': 2072, 'offend': 2073, 'che': 2074, 'europ': 2075, 'beach': 2076, 'complaint': 2077, 'weekend': 2078, 'fairi': 2079, 'dig': 2080, 'pitch': 2081, 'max': 2082, 'purchas': 2083, 'format': 2084, 'murphi': 2085, 'risk': 2086, 'nois': 2087, 'harsh': 2088, 'bite': 2089, 'powel': 2090, 'tini': 2091, 'glimps': 2092, 'reminisc': 2093, 'hype': 2094, 'titan': 2095, '14': 2096, 'strip': 2097, 'asleep': 2098, 'till': 2099, 'fals': 2100, 'prime': 2101, 'north': 2102, 'revel': 2103, 'destruct': 2104, 'descript': 2105, 'africa': 2106, 'texa': 2107, 'excess': 2108, 'uninterest': 2109, 'surfac': 2110, 'inner': 2111, 'spin': 2112, 'arrest': 2113, 'sitcom': 2114, 'semi': 2115, 'massiv': 2116, 'twin': 2117, 'makeup': 2118, 'argu': 2119, 'maintain': 2120, 'controversi': 2121, 'hitchcock': 2122, 'dinosaur': 2123, 'kim': 2124, 'ludicr': 2125, 'melodrama': 2126, 'ideal': 2127, 'reject': 2128, 'insist': 2129, 'expens': 2130, 'stare': 2131, 'ala': 2132, 'press': 2133, 'erot': 2134, 'forest': 2135, 'subplot': 2136, 'columbo': 2137, 'host': 2138, 'supernatur': 2139, 'atroci': 2140, 'ga': 2141, 'nail': 2142, 'identifi': 2143, 'notch': 2144, 'presum': 2145, 'dude': 2146, 'cant': 2147, 'character': 2148, 'guest': 2149, 'crude': 2150, 'method': 2151, 'closer': 2152, 'plagu': 2153, 'forgett': 2154, 'princess': 2155, 'ear': 2156, 'border': 2157, 'lion': 2158, 'landscap': 2159, 'beast': 2160, 'foster': 2161, 'accus': 2162, 'previous': 2163, 'bound': 2164, 'damag': 2165, 'aunt': 2166, 'storytel': 2167, 'birth': 2168, 'urban': 2169, 'jungl': 2170, 'pacino': 2171, 'doll': 2172, 'jess': 2173, 'thirti': 2174, 'chose': 2175, 'propaganda': 2176, 'guid': 2177, 'nude': 2178, 'emma': 2179, 'whoever': 2180, 'mainstream': 2181, '25': 2182, 'warrior': 2183, 'pet': 2184, 'mate': 2185, 'merit': 2186, 'friday': 2187, 'deadli': 2188, 'exact': 2189, 'poster': 2190, 'cooper': 2191, 'upset': 2192, 'latest': 2193, 'gritti': 2194, 'size': 2195, '1990': 2196, 'buff': 2197, 'blend': 2198, 'rough': 2199, 'contact': 2200, 'popul': 2201, 'warner': 2202, 'citizen': 2203, 'wilson': 2204, 'sun': 2205, 'contest': 2206, 'ton': 2207, 'settl': 2208, 'corps': 2209, 'environ': 2210, 'alic': 2211, 'pitt': 2212, 'select': 2213, 'widow': 2214, 'mgm': 2215, 'overcom': 2216, 'bu': 2217, 'metal': 2218, 'rat': 2219, 'particip': 2220, 'guilti': 2221, 'ted': 2222, 'lift': 2223, 'revolut': 2224, 'link': 2225, '1960': 2226, 'accompani': 2227, 'exagger': 2228, 'johnson': 2229, 'prostitut': 2230, 'matrix': 2231, 'corpor': 2232, 'corner': 2233, 'moron': 2234, 'afternoon': 2235, 'instal': 2236, 'clair': 2237, 'multipl': 2238, 'doom': 2239, 'leagu': 2240, 'friendli': 2241, 'sincer': 2242, 'hood': 2243, 'holm': 2244, 'defend': 2245, 'irish': 2246, 'advis': 2247, 'junk': 2248, 'examin': 2249, 'grim': 2250, 'sunday': 2251, 'campi': 2252, 'aka': 2253, 'hip': 2254, 'lugosi': 2255, 'string': 2256, 'blah': 2257, 'varieti': 2258, 'icon': 2259, 'rachel': 2260, 'shut': 2261, 'pro': 2262, 'shake': 2263, 'tight': 2264, 'confid': 2265, 'denni': 2266, 'directli': 2267, 'goal': 2268, 'medic': 2269, 'jaw': 2270, 'mexican': 2271, 'attach': 2272, 'sullivan': 2273, 'prior': 2274, 'sentenc': 2275, 'bourn': 2276, 'terrorist': 2277, 'truck': 2278, 'duke': 2279, 'vietnam': 2280, 'dean': 2281, 'breast': 2282, 'courag': 2283, 'legendari': 2284, 'sarah': 2285, 'nose': 2286, 'split': 2287, 'proceed': 2288, 'un': 2289, 'hong': 2290, 'entri': 2291, 'donald': 2292, 'behav': 2293, 'yell': 2294, 'gather': 2295, 'borrow': 2296, 'crush': 2297, 'unconvinc': 2298, 'confess': 2299, 'forth': 2300, 'everywher': 2301, 'stolen': 2302, 'concentr': 2303, 'jerk': 2304, 'lifetim': 2305, 'buri': 2306, 'swim': 2307, 'julia': 2308, 'california': 2309, 'lip': 2310, 'turkey': 2311, 'spite': 2312, 'deliveri': 2313, 'pan': 2314, 'freeman': 2315, 'proud': 2316, 'downright': 2317, 'quest': 2318, 'flight': 2319, 'china': 2320, 'hoffman': 2321, 'offici': 2322, 'reward': 2323, 'fade': 2324, 'sink': 2325, 'lazi': 2326, 'notori': 2327, 'jail': 2328, 'sir': 2329, 'betray': 2330, 'inept': 2331, 'encourag': 2332, 'fabul': 2333, 'jon': 2334, 'worthwhil': 2335, 'relev': 2336, 'susan': 2337, 'cousin': 2338, 'shower': 2339, 'imageri': 2340, 'bag': 2341, 'bell': 2342, 'retard': 2343, 'storm': 2344, 'lisa': 2345, 'survivor': 2346, 'teeth': 2347, 'branagh': 2348, 'shark': 2349, 'tremend': 2350, 'hugh': 2351, 'trade': 2352, 'summari': 2353, 'facial': 2354, 'toler': 2355, 'alright': 2356, 'mexico': 2357, 'bride': 2358, 'stab': 2359, 'finger': 2360, 'quirki': 2361, 'pose': 2362, 'ha': 2363, 'hyster': 2364, 'von': 2365, 'blown': 2366, 'bitter': 2367, 'christ': 2368, 'scheme': 2369, 'larri': 2370, 'bone': 2371, 'ron': 2372, 'afterward': 2373, 'cruel': 2374, 'address': 2375, 'ned': 2376, 'screw': 2377, 'swear': 2378, 'feed': 2379, 'tour': 2380, 'beg': 2381, 'snake': 2382, 'distinct': 2383, 'pursu': 2384, 'traci': 2385, 'thumb': 2386, 'chair': 2387, 'obscur': 2388, 'raw': 2389, 'photo': 2390, 'stomach': 2391, 'occas': 2392, 'mechan': 2393, 'heavili': 2394, 'hardi': 2395, 'sidney': 2396, 'gruesom': 2397, 'resist': 2398, 'necessarili': 2399, 'render': 2400, 'holiday': 2401, 'argument': 2402, 'southern': 2403, 'cabin': 2404, 'chain': 2405, 'satan': 2406, 'racist': 2407, 'understood': 2408, 'philip': 2409, 'indulg': 2410, 'india': 2411, 'outfit': 2412, 'fourth': 2413, 'integr': 2414, 'tongu': 2415, 'forgot': 2416, 'obnoxi': 2417, 'pregnant': 2418, 'lay': 2419, 'midnight': 2420, 'stalk': 2421, 'belov': 2422, 'deeper': 2423, 'carol': 2424, 'slapstick': 2425, 'magazin': 2426, 'ticket': 2427, 'garden': 2428, 'inhabit': 2429, '17': 2430, 'restor': 2431, 'brad': 2432, 'devot': 2433, 'shoe': 2434, 'lincoln': 2435, 'incid': 2436, 'elizabeth': 2437, 'maria': 2438, 'disbelief': 2439, 'divorc': 2440, 'underground': 2441, 'benefit': 2442, 'guarante': 2443, 'lili': 2444, 'anticip': 2445, 'sandler': 2446, 'bbc': 2447, 'slave': 2448, 'explod': 2449, 'greater': 2450, 'princip': 2451, 'amazingli': 2452, 'creation': 2453, 'cring': 2454, 'capit': 2455, 'mildli': 2456, 'halfway': 2457, 'lesli': 2458, 'extraordinari': 2459, 'funnier': 2460, 'introduct': 2461, 'transfer': 2462, 'text': 2463, 'overwhelm': 2464, 'punish': 2465, 'advantag': 2466, 'wreck': 2467, 'tap': 2468, 'enhanc': 2469, 'extent': 2470, 'plant': 2471, 'error': 2472, 'lane': 2473, 'horrif': 2474, 'deliber': 2475, 'east': 2476, 'dynam': 2477, 'jessica': 2478, 'lo': 2479, 'preview': 2480, 'appli': 2481, 'miller': 2482, 'ensu': 2483, '2000': 2484, 'basi': 2485, 'miscast': 2486, 'sophist': 2487, 'vacat': 2488, 'homosexu': 2489, 'vincent': 2490, 'extend': 2491, 'uncomfort': 2492, 'steel': 2493, 'bollywood': 2494, 'elev': 2495, 'spoken': 2496, 'mansion': 2497, 'measur': 2498, 'sleazi': 2499, 'reed': 2500, 'via': 2501, 'mous': 2502, 'conceiv': 2503, 'beer': 2504, 'hippi': 2505, 'breathtak': 2506, 'fix': 2507, 'cathol': 2508, 'dentist': 2509, 'assign': 2510, 'alter': 2511, 'stanley': 2512, 'daili': 2513, 'melt': 2514, 'overact': 2515, 'blair': 2516, 'goofi': 2517, 'savag': 2518, 'subsequ': 2519, 'properli': 2520, 'inspector': 2521, 'burt': 2522, 'sacrific': 2523, 'oppos': 2524, 'succe': 2525, 'nowaday': 2526, 'carpent': 2527, 'everyday': 2528, 'circl': 2529, 'block': 2530, 'laura': 2531, 'massacr': 2532, 'neck': 2533, 'mob': 2534, 'seagal': 2535, 'lesser': 2536, 'grey': 2537, 'fay': 2538, 'access': 2539, 'concert': 2540, 'fallen': 2541, 'pool': 2542, 'portrait': 2543, 'christi': 2544, 'sinist': 2545, 'react': 2546, 'competit': 2547, 'chees': 2548, 'usa': 2549, 'relax': 2550, 'jewish': 2551, 'isol': 2552, 'jake': 2553, 'lyric': 2554, '2006': 2555, 'spiritu': 2556, 'nine': 2557, 'suitabl': 2558, 'stink': 2559, 'chop': 2560, 'ironi': 2561, 'creep': 2562, 'immens': 2563, 'appal': 2564, 'nonetheless': 2565, 'needless': 2566, 'franchis': 2567, 'navi': 2568, 'rage': 2569, 'shirt': 2570, 'sold': 2571, 'adopt': 2572, 'reduc': 2573, 'spring': 2574, 'user': 2575, 'nut': 2576, 'showcas': 2577, 'retir': 2578, 'luci': 2579, 'digit': 2580, 'nurs': 2581, 'zone': 2582, 'bulli': 2583, 'per': 2584, 'uninspir': 2585, 'bath': 2586, 'jay': 2587, 'asham': 2588, 'stanwyck': 2589, 'illustr': 2590, '1940': 2591, 'oddli': 2592, 'broadcast': 2593, 'upper': 2594, 'amongst': 2595, '2001': 2596, 'laid': 2597, 'sutherland': 2598, 'brando': 2599, 'baker': 2600, 'aspir': 2601, 'disguis': 2602, 'fulfil': 2603, 'throat': 2604, 'stylish': 2605, '18': 2606, 'pound': 2607, 'wwii': 2608, 'wanna': 2609, 'endear': 2610, 'neighborhood': 2611, 'pride': 2612, 'nobl': 2613, 'em': 2614, 'impli': 2615, 'thief': 2616, 'distribut': 2617, 'bett': 2618, 'cinematograph': 2619, '16': 2620, 'albeit': 2621, 'coher': 2622, 'prop': 2623, 'rochest': 2624, 'diseas': 2625, 'dinner': 2626, 'tens': 2627, 'bo': 2628, 'shoulder': 2629, 'dawn': 2630, 'shift': 2631, 'matthau': 2632, 'silenc': 2633, 'wash': 2634, 'shout': 2635, 'function': 2636, 'contract': 2637, 'forti': 2638, 'poignant': 2639, 'knife': 2640, 'surf': 2641, 'snow': 2642, 'rebel': 2643, 'eeri': 2644, 'heat': 2645, 'chuck': 2646, 'duti': 2647, 'silver': 2648, 'internet': 2649, 'cancel': 2650, 'proof': 2651, 'henc': 2652, 'reunion': 2653, 'horrend': 2654, 'cannib': 2655, 'height': 2656, 'instinct': 2657, 'derek': 2658, 'widmark': 2659, 'mindless': 2660, 'elvira': 2661, 'repetit': 2662, 'alik': 2663, 'neat': 2664, 'musician': 2665, 'pie': 2666, 'mill': 2667, 'spielberg': 2668, 'torn': 2669, 'etern': 2670, 'absorb': 2671, 'glori': 2672, 'premier': 2673, 'greatli': 2674, 'innov': 2675, 'elvi': 2676, 'incoher': 2677, 'homag': 2678, 'trite': 2679, 'infam': 2680, 'bang': 2681, 'burton': 2682, 'itali': 2683, 'britain': 2684, 'lovabl': 2685, 'redempt': 2686, 'racism': 2687, 'precis': 2688, 'nelson': 2689, 'crisi': 2690, 'wealthi': 2691, 'blank': 2692, 'horrifi': 2693, 'fbi': 2694, 'announc': 2695, 'diamond': 2696, 'happili': 2697, 'flop': 2698, 'helen': 2699, 'parallel': 2700, 'pat': 2701, 'dedic': 2702, 'chaplin': 2703, 'hammer': 2704, 'resolut': 2705, 'ensembl': 2706, 'wilder': 2707, 'streisand': 2708, 'broke': 2709, 'triumph': 2710, 'st': 2711, 'conclud': 2712, 'oil': 2713, 'cube': 2714, 'factori': 2715, 'carter': 2716, 'disagre': 2717, 'mar': 2718, 'plastic': 2719, 'vega': 2720, 'own': 2721, 'march': 2722, 'chuckl': 2723, 'weight': 2724, 'row': 2725, 'climb': 2726, 'fighter': 2727, 'rocket': 2728, 'bush': 2729, 'boot': 2730, 'unforgett': 2731, 'wherea': 2732, 'mst3k': 2733, 'enorm': 2734, 'dump': 2735, 'dane': 2736, 'meaning': 2737, 'sensibl': 2738, 'thug': 2739, 'spare': 2740, 'lust': 2741, 'kurt': 2742, 'luca': 2743, 'threat': 2744, 'engin': 2745, 'brand': 2746, 'adequ': 2747, 'difficulti': 2748, 'butt': 2749, 'dear': 2750, 'caricatur': 2751, 'rap': 2752, 'stress': 2753, 'fifti': 2754, 'karloff': 2755, 'bobbi': 2756, 'arnold': 2757, 'journalist': 2758, 'secretari': 2759, 'swing': 2760, 'arrog': 2761, 'homeless': 2762, 'fest': 2763, 'elabor': 2764, 'ego': 2765, 'ralph': 2766, 'barri': 2767, 'polish': 2768, 'flynn': 2769, 'hamlet': 2770, 'induc': 2771, 'arrang': 2772, 'resort': 2773, 'grate': 2774, 'unbear': 2775, 'simpson': 2776, 'tool': 2777, 'float': 2778, 'conspiraci': 2779, 'fanci': 2780, 'spike': 2781, 'puppet': 2782, 'exercis': 2783, 'tribut': 2784, 'choreograph': 2785, 'cruis': 2786, 'guilt': 2787, 'boll': 2788, 'basement': 2789, 'muppet': 2790, 'pig': 2791, 'phillip': 2792, 'medium': 2793, 'fianc': 2794, 'item': 2795, 'korean': 2796, 'ham': 2797, 'stan': 2798, 'editor': 2799, 'babe': 2800, 'tower': 2801, 'puzzl': 2802, 'document': 2803, 'toilet': 2804, 'slip': 2805, '24': 2806, 'file': 2807, 'ward': 2808, 'layer': 2809, 'scarecrow': 2810, 'glover': 2811, 'philosoph': 2812, 'superfici': 2813, 'slaughter': 2814, 'catherin': 2815, 'minim': 2816, 'librari': 2817, 'transit': 2818, 'portion': 2819, 'assur': 2820, 'territori': 2821, 'persona': 2822, 'denzel': 2823, 'spark': 2824, 'larger': 2825, 'inexplic': 2826, 'orient': 2827, 'doc': 2828, 'curti': 2829, 'shi': 2830, 'dorothi': 2831, 'owe': 2832, 'boredom': 2833, 'financi': 2834, 'ban': 2835, 'jeremi': 2836, 'sneak': 2837, 'wolf': 2838, 'pg': 2839, 'walken': 2840, 'jet': 2841, 'metaphor': 2842, 'cusack': 2843, 'backdrop': 2844, 'whale': 2845, 'eleph': 2846, 'hudson': 2847, 'multi': 2848, 'profound': 2849, 'ambigu': 2850, 'hack': 2851, '2005': 2852, 'stiff': 2853, 'notion': 2854, 'ultra': 2855, 'birthday': 2856, 'rave': 2857, 'implaus': 2858, 'viru': 2859, 'gadget': 2860, 'union': 2861, 'elsewher': 2862, 'distanc': 2863, 'canada': 2864, '1st': 2865, 'newspap': 2866, 'lloyd': 2867, 'bibl': 2868, 'afford': 2869, 'deriv': 2870, 'slight': 2871, 'reader': 2872, 'hawk': 2873, 'disc': 2874, 'pad': 2875, 'eva': 2876, 'superhero': 2877, 'eastwood': 2878, 'poison': 2879, 'squar': 2880, 'urg': 2881, 'drown': 2882, 'montag': 2883, 'charisma': 2884, 'button': 2885, 'spread': 2886, 'essenc': 2887, 'sadist': 2888, 'restaur': 2889, 'health': 2890, 'huh': 2891, 'skit': 2892, 'cure': 2893, 'heston': 2894, 'scoobi': 2895, 'estat': 2896, 'godfath': 2897, 'peak': 2898, 'dealt': 2899, 'invest': 2900, 'fetch': 2901, 'muslim': 2902, 'companion': 2903, 'gradual': 2904, 'maniac': 2905, 'lab': 2906, 'cup': 2907, 'tea': 2908, 'gothic': 2909, 'countless': 2910, 'ritter': 2911, 'subtleti': 2912, 'kane': 2913, 'servant': 2914, 'alli': 2915, 'miik': 2916, 'salli': 2917, 'heroic': 2918, 'charismat': 2919, 'electr': 2920, 'briefli': 2921, 'elect': 2922, 'iii': 2923, 'toss': 2924, 'neil': 2925, 'reel': 2926, 'cole': 2927, 'resourc': 2928, 'tender': 2929, 'admittedli': 2930, 'wannab': 2931, 'grandmoth': 2932, 'ingredi': 2933, 'bud': 2934, 'nuanc': 2935, 'poverti': 2936, 'mafia': 2937, 'stood': 2938, 'stronger': 2939, 'label': 2940, 'punk': 2941, 'mild': 2942, 'kubrick': 2943, 'gate': 2944, 'reev': 2945, 'shall': 2946, 'carrey': 2947, 'pauli': 2948, 'pit': 2949, 'dawson': 2950, 'outcom': 2951, 'burst': 2952, 'useless': 2953, 'smooth': 2954, 'easier': 2955, 'tag': 2956, 'assault': 2957, 'cardboard': 2958, 'bakshi': 2959, 'smash': 2960, 'fond': 2961, 'updat': 2962, 'astair': 2963, 'terri': 2964, 'ian': 2965, 'cox': 2966, 'vari': 2967, 'sketch': 2968, 'vulner': 2969, 'coincid': 2970, 'increasingli': 2971, 'divers': 2972, '2002': 2973, 'exchang': 2974, 'resolv': 2975, 'samurai': 2976, 'qualifi': 2977, 'melodramat': 2978, 'fist': 2979, 'rex': 2980, 'be': 2981, 'conveni': 2982, 'insert': 2983, 'reynold': 2984, 'brillianc': 2985, 'luckili': 2986, 'tame': 2987, 'scratch': 2988, 'templ': 2989, 'suspend': 2990, 'blast': 2991, 'gotta': 2992, 'jami': 2993, 'coach': 2994, 'strictli': 2995, 'soprano': 2996, 'pin': 2997, 'nuclear': 2998, 'hamilton': 2999, 'matthew': 3000, 'ambiti': 3001, 'farm': 3002, 'seventi': 3003, 'fisher': 3004, 'meat': 3005, 'walker': 3006, 'worthless': 3007, 'discoveri': 3008, 'cave': 3009, 'eccentr': 3010, 'timeless': 3011, 'revers': 3012, 'struck': 3013, 'spooki': 3014, 'brosnan': 3015, 'instantli': 3016, 'closet': 3017, 'kudo': 3018, 'joey': 3019, 'monk': 3020, 'convolut': 3021, 'butcher': 3022, 'clock': 3023, 'empir': 3024, 'grasp': 3025, 'recreat': 3026, 'ninja': 3027, 'cliff': 3028, 'eighti': 3029, 'fifteen': 3030, 'importantli': 3031, 'evok': 3032, 'seller': 3033, 'clown': 3034, 'selfish': 3035, 'pal': 3036, 'norman': 3037, 'partli': 3038, 'bleak': 3039, 'declar': 3040, 'wipe': 3041, 'mitchel': 3042, 'sloppi': 3043, 'sidekick': 3044, 'inconsist': 3045, 'miracl': 3046, 'gray': 3047, 'communist': 3048, 'debat': 3049, 'enthusiast': 3050, 'superbl': 3051, 'websit': 3052, 'ho': 3053, 'piano': 3054, 'lifestyl': 3055, 'farc': 3056, 'flawless': 3057, 'seed': 3058, 'stoog': 3059, 'psychiatrist': 3060, 'aforement': 3061, 'australia': 3062, '45': 3063, 'chew': 3064, 'cheek': 3065, 'destin': 3066, 'regardless': 3067, 'kitchen': 3068, 'dire': 3069, 'soviet': 3070, 'abc': 3071, 'wrestl': 3072, 'directori': 3073, 'dash': 3074, 'drivel': 3075, 'bash': 3076, 'wick': 3077, 'akshay': 3078, 'pressur': 3079, 'emili': 3080, 'slice': 3081, 'incompet': 3082, 'splatter': 3083, 'anni': 3084, 'doo': 3085, 'prize': 3086, 'increas': 3087, 'dave': 3088, 'distant': 3089, 'helicopt': 3090, 'recov': 3091, 'suppli': 3092, 'artifici': 3093, 'duo': 3094, 'flower': 3095, 'seduc': 3096, 'curios': 3097, 'boil': 3098, 'pleasantli': 3099, 'cagney': 3100, 'ken': 3101, 'chapter': 3102, 'beaten': 3103, 'glow': 3104, 'lou': 3105, 'blob': 3106, 'cameron': 3107, 'judi': 3108, 'cia': 3109, 'jar': 3110, 'mann': 3111, 'combat': 3112, 'splendid': 3113, 'ellen': 3114, 'psychot': 3115, 'eleg': 3116, 'laurel': 3117, 'panic': 3118, 'goldberg': 3119, 'craig': 3120, 'perri': 3121, 'glenn': 3122, 'craven': 3123, 'francisco': 3124, 'favour': 3125, 'drunken': 3126, 'hop': 3127, 'web': 3128, 'ranger': 3129, 'turner': 3130, 'modesti': 3131, 'alexand': 3132, 'shortli': 3133, 'flip': 3134, 'wizard': 3135, 'plausibl': 3136, '20th': 3137, 'philosophi': 3138, 'graduat': 3139, 'rid': 3140, 'min': 3141, 'ruth': 3142, 'slightest': 3143, 'hatr': 3144, 'greek': 3145, 'gentl': 3146, 'falk': 3147, 'gandhi': 3148, 'fx': 3149, 'lend': 3150, 'preciou': 3151, 'futurist': 3152, 'knight': 3153, 'unpleas': 3154, 'ocean': 3155, 'holi': 3156, 'felix': 3157, 'dracula': 3158, 'we': 3159, 'legal': 3160, 'tall': 3161, 'jealou': 3162, 'harm': 3163, 'manhattan': 3164, 'fund': 3165, 'tank': 3166, 'forbidden': 3167, 'overdon': 3168, 'childish': 3169, 'reviv': 3170, 'explicit': 3171, 'scientif': 3172, 'nod': 3173, 'bless': 3174, 'ami': 3175, 'thread': 3176, 'mock': 3177, 'digniti': 3178, 'giallo': 3179, 'unwatch': 3180, 'awaken': 3181, 'mel': 3182, 'yesterday': 3183, '99': 3184, 'awe': 3185, 'thick': 3186, '2004': 3187, 'elderli': 3188, 'pirat': 3189, 'fever': 3190, 'verhoeven': 3191, 'repeatedli': 3192, 'margaret': 3193, 'nerv': 3194, 'eve': 3195, 'broad': 3196, 'torment': 3197, 'acclaim': 3198, 'royal': 3199, 'roman': 3200, 'bin': 3201, 'timothi': 3202, 'custom': 3203, 'publish': 3204, 'uniform': 3205, 'eas': 3206, 'politician': 3207, 'absenc': 3208, 'rivet': 3209, 'ah': 3210, 'automat': 3211, 'launch': 3212, 'kay': 3213, 'romero': 3214, 'lean': 3215, 'stiller': 3216, 'ambit': 3217, 'griffith': 3218, 'crook': 3219, 'darker': 3220, 'antic': 3221, 'purpl': 3222, 'bathroom': 3223, 'wallac': 3224, 'phrase': 3225, 'termin': 3226, 'pierc': 3227, 'sunshin': 3228, 'homicid': 3229, 'pulp': 3230, 'stinker': 3231, 'tomato': 3232, 'warren': 3233, 'foul': 3234, 'gabriel': 3235, 'transport': 3236, 'coloni': 3237, 'revolutionari': 3238, 'eyr': 3239, 'viciou': 3240, 'marin': 3241, 'ought': 3242, '2003': 3243, 'saint': 3244, 'contrari': 3245, 'pray': 3246, 'album': 3247, 'hollow': 3248, 'juvenil': 3249, 'choreographi': 3250, 'brazil': 3251, 'q': 3252, 'rambo': 3253, 'packag': 3254, 'horrid': 3255, 'kenneth': 3256, 'donna': 3257, 'evolv': 3258, 'awak': 3259, 'karen': 3260, 'li': 3261, 'prom': 3262, 'sixti': 3263, 'conserv': 3264, 'overr': 3265, 'defi': 3266, 'dose': 3267, 'twelv': 3268, 'mummi': 3269, 'nerd': 3270, 'blade': 3271, 'boast': 3272, 'stole': 3273, 'kapoor': 3274, 'option': 3275, 'candid': 3276, 'ireland': 3277, 'beatti': 3278, 'ramon': 3279, 'mildr': 3280, 'kirk': 3281, 'detract': 3282, 'natali': 3283, 'confirm': 3284, 'trio': 3285, 'funer': 3286, 'flame': 3287, 'collabor': 3288, 'astonish': 3289, 'protest': 3290, 'global': 3291, 'fulci': 3292, 'jazz': 3293, 'altman': 3294, 'nicholson': 3295, 'audio': 3296, 'enterpris': 3297, 'spit': 3298, 'yellow': 3299, 'bottl': 3300, 'destini': 3301, 'delici': 3302, 'tommi': 3303, 'racial': 3304, 'leap': 3305, 'bull': 3306, 'blake': 3307, 'whip': 3308, 'shade': 3309, 'mystic': 3310, 'altogeth': 3311, 'inherit': 3312, 'meaningless': 3313, 'enchant': 3314, 'adolesc': 3315, 'harder': 3316, 'swedish': 3317, 'fonda': 3318, 'staff': 3319, 'popcorn': 3320, 'merci': 3321, 'bedroom': 3322, 'threw': 3323, 'vivid': 3324, 'pseudo': 3325, 'reunit': 3326, 'visibl': 3327, 'neo': 3328, 'todd': 3329, 'fanat': 3330, 'befriend': 3331, 'bust': 3332, 'crocodil': 3333, 'synopsi': 3334, 'lemmon': 3335, 'moodi': 3336, 'exhibit': 3337, 'roommat': 3338, 'ruthless': 3339, 'voight': 3340, 'edi': 3341, 'wire': 3342, 'leonard': 3343, 'decor': 3344, 'madonna': 3345, 'tip': 3346, 'uneven': 3347, 'lawrenc': 3348, 'await': 3349, 'jew': 3350, 'atlanti': 3351, 'kennedi': 3352, 'respond': 3353, 'suspici': 3354, 'reserv': 3355, '2007': 3356, 'bold': 3357, 'centr': 3358, 'dimens': 3359, 'incident': 3360, 'bradi': 3361, 'holli': 3362, 'clumsi': 3363, 'unsettl': 3364, 'abysm': 3365, 'bargain': 3366, 'ventur': 3367, 'carl': 3368, 'audit': 3369, 'rural': 3370, 'palma': 3371, 'clint': 3372, 'chao': 3373, 'voyag': 3374, 'garner': 3375, 'imperson': 3376, 'ant': 3377, '2nd': 3378, 'lit': 3379, 'neglect': 3380, 'humili': 3381, 'hart': 3382, 'cari': 3383, 'versu': 3384, 'tiger': 3385, 'troop': 3386, 'acknowledg': 3387, 'daddi': 3388, 'echo': 3389, 'immigr': 3390, 'cuba': 3391, 'nearbi': 3392, 'mall': 3393, 'poetic': 3394, 'trail': 3395, 'characterist': 3396, 'wealth': 3397, 'elimin': 3398, 'cd': 3399, 'timon': 3400, 'mistaken': 3401, 'paus': 3402, 'pun': 3403, 'domest': 3404, 'infect': 3405, 'prejudic': 3406, 'marshal': 3407, 'mickey': 3408, 'celluloid': 3409, 'saga': 3410, 'jeffrey': 3411, 'homer': 3412, 'repuls': 3413, 'solo': 3414, 'collaps': 3415, 'undoubtedli': 3416, 'coffe': 3417, 'apolog': 3418, 'inan': 3419, 'equip': 3420, 'cake': 3421, 'chest': 3422, 'assembl': 3423, 'leon': 3424, 'milk': 3425, 'tribe': 3426, 'gear': 3427, 'sore': 3428, 'coat': 3429, 'pant': 3430, 'olivi': 3431, 'interrupt': 3432, 'ginger': 3433, '1996': 3434, 'hbo': 3435, 'inappropri': 3436, 'harvey': 3437, 'promin': 3438, 'jenni': 3439, 'embrac': 3440, 'pen': 3441, 'exot': 3442, 'solut': 3443, 'instant': 3444, 'vulgar': 3445, 'pot': 3446, 'aveng': 3447, 'airplan': 3448, 'primari': 3449, 'trace': 3450, 'colonel': 3451, 'furthermor': 3452, 'brooklyn': 3453, 'colleagu': 3454, 'humbl': 3455, 'consum': 3456, 'retain': 3457, 'maggi': 3458, 'devast': 3459, 'institut': 3460, 'polanski': 3461, 'florida': 3462, 'highest': 3463, 'illog': 3464, '3rd': 3465, 'outer': 3466, 'cope': 3467, '1999': 3468, 'dian': 3469, 'wive': 3470, 'dutch': 3471, 'strain': 3472, 'ya': 3473, 'smaller': 3474, 'descend': 3475, 'disabl': 3476, 'rick': 3477, 'sale': 3478, 'gender': 3479, 'bowl': 3480, 'poke': 3481, 'principl': 3482, 'godzilla': 3483, 'linda': 3484, 'seduct': 3485, 'beneath': 3486, 'mixtur': 3487, 'primarili': 3488, 'secondli': 3489, 'dive': 3490, 'vast': 3491, 'blatant': 3492, 'gloriou': 3493, 'cue': 3494, 'dud': 3495, 'glamor': 3496, 'scope': 3497, 'hal': 3498, 'inferior': 3499, 'predecessor': 3500, 'rabbit': 3501, 'yard': 3502, 'bubbl': 3503, 'lol': 3504, 'devoid': 3505, 'gundam': 3506, 'simplist': 3507, 'disjoint': 3508, 'countrysid': 3509, 'breed': 3510, 'trademark': 3511, 'aggress': 3512, 'arab': 3513, 'museum': 3514, 'streep': 3515, 'alert': 3516, 'pearl': 3517, 'myer': 3518, 'shelf': 3519, 'casual': 3520, 'senseless': 3521, 'garbo': 3522, 'hideou': 3523, 'april': 3524, 'talki': 3525, 'et': 3526, 'shirley': 3527, 'alfr': 3528, 'invas': 3529, 'z': 3530, 'domino': 3531, 'grinch': 3532, 'vanish': 3533, 'applaud': 3534, 'experiment': 3535, 'oz': 3536, 'boom': 3537, 'uwe': 3538, 'khan': 3539, 'unhappi': 3540, 'rendit': 3541, 'hardcor': 3542, 'mayor': 3543, 'loyal': 3544, 'slide': 3545, 'stir': 3546, 'sh': 3547, 'mail': 3548, 'illeg': 3549, 'obtain': 3550, 'acid': 3551, 'disgrac': 3552, 'robberi': 3553, 'hopeless': 3554, 'defens': 3555, 'stack': 3556, 'maci': 3557, 'stellar': 3558, 'robinson': 3559, 'span': 3560, 'dicken': 3561, 'declin': 3562, 'amanda': 3563, 'blew': 3564, 'counter': 3565, 'wont': 3566, 'soccer': 3567, 'psychic': 3568, 'recruit': 3569, 'dismiss': 3570, 'berlin': 3571, 'fri': 3572, 'craze': 3573, 'diana': 3574, 'emphasi': 3575, 'tempt': 3576, 'incomprehens': 3577, 'spider': 3578, 'scroog': 3579, 'tenant': 3580, 'grandfath': 3581, 'hartley': 3582, 'topless': 3583, 'rifl': 3584, 'sibl': 3585, 'sympath': 3586, 'trashi': 3587, 'intim': 3588, 'goer': 3589, 'shed': 3590, 'woo': 3591, 'lumet': 3592, 'bitch': 3593, 'niro': 3594, 'ration': 3595, 'parad': 3596, 'resurrect': 3597, 'justin': 3598, 'riot': 3599, 'wet': 3600, 'shaw': 3601, 'faster': 3602, 'ethnic': 3603, 'porno': 3604, 'revolt': 3605, 'rider': 3606, 'hopper': 3607, 'region': 3608, 'farmer': 3609, 'commend': 3610, 'weakest': 3611, 'nephew': 3612, 'slick': 3613, '00': 3614, 'dealer': 3615, 'gap': 3616, 'partial': 3617, 'jonathan': 3618, 'worm': 3619, 'ensur': 3620, 'andr': 3621, 'feminist': 3622, 'eager': 3623, 'unreal': 3624, 'enlighten': 3625, 'lena': 3626, 'steam': 3627, 'choru': 3628, 'immort': 3629, 'honesti': 3630, 'mario': 3631, 'wheel': 3632, 'hesit': 3633, 'ballet': 3634, 'biographi': 3635, 'wendi': 3636, 'patriot': 3637, 'prequel': 3638, 'victori': 3639, 'properti': 3640, 'vice': 3641, 'charlott': 3642, 'safeti': 3643, 'sandra': 3644, 'mutant': 3645, 'composit': 3646, 'confin': 3647, 'snap': 3648, 'repress': 3649, 'hung': 3650, 'skull': 3651, 'sappi': 3652, 'util': 3653, 'leo': 3654, 'psychopath': 3655, 'similarli': 3656, 'franco': 3657, 'kingdom': 3658, 'owen': 3659, 'nostalg': 3660, 'wore': 3661, 'morri': 3662, 'macarthur': 3663, 'blunt': 3664, 'dust': 3665, 'drain': 3666, 'del': 3667, 'pattern': 3668, 'drum': 3669, 'snl': 3670, 'heartbreak': 3671, 'repli': 3672, 'deed': 3673, 'dalton': 3674, 'despair': 3675, 'strand': 3676, 'exit': 3677, 'bumbl': 3678, 'acquir': 3679, 'nervou': 3680, 'whoopi': 3681, '1972': 3682, 'recycl': 3683, 'valuabl': 3684, 'miseri': 3685, 'rambl': 3686, 'bonu': 3687, 'compens': 3688, 'rope': 3689, 'speci': 3690, 'tad': 3691, 'kyle': 3692, 'bergman': 3693, 'tail': 3694, 'hyde': 3695, 'farrel': 3696, 'compass': 3697, 'cg': 3698, 'latin': 3699, 'thru': 3700, 'rocki': 3701, 'montana': 3702, 'emperor': 3703, 'bow': 3704, 'campbel': 3705, 'slug': 3706, 'tonight': 3707, 'rotten': 3708, 'orson': 3709, '35': 3710, 'olli': 3711, 'wacki': 3712, 'gal': 3713, 'downhil': 3714, 'rapist': 3715, 'roth': 3716, 'percept': 3717, 'pour': 3718, 'gimmick': 3719, 'romp': 3720, 'da': 3721, 'contempl': 3722, 'chess': 3723, 'radic': 3724, 'carradin': 3725, 'mistress': 3726, 'airport': 3727, 'oppress': 3728, 'martian': 3729, 'bleed': 3730, 'belt': 3731, 'programm': 3732, 'edgar': 3733, 'pervert': 3734, 'mislead': 3735, 'heal': 3736, '1983': 3737, 'pursuit': 3738, 'slash': 3739, 'preach': 3740, 'taught': 3741, 'arguabl': 3742, 'banal': 3743, 'shelley': 3744, 'dazzl': 3745, 'tackl': 3746, 'champion': 3747, 'stilt': 3748, 'unpredict': 3749, 'arc': 3750, 'melodi': 3751, 'tooth': 3752, 'paltrow': 3753, 'attorney': 3754, 'pervers': 3755, 'raymond': 3756, 'plight': 3757, 'mesmer': 3758, 'conneri': 3759, 'gambl': 3760, 'vocal': 3761, 'employe': 3762, 'graham': 3763, 'uplift': 3764, 'orang': 3765, 'cleverli': 3766, 'dixon': 3767, 'virginia': 3768, 'vengeanc': 3769, 'passeng': 3770, 'poem': 3771, 'sensat': 3772, 'maid': 3773, 'chicken': 3774, 'rubi': 3775, 'closest': 3776, 'duval': 3777, 'bela': 3778, 'tiresom': 3779, 'marti': 3780, 'franki': 3781, 'swallow': 3782, 'scottish': 3783, 'secretli': 3784, 'calm': 3785, 'pokemon': 3786, 'monologu': 3787, 'bay': 3788, 'engross': 3789, 'yawn': 3790, 'volum': 3791, 'giggl': 3792, 'profan': 3793, 'whine': 3794, 'mute': 3795, 'suffic': 3796, 'clone': 3797, 'abraham': 3798, 'paranoia': 3799, 'gerard': 3800, 'outing': 3801, 'amitabh': 3802, 'extens': 3803, 'tube': 3804, 'habit': 3805, 'quarter': 3806, 'crystal': 3807, 'convincingli': 3808, 'inject': 3809, 'numb': 3810, '1968': 3811, 'iran': 3812, 'sirk': 3813, 'climact': 3814, 'lundgren': 3815, 'franci': 3816, 'underst': 3817, 'spock': 3818, 'austen': 3819, 'taxi': 3820, 'im': 3821, 'linger': 3822, 'bend': 3823, 'grotesqu': 3824, 'fed': 3825, 'abort': 3826, 'lowest': 3827, 'ethan': 3828, 'septemb': 3829, 'expand': 3830, 'earl': 3831, 'profess': 3832, 'dispos': 3833, 'junior': 3834, 'poetri': 3835, 'chicago': 3836, 'backward': 3837, 'surpass': 3838, 'nichola': 3839, 'richardson': 3840, 'plod': 3841, 'trend': 3842, 'meander': 3843, 'frankenstein': 3844, 'lure': 3845, 'mundan': 3846, 'literatur': 3847, 'catchi': 3848, 'greedi': 3849, 'compliment': 3850, 'hum': 3851, 'muddl': 3852, 'cannon': 3853, 'descent': 3854, 'nostalgia': 3855, 'rant': 3856, 'waitress': 3857, 'instrument': 3858, 'spoke': 3859, 'rubber': 3860, 'dysfunct': 3861, 'econom': 3862, 'simplic': 3863, 'eugen': 3864, 'tourist': 3865, 'myth': 3866, 'stallon': 3867, 'sue': 3868, 'household': 3869, 'der': 3870, 'louis': 3871, 'mankind': 3872, 'irrelev': 3873, 'omen': 3874, 'phantom': 3875, 'phoni': 3876, 'alongsid': 3877, 'damon': 3878, 'recognit': 3879, 'dictat': 3880, 'equival': 3881, 'mortal': 3882, 'flee': 3883, 'occupi': 3884, 'deaf': 3885, 'carel': 3886, 'furi': 3887, 'bacal': 3888, 'firstli': 3889, 'recognis': 3890, 'map': 3891, 'hello': 3892, 'molli': 3893, 'coast': 3894, 'eaten': 3895, 'insur': 3896, 'randi': 3897, 'dement': 3898, 'lang': 3899, 'duck': 3900, 'cent': 3901, 'stale': 3902, 'crucial': 3903, 'june': 3904, 'sissi': 3905, 'onlin': 3906, 'drake': 3907, 'bike': 3908, 'labor': 3909, 'blackmail': 3910, 'lengthi': 3911, 'grayson': 3912, 'reign': 3913, 'freez': 3914, 'daisi': 3915, 'distinguish': 3916, 'wisdom': 3917, 'rooney': 3918, 'dreari': 3919, '1973': 3920, 'bump': 3921, 'buffalo': 3922, 'likewis': 3923, 'newli': 3924, 'heel': 3925, 'rude': 3926, 'loyalti': 3927, 'twilight': 3928, 'damm': 3929, 'ashley': 3930, 'cyborg': 3931, 'antwon': 3932, 'biko': 3933, 'ridden': 3934, 'butler': 3935, 'approv': 3936, 'proce': 3937, 'exposur': 3938, 'provoc': 3939, 'vein': 3940, 'attribut': 3941, 'startl': 3942, 'worn': 3943, 'interior': 3944, 'nineti': 3945, 'keith': 3946, 'unorigin': 3947, 'pink': 3948, 'inher': 3949, 'barrymor': 3950, 'basketbal': 3951, 'sailor': 3952, 'baddi': 3953, 'boxer': 3954, 'tunnel': 3955, 'incorpor': 3956, 'analysi': 3957, 'emphas': 3958, 'chronicl': 3959, 'prey': 3960, 'fleet': 3961, 'condemn': 3962, 'predat': 3963, 'underli': 3964, 'elm': 3965, 'nicol': 3966, 'meyer': 3967, 'carla': 3968, 'belushi': 3969, 'er': 3970, 'walsh': 3971, 'millionair': 3972, 'mighti': 3973, 'hypnot': 3974, 'robbin': 3975, 'barrel': 3976, 'improvis': 3977, 'unrel': 3978, 'othello': 3979, 'drift': 3980, 'meg': 3981, 'substitut': 3982, 'undeni': 3983, 'julian': 3984, 'degrad': 3985, 'indiffer': 3986, 'stalker': 3987, 'bunni': 3988, 'simmon': 3989, 'mormon': 3990, 'disord': 3991, 'unawar': 3992, 'palac': 3993, 'roof': 3994, 'shove': 3995, 'lampoon': 3996, 'edgi': 3997, 'vital': 3998, 'priceless': 3999, 'mtv': 4000, 'watson': 4001, 'firm': 4002, 'enthusiasm': 4003, 'nyc': 4004, 'rukh': 4005, '3d': 4006, 'alison': 4007, 'warmth': 4008, 'exquisit': 4009, 'hay': 4010, 'agenda': 4011, 'novak': 4012, 'reid': 4013, 'alarm': 4014, 'greed': 4015, 'dolph': 4016, 'errol': 4017, 'marion': 4018, 'randomli': 4019, 'session': 4020, 'peril': 4021, 'eastern': 4022, 'gestur': 4023, '13th': 4024, 'campaign': 4025, 'cassidi': 4026, 'angela': 4027, 'showdown': 4028, 'unleash': 4029, 'valentin': 4030, 'preserv': 4031, 'iraq': 4032, 'distort': 4033, 'what': 4034, 'minimum': 4035, 'testament': 4036, 'spain': 4037, 'drip': 4038, 'thompson': 4039, 'orlean': 4040, 'beatl': 4041, 'coup': 4042, 'pamela': 4043, 'peck': 4044, 'ponder': 4045, 'zizek': 4046, 'nun': 4047, 'sergeant': 4048, 'glanc': 4049, 'simultan': 4050, '1933': 4051, 'crown': 4052, 'israel': 4053, 'profit': 4054, 'petti': 4055, 'championship': 4056, 'mon': 4057, 'rout': 4058, 'kurosawa': 4059, 'climat': 4060, 'exposit': 4061, 'buster': 4062, 'sabrina': 4063, 'empathi': 4064, 'travesti': 4065, 'realm': 4066, 'perpetu': 4067, 'contradict': 4068, 'regist': 4069, 'represent': 4070, 'brenda': 4071, 'cooki': 4072, 'calib': 4073, 'crow': 4074, 'miyazaki': 4075, 'scotland': 4076, 'bro': 4077, 'restrain': 4078, 'cream': 4079, 'quinn': 4080, 'shootout': 4081, 'stake': 4082, 'valley': 4083, 'stroke': 4084, 'reson': 4085, 'crawl': 4086, 'fido': 4087, 'wig': 4088, 'unimagin': 4089, '1984': 4090, 'jan': 4091, 'han': 4092, 'gentleman': 4093, 'din': 4094, 'censor': 4095, 'soderbergh': 4096, 'compromis': 4097, 'sucker': 4098, 'warrant': 4099, 'greg': 4100, 'traumat': 4101, 'businessman': 4102, 'pole': 4103, 'absent': 4104, 'derang': 4105, 'distress': 4106, 'spacey': 4107, 'unseen': 4108, 'wax': 4109, 'meryl': 4110, 'pretens': 4111, '1987': 4112, 'unsatisfi': 4113, 'baldwin': 4114, 'passabl': 4115, 'monoton': 4116, 'painter': 4117, '1997': 4118, 'shaki': 4119, 'ustinov': 4120, 'geek': 4121, 'delic': 4122, 'shoddi': 4123, 'abomin': 4124, 'ross': 4125, 'perceiv': 4126, 'cloud': 4127, 'mclaglen': 4128, 'tacki': 4129, 'sammi': 4130, 'demis': 4131, 'dana': 4132, 'femm': 4133, 'fuller': 4134, 'josh': 4135, 'darren': 4136, 'stargat': 4137, 'crawford': 4138, 'tarantino': 4139, 'click': 4140, 'wholli': 4141, 'furiou': 4142, 'norm': 4143, 'deniro': 4144, 'tech': 4145, 'jewel': 4146, 'verbal': 4147, 'sid': 4148, 'uncov': 4149, 'deceas': 4150, 'anchor': 4151, 'fog': 4152, 'valid': 4153, 'judgment': 4154, 'clash': 4155, 'exclus': 4156, 'reluct': 4157, 'accuraci': 4158, 'kumar': 4159, 'expedit': 4160, 'austin': 4161, 'polici': 4162, 'correctli': 4163, 'primit': 4164, 'dee': 4165, 'fenc': 4166, 'seal': 4167, '1993': 4168, 'unravel': 4169, 'antonioni': 4170, 'nathan': 4171, 'alec': 4172, 'sheet': 4173, 'shanghai': 4174, 'crippl': 4175, 'conduct': 4176, 'darn': 4177, 'fought': 4178, 'clerk': 4179, 'slam': 4180, 'patienc': 4181, 'debt': 4182, 'joel': 4183, 'fart': 4184, 'fabric': 4185, 'wretch': 4186, 'hallucin': 4187, 'pocket': 4188, 'ritual': 4189, 'sand': 4190, 'logan': 4191, 'tax': 4192, 'roller': 4193, 'wang': 4194, '1995': 4195, 'bake': 4196, 'temper': 4197, 'enforc': 4198, '3000': 4199, '2008': 4200, 'mode': 4201, 'seldom': 4202, '1971': 4203, 'dreck': 4204, 'behold': 4205, 'unfair': 4206, 'trait': 4207, 'vanc': 4208, 'nicola': 4209, 'sustain': 4210, 'sunni': 4211, 'murray': 4212, 'malon': 4213, 'despis': 4214, 'canyon': 4215, 'fundament': 4216, 'helpless': 4217, 'soup': 4218, 'critiqu': 4219, 'exhaust': 4220, 'divid': 4221, 'preposter': 4222, 'tactic': 4223, 'pete': 4224, 'sweep': 4225, 'squad': 4226, 'preston': 4227, 'runner': 4228, 'robber': 4229, 'conscious': 4230, 'schedul': 4231, 'grief': 4232, 'clau': 4233, 'legaci': 4234, 'bias': 4235, 'guitar': 4236, 'scriptwrit': 4237, 'technicolor': 4238, 'phil': 4239, 'shell': 4240, 'stuart': 4241, 'outlin': 4242, 'rita': 4243, 'stark': 4244, 'penni': 4245, 'bridget': 4246, 'isabel': 4247, 'invad': 4248, 'kansa': 4249, 'rear': 4250, 'propos': 4251, 'passag': 4252, 'marc': 4253, 'liberti': 4254, 'newman': 4255, 'russia': 4256, 'consciou': 4257, 'downey': 4258, 'drove': 4259, 'agenc': 4260, 'jacket': 4261, 'sugar': 4262, 'delv': 4263, 'palanc': 4264, 'connor': 4265, 'vomit': 4266, 'implic': 4267, 'flair': 4268, 'cigarett': 4269, 'jodi': 4270, 'alley': 4271, 'rehash': 4272, 'lacklust': 4273, 'culmin': 4274, 'unexpectedli': 4275, 'alicia': 4276, 'gregori': 4277, 'inabl': 4278, 'bloom': 4279, 'sniper': 4280, 'restrict': 4281, 'boyl': 4282, 'sentinel': 4283, 'rehears': 4284, 'tripe': 4285, 'cap': 4286, 'mccoy': 4287, 'delet': 4288, 'rod': 4289, 'foxx': 4290, 'behaviour': 4291, 'improb': 4292, 'pale': 4293, 'vet': 4294, 'rampag': 4295, 'lush': 4296, 'horn': 4297, 'arrow': 4298, 'feat': 4299, '22': 4300, 'karl': 4301, 'bacon': 4302, 'ladder': 4303, 'awhil': 4304, 'wrench': 4305, 'chainsaw': 4306, 'tendenc': 4307, 'aesthet': 4308, 'sharon': 4309, 'kolchak': 4310, 'asylum': 4311, 'yeti': 4312, '1936': 4313, 'stream': 4314, 'visitor': 4315, 'newcom': 4316, 'financ': 4317, 'el': 4318, '19th': 4319, 'prank': 4320, 'paradis': 4321, '1978': 4322, 'amazon': 4323, 'shortcom': 4324, 'coaster': 4325, 'rhythm': 4326, '1920': 4327, 'elit': 4328, 'lurk': 4329, 'rumor': 4330, 'underneath': 4331, 'thunderbird': 4332, 'minu': 4333, 'aristocrat': 4334, 'wildli': 4335, 'hulk': 4336, 'tomorrow': 4337, 'paramount': 4338, 'sung': 4339, 'hackney': 4340, '1988': 4341, 'suspicion': 4342, 'fright': 4343, 'hungri': 4344, 'filler': 4345, 'weav': 4346, 'conscienc': 4347, 'suffici': 4348, 'spice': 4349, 'globe': 4350, 'scoop': 4351, 'tasteless': 4352, 'loneli': 4353, 'basing': 4354, 'wagner': 4355, 'smell': 4356, 'iv': 4357, 'abrupt': 4358, 'en': 4359, '75': 4360, 'secondari': 4361, 'standout': 4362, 'heist': 4363, 'penn': 4364, 'worship': 4365, 'dirt': 4366, 'brit': 4367, 'beverli': 4368, 'rub': 4369, 'impos': 4370, 'counterpart': 4371, 'atroc': 4372, 'choppi': 4373, 'lectur': 4374, 'tierney': 4375, 'entranc': 4376, 'ingeni': 4377, 'immers': 4378, 'recogniz': 4379, 'ram': 4380, 'literari': 4381, '1939': 4382, 'bread': 4383, 'quietli': 4384, 'teas': 4385, 'minist': 4386, 'cancer': 4387, 'springer': 4388, 'chavez': 4389, 'hopkin': 4390, 'curli': 4391, 'naughti': 4392, 'straightforward': 4393, '1989': 4394, 'posey': 4395, 'wwe': 4396, 'couch': 4397, 'paxton': 4398, 'inmat': 4399, 'chamberlain': 4400, 'grudg': 4401, 'leigh': 4402, 'esther': 4403, 'bernard': 4404, 'skeptic': 4405, '1986': 4406, 'sassi': 4407, 'net': 4408, 'watcher': 4409, 'yearn': 4410, 'misguid': 4411, 'attenborough': 4412, 'transcend': 4413, 'enthral': 4414, 'ratso': 4415, 'nolan': 4416, 'ace': 4417, 'moreov': 4418, 'laurenc': 4419, 'duel': 4420, 'injuri': 4421, 'nemesi': 4422, 'lindsay': 4423, 'missil': 4424, 'heartfelt': 4425, 'quaid': 4426, 'policeman': 4427, 'entitl': 4428, 'convert': 4429, 'clan': 4430, 'sublim': 4431, 'morbid': 4432, 'variat': 4433, 'geni': 4434, 'cattl': 4435, 'setup': 4436, 'obstacl': 4437, 'hopelessli': 4438, 'moder': 4439, 'steadi': 4440, '1979': 4441, 'out': 4442, 'facil': 4443, 'spiral': 4444, 'artsi': 4445, 'bye': 4446, 'characteris': 4447, 'unexplain': 4448, 'youngest': 4449, 'uncut': 4450, 'tyler': 4451, 'diari': 4452, 'rosemari': 4453, 'enabl': 4454, 'buzz': 4455, 'brood': 4456, 'graini': 4457, 'puppi': 4458, 'vader': 4459, 'grin': 4460, 'dont': 4461, 'carlito': 4462, 'reliabl': 4463, 'mytholog': 4464, 'kitti': 4465, 'bean': 4466, 'cruelti': 4467, 'hk': 4468, 'egg': 4469, 'kidman': 4470, 'poe': 4471, 'weather': 4472, 'brendan': 4473, 'bounc': 4474, 'martha': 4475, 'gillian': 4476, 'fuel': 4477, 'exterior': 4478, 'bronson': 4479, 'patricia': 4480, 'sweat': 4481, 'spontan': 4482, 'bewar': 4483, 'heap': 4484, 'disastr': 4485, 'oblig': 4486, 'hammi': 4487, '1969': 4488, 'underworld': 4489, 'niec': 4490, 'effici': 4491, 'christin': 4492, 'despic': 4493, 'narrow': 4494, 'athlet': 4495, 'clueless': 4496, 'acquaint': 4497, 'baffl': 4498, 'kline': 4499, 'gina': 4500, 'decept': 4501, 'hain': 4502, 'preming': 4503, 'astound': 4504, 'angst': 4505, 'circu': 4506, 'insipid': 4507, 'virtu': 4508, 'sleepwalk': 4509, 'fontain': 4510, 'trigger': 4511, 'shatter': 4512, 'headach': 4513, 'harmless': 4514, 'scar': 4515, 'preachi': 4516, 'enlist': 4517, 'tick': 4518, 'goof': 4519, 'analyz': 4520, 'loi': 4521, 'dandi': 4522, 'rome': 4523, 'loath': 4524, 'outlaw': 4525, 'mermaid': 4526, 'suprem': 4527, 'viewpoint': 4528, 'renaiss': 4529, 'mayhem': 4530, 'taboo': 4531, 'lester': 4532, 'sooner': 4533, '73': 4534, 'injur': 4535, 'uh': 4536, 'candl': 4537, 'housewif': 4538, 'hepburn': 4539, '19': 4540, 'dilemma': 4541, 'biker': 4542, 'guin': 4543, 'ebert': 4544, 'redund': 4545, 'stimul': 4546, 'contempt': 4547, 'surgeri': 4548, 'phenomenon': 4549, 'hostag': 4550, 'bent': 4551, 'foolish': 4552, 'macho': 4553, 'intric': 4554, 'cassavet': 4555, 'slimi': 4556, 'immatur': 4557, 'hooker': 4558, 'stair': 4559, 'whore': 4560, 'hokey': 4561, 'amor': 4562, 'steer': 4563, 'dish': 4564, 'glorifi': 4565, 'overlong': 4566, 'fluff': 4567, 'scorses': 4568, 'camcord': 4569, 'zoom': 4570, 'oldest': 4571, 'claustrophob': 4572, 'tripl': 4573, 'dismal': 4574, 'salt': 4575, 'gere': 4576, 'idol': 4577, 'boston': 4578, 'sox': 4579, 'filth': 4580, 'spade': 4581, 'ariel': 4582, 'corbett': 4583, 'rhyme': 4584, 'assert': 4585, 'preced': 4586, 'shield': 4587, 'trivia': 4588, 'dwarf': 4589, 'alvin': 4590, 'down': 4591, 'cow': 4592, 'antagonist': 4593, 'zane': 4594, 'harold': 4595, 'keen': 4596, '1976': 4597, 'conquer': 4598, 'flashi': 4599, 'proport': 4600, 'spinal': 4601, 'mutual': 4602, '1981': 4603, 'mount': 4604, 'cohen': 4605, 'shred': 4606, 'flirt': 4607, 'nolt': 4608, 'frantic': 4609, 'radiat': 4610, 'perman': 4611, 'schlock': 4612, 'gasp': 4613, 'messi': 4614, 'transplant': 4615, 'flag': 4616, 'margin': 4617, 'fascist': 4618, 'faint': 4619, 'corman': 4620, 'widescreen': 4621, 'muscl': 4622, 'strongest': 4623, 'spree': 4624, 'cush': 4625, 'beard': 4626, 'astronaut': 4627, 'joker': 4628, 'obligatori': 4629, 'gabl': 4630, 'naschi': 4631, 'remad': 4632, 'sensual': 4633, 'resum': 4634, 'off': 4635, 'www': 4636, 'instruct': 4637, 'departur': 4638, 'brush': 4639, 'repris': 4640, 'neurot': 4641, 'bachelor': 4642, 'mobil': 4643, '1945': 4644, 'info': 4645, 'claud': 4646, '28': 4647, 'ritchi': 4648, 'persuad': 4649, 'triangl': 4650, 'wield': 4651, 'scandal': 4652, 'vaniti': 4653, 'flock': 4654, 'bitten': 4655, 'deer': 4656, 'discern': 4657, 'inflict': 4658, 'barn': 4659, 'strive': 4660, 'interestingli': 4661, 'danish': 4662, 'fishburn': 4663, '95': 4664, 'carey': 4665, 'divin': 4666, 'archiv': 4667, 'someday': 4668, 'boob': 4669, 'raj': 4670, 'mol': 4671, 'hara': 4672, 'aborigin': 4673, 'pixar': 4674, 'proclaim': 4675, 'parson': 4676, 'hapless': 4677, 'casino': 4678, 'melissa': 4679, 'hilar': 4680, 'vibrant': 4681, 'cb': 4682, 'cycl': 4683, 'ish': 4684, 'carlo': 4685, 'jade': 4686, 'europa': 4687, 'recit': 4688, 'heartwarm': 4689, 'hug': 4690, 'earnest': 4691, 'anton': 4692, 'prophet': 4693, 'miracul': 4694, 'artwork': 4695, 'dame': 4696, 'mobster': 4697, 'biblic': 4698, 'kathryn': 4699, 'harrison': 4700, 'colin': 4701, 'dim': 4702, 'helm': 4703, 'luka': 4704, 'traffic': 4705, 'fragil': 4706, 'cliffhang': 4707, 'clad': 4708, 'dylan': 4709, 'wendigo': 4710, 'submit': 4711, 'bate': 4712, 'axe': 4713, 'cher': 4714, 'loretta': 4715, 'undermin': 4716, 'neill': 4717, 'frontier': 4718, 'pickford': 4719, 'senior': 4720, 'banter': 4721, 'rot': 4722, 'pacif': 4723, 'timberlak': 4724, 'venom': 4725, 'mason': 4726, 'toronto': 4727, 'marlon': 4728, 'articl': 4729, 'jordan': 4730, 'misfortun': 4731, 'northern': 4732, 'nope': 4733, 'aris': 4734, 'akin': 4735, 'http': 4736, 'blatantli': 4737, 'bondag': 4738, 'vanessa': 4739, 'trier': 4740, 'pc': 4741, 'milo': 4742, 'illus': 4743, 'seedi': 4744, 'foil': 4745, 'holocaust': 4746, 'rooki': 4747, 'cerebr': 4748, 'vile': 4749, 'eli': 4750, 'choke': 4751, 'token': 4752, 'jo': 4753, 'electron': 4754, 'legitim': 4755, 'redneck': 4756, 'antholog': 4757, 'bikini': 4758, 'breakfast': 4759, 'isra': 4760, 'orphan': 4761, 'wardrob': 4762, 'static': 4763, 'estrang': 4764, 'sicken': 4765, 'feast': 4766, 'flavor': 4767, 'alexandr': 4768, 'mathieu': 4769, 'uma': 4770, 'lucil': 4771, 'winchest': 4772, 'lui': 4773, 'shepherd': 4774, 'razor': 4775, 'dudley': 4776, 'knightley': 4777, 'smack': 4778, 'ceremoni': 4779, 'huston': 4780, 'abund': 4781, 'psych': 4782, 'wrestler': 4783, 'howl': 4784, 'turd': 4785, 'peer': 4786, 'disregard': 4787, 'swept': 4788, 'boyer': 4789, 'linear': 4790, 'audrey': 4791, 'clinic': 4792, 'affleck': 4793, 'glare': 4794, 'cartoonish': 4795, 'tack': 4796, 'shorter': 4797, 'outdat': 4798, 'fifth': 4799, 'deem': 4800, 'leather': 4801, 'oppon': 4802, 'feminin': 4803, 'nightclub': 4804, 'frog': 4805, 'styliz': 4806, 'highway': 4807, 'gilbert': 4808, 'comprehend': 4809, 'magician': 4810, 'retriev': 4811, 'charlton': 4812, 'ideolog': 4813, 'gunga': 4814, '4th': 4815, 'corn': 4816, 'uniformli': 4817, 'durat': 4818, 'collector': 4819, 'conrad': 4820, '1991': 4821, 'btw': 4822, 'plate': 4823, 'newer': 4824, 'braveheart': 4825, 'evolut': 4826, 'lavish': 4827, 'snatch': 4828, 'spawn': 4829, 'potter': 4830, 'spine': 4831, 'senat': 4832, 'chip': 4833, 'cemeteri': 4834, 'bastard': 4835, 'deliver': 4836, 'einstein': 4837, 'greet': 4838, 'compris': 4839, 'breakdown': 4840, 'tara': 4841, 'cuban': 4842, 'lifeless': 4843, 'monument': 4844, 'bogu': 4845, 'phenomen': 4846, 'boo': 4847, 'toe': 4848, 'sleaz': 4849, 'energet': 4850, 'lighter': 4851, 'salman': 4852, 'summar': 4853, '1994': 4854, 'whack': 4855, 'mitch': 4856, 'moe': 4857, 'client': 4858, 'goldsworthi': 4859, 'pronounc': 4860, 'jam': 4861, 'constitut': 4862, 'eleven': 4863, 'jule': 4864, 'evelyn': 4865, 'belli': 4866, 'appl': 4867, 'embark': 4868, 'sorrow': 4869, 'creek': 4870, 'replay': 4871, 'occup': 4872, 'outright': 4873, 'lex': 4874, 'historian': 4875, 'inaccuraci': 4876, 'neatli': 4877, 'ie': 4878, 'randolph': 4879, 'kent': 4880, 'kazan': 4881, 'undertak': 4882, 'fluid': 4883, 'judd': 4884, 'jare': 4885, 'trauma': 4886, 'spectacl': 4887, 'luxuri': 4888, 'capot': 4889, 'ol': 4890, 'bulk': 4891, 'undead': 4892, 'nina': 4893, 'liu': 4894, 'wtf': 4895, '1974': 4896, 'mcqueen': 4897, 'signal': 4898, 'bori': 4899, 'alleg': 4900, 'healthi': 4901, 'firmli': 4902, 'armstrong': 4903, '1977': 4904, 'clara': 4905, 'cecil': 4906, 'jedi': 4907, 'gilliam': 4908, '1985': 4909, 'propheci': 4910, 'decapit': 4911, 'tokyo': 4912, 'vignett': 4913, 'antonio': 4914, 'poker': 4915, 'ash': 4916, 'walt': 4917, 'bait': 4918, 'conan': 4919, 'abound': 4920, 'congratul': 4921, 'relentless': 4922, 'bsg': 4923, 'id': 4924, 'mum': 4925, 'blur': 4926, 'roar': 4927, 'genet': 4928, 'sidewalk': 4929, 'truman': 4930, 'unattract': 4931, 'comb': 4932, 'groan': 4933, 'knee': 4934, 'forgiven': 4935, 'meal': 4936, 'unsuspect': 4937, 'curtain': 4938, 'basket': 4939, 'lanc': 4940, 'carmen': 4941, 'goldblum': 4942, 'spray': 4943, 'vain': 4944, 'porter': 4945, 'comprehens': 4946, 'sacrif': 4947, 'subtli': 4948, 'miami': 4949, 'inaccur': 4950, 'fruit': 4951, 'galaxi': 4952, 'miniseri': 4953, 'aussi': 4954, 'pepper': 4955, 'lauren': 4956, 'inclus': 4957, 'kiddi': 4958, 'palm': 4959, 'paula': 4960, 'pioneer': 4961, 'rosario': 4962, 'cape': 4963, 'victorian': 4964, 'scariest': 4965, 'bach': 4966, 'epitom': 4967, 'asset': 4968, 'omin': 4969, 'optimist': 4970, 'frontal': 4971, 'weari': 4972, 'evan': 4973, 'sparkl': 4974, 'dubiou': 4975, 'modest': 4976, 'hackman': 4977, 'bravo': 4978, 'orchestr': 4979, 'weaker': 4980, 'detach': 4981, 'rapidli': 4982, 'macabr': 4983, 'cypher': 4984, '21st': 4985, 'motorcycl': 4986, 'assort': 4987, 'playboy': 4988, 'jill': 4989, 'ghetto': 4990, 'profil': 4991, 'scarfac': 4992, 'vastli': 4993, 'casper': 4994, 'verg': 4995, 'hostil': 4996, 'drone': 4997, 'turtl': 4998, 'substanti': 4999}\n"
     ]
    }
   ],
   "source": [
    "word_dict = build_dict(train_X)\n",
    "print(word_dict)"
   ]
  },
  {
   "cell_type": "markdown",
   "metadata": {},
   "source": [
    "**Question:** What are the five most frequently appearing (tokenized) words in the training set? Does it makes sense that these words appear frequently in the training set?"
   ]
  },
  {
   "cell_type": "markdown",
   "metadata": {},
   "source": [
    "**Answer:** The five most frequently appearing words are 'movi' (movie), 'film', 'one', 'like', and 'time'. These words appearing the most make sense since the reviews are about movies."
   ]
  },
  {
   "cell_type": "code",
   "execution_count": 15,
   "metadata": {},
   "outputs": [
    {
     "name": "stdout",
     "output_type": "stream",
     "text": [
      "['movi', 'film', 'one', 'like', 'time']\n"
     ]
    }
   ],
   "source": [
    "# TODO: Use this space to determine the five most frequently appearing words in the training set.\n",
    "from itertools import islice\n",
    "print(list(word_dict.keys())[:5])"
   ]
  },
  {
   "cell_type": "markdown",
   "metadata": {},
   "source": [
    "### Save `word_dict`\n",
    "\n",
    "Later on when we construct an endpoint which processes a submitted review we will need to make use of the `word_dict` which we have created. As such, we will save it to a file now for future use."
   ]
  },
  {
   "cell_type": "code",
   "execution_count": 16,
   "metadata": {},
   "outputs": [],
   "source": [
    "data_dir = '../data/pytorch' # The folder we will use for storing data\n",
    "if not os.path.exists(data_dir): # Make sure that the folder exists\n",
    "    os.makedirs(data_dir)"
   ]
  },
  {
   "cell_type": "code",
   "execution_count": 17,
   "metadata": {},
   "outputs": [],
   "source": [
    "with open(os.path.join(data_dir, 'word_dict.pkl'), \"wb\") as f:\n",
    "    pickle.dump(word_dict, f)"
   ]
  },
  {
   "cell_type": "markdown",
   "metadata": {},
   "source": [
    "### Transform the reviews\n",
    "\n",
    "Now that we have our word dictionary which allows us to transform the words appearing in the reviews into integers, it is time to make use of it and convert our reviews to their integer sequence representation, making sure to pad or truncate to a fixed length, which in our case is `500`."
   ]
  },
  {
   "cell_type": "code",
   "execution_count": 18,
   "metadata": {},
   "outputs": [],
   "source": [
    "def convert_and_pad(word_dict, sentence, pad=500):\n",
    "    NOWORD = 0 # We will use 0 to represent the 'no word' category\n",
    "    INFREQ = 1 # and we use 1 to represent the infrequent words, i.e., words not appearing in word_dict\n",
    "    \n",
    "    working_sentence = [NOWORD] * pad\n",
    "    \n",
    "    for word_index, word in enumerate(sentence[:pad]):\n",
    "        if word in word_dict:\n",
    "            working_sentence[word_index] = word_dict[word]\n",
    "        else:\n",
    "            working_sentence[word_index] = INFREQ\n",
    "            \n",
    "    return working_sentence, min(len(sentence), pad)\n",
    "\n",
    "def convert_and_pad_data(word_dict, data, pad=500):\n",
    "    result = []\n",
    "    lengths = []\n",
    "    \n",
    "    for sentence in data:\n",
    "        converted, leng = convert_and_pad(word_dict, sentence, pad)\n",
    "        result.append(converted)\n",
    "        lengths.append(leng)\n",
    "        \n",
    "    return np.array(result), np.array(lengths)"
   ]
  },
  {
   "cell_type": "code",
   "execution_count": 19,
   "metadata": {},
   "outputs": [],
   "source": [
    "train_X, train_X_len = convert_and_pad_data(word_dict, train_X)\n",
    "test_X, test_X_len = convert_and_pad_data(word_dict, test_X)"
   ]
  },
  {
   "cell_type": "markdown",
   "metadata": {},
   "source": [
    "As a quick check to make sure that things are working as intended, check to see what one of the reviews in the training set looks like after having been processeed. Does this look reasonable? What is the length of a review in the training set?"
   ]
  },
  {
   "cell_type": "code",
   "execution_count": 20,
   "metadata": {},
   "outputs": [
    {
     "name": "stdout",
     "output_type": "stream",
     "text": [
      "[   4 1942  763   52   23  427 2087  180  116  432   80  690  187   23\n",
      "   10  959 4504   23  389 2087   91  392   41    3    8   69 1942   24\n",
      " 1571    1  466  188  301  290   18  187  304    1   19    1    1   39\n",
      "   16 3311 1035  189    3   73 1161   11  304 1068  310  352 2730    1\n",
      "    1   70    1  126   14   54    8   19   89  323  975    8  488   23\n",
      " 1280    1 2124    1   92 1805 1133  987  310 1733  414  310  126  246\n",
      "   21    3  125    7 1170  111   11   80  310  189  295   67   30    1\n",
      "  122  126   80  352  116  276    3    8    1 1380   76  894 4057  800\n",
      "   32  310  387   34  741  990  168   20  229    3  109  639 1381  310\n",
      "  215  255  136  157 4860    8 1443  189    8  484 1246 1026  116 1319\n",
      "    2   42  323  290   44    0    0    0    0    0    0    0    0    0\n",
      "    0    0    0    0    0    0    0    0    0    0    0    0    0    0\n",
      "    0    0    0    0    0    0    0    0    0    0    0    0    0    0\n",
      "    0    0    0    0    0    0    0    0    0    0    0    0    0    0\n",
      "    0    0    0    0    0    0    0    0    0    0    0    0    0    0\n",
      "    0    0    0    0    0    0    0    0    0    0    0    0    0    0\n",
      "    0    0    0    0    0    0    0    0    0    0    0    0    0    0\n",
      "    0    0    0    0    0    0    0    0    0    0    0    0    0    0\n",
      "    0    0    0    0    0    0    0    0    0    0    0    0    0    0\n",
      "    0    0    0    0    0    0    0    0    0    0    0    0    0    0\n",
      "    0    0    0    0    0    0    0    0    0    0    0    0    0    0\n",
      "    0    0    0    0    0    0    0    0    0    0    0    0    0    0\n",
      "    0    0    0    0    0    0    0    0    0    0    0    0    0    0\n",
      "    0    0    0    0    0    0    0    0    0    0    0    0    0    0\n",
      "    0    0    0    0    0    0    0    0    0    0    0    0    0    0\n",
      "    0    0    0    0    0    0    0    0    0    0    0    0    0    0\n",
      "    0    0    0    0    0    0    0    0    0    0    0    0    0    0\n",
      "    0    0    0    0    0    0    0    0    0    0    0    0    0    0\n",
      "    0    0    0    0    0    0    0    0    0    0    0    0    0    0\n",
      "    0    0    0    0    0    0    0    0    0    0    0    0    0    0\n",
      "    0    0    0    0    0    0    0    0    0    0    0    0    0    0\n",
      "    0    0    0    0    0    0    0    0    0    0    0    0    0    0\n",
      "    0    0    0    0    0    0    0    0    0    0    0    0    0    0\n",
      "    0    0    0    0    0    0    0    0    0    0    0    0    0    0\n",
      "    0    0    0    0    0    0    0    0    0    0    0    0    0    0\n",
      "    0    0    0    0    0    0    0    0    0    0]\n",
      "145\n"
     ]
    }
   ],
   "source": [
    "# Use this cell to examine one of the processed reviews to make sure everything is working as intended.\n",
    "print(train_X[0])\n",
    "print(train_X_len[0])"
   ]
  },
  {
   "cell_type": "markdown",
   "metadata": {},
   "source": [
    "**Question:** In the cells above we use the `preprocess_data` and `convert_and_pad_data` methods to process both the training and testing set. Why or why not might this be a problem?"
   ]
  },
  {
   "cell_type": "markdown",
   "metadata": {},
   "source": [
    "**Answer:** The two methods may prove problematic because both methods may lose information. The preprocess_data method will lose information from punctuated words as the review_to_words method removes any non-alphanumeric characters. The convert_and_pad_data method will lose information as reviews are truncated for larger reviews. However with both methods, they are being applied to both the training & testing sets."
   ]
  },
  {
   "cell_type": "markdown",
   "metadata": {},
   "source": [
    "## Step 3: Upload the data to S3\n",
    "\n",
    "As in the XGBoost notebook, we will need to upload the training dataset to S3 in order for our training code to access it. For now we will save it locally and we will upload to S3 later on.\n",
    "\n",
    "### Save the processed training dataset locally\n",
    "\n",
    "It is important to note the format of the data that we are saving as we will need to know it when we write the training code. In our case, each row of the dataset has the form `label`, `length`, `review[500]` where `review[500]` is a sequence of `500` integers representing the words in the review."
   ]
  },
  {
   "cell_type": "code",
   "execution_count": 21,
   "metadata": {},
   "outputs": [],
   "source": [
    "import pandas as pd\n",
    "    \n",
    "pd.concat([pd.DataFrame(train_y), pd.DataFrame(train_X_len), pd.DataFrame(train_X)], axis=1) \\\n",
    "        .to_csv(os.path.join(data_dir, 'train.csv'), header=False, index=False)"
   ]
  },
  {
   "cell_type": "markdown",
   "metadata": {},
   "source": [
    "### Uploading the training data\n",
    "\n",
    "\n",
    "Next, we need to upload the training data to the SageMaker default S3 bucket so that we can provide access to it while training our model."
   ]
  },
  {
   "cell_type": "code",
   "execution_count": 22,
   "metadata": {},
   "outputs": [],
   "source": [
    "import sagemaker\n",
    "\n",
    "sagemaker_session = sagemaker.Session()\n",
    "\n",
    "bucket = sagemaker_session.default_bucket()\n",
    "prefix = 'sagemaker/sentiment_rnn'\n",
    "\n",
    "role = sagemaker.get_execution_role()"
   ]
  },
  {
   "cell_type": "code",
   "execution_count": 23,
   "metadata": {},
   "outputs": [],
   "source": [
    "input_data = sagemaker_session.upload_data(path=data_dir, bucket=bucket, key_prefix=prefix)"
   ]
  },
  {
   "cell_type": "markdown",
   "metadata": {},
   "source": [
    "**NOTE:** The cell above uploads the entire contents of our data directory. This includes the `word_dict.pkl` file. This is fortunate as we will need this later on when we create an endpoint that accepts an arbitrary review. For now, we will just take note of the fact that it resides in the data directory (and so also in the S3 training bucket) and that we will need to make sure it gets saved in the model directory."
   ]
  },
  {
   "cell_type": "markdown",
   "metadata": {},
   "source": [
    "## Step 4: Build and Train the PyTorch Model\n",
    "\n",
    "In the XGBoost notebook we discussed what a model is in the SageMaker framework. In particular, a model comprises three objects\n",
    "\n",
    " - Model Artifacts,\n",
    " - Training Code, and\n",
    " - Inference Code,\n",
    " \n",
    "each of which interact with one another. In the XGBoost example we used training and inference code that was provided by Amazon. Here we will still be using containers provided by Amazon with the added benefit of being able to include our own custom code.\n",
    "\n",
    "We will start by implementing our own neural network in PyTorch along with a training script. For the purposes of this project we have provided the necessary model object in the `model.py` file, inside of the `train` folder. You can see the provided implementation by running the cell below."
   ]
  },
  {
   "cell_type": "code",
   "execution_count": 24,
   "metadata": {},
   "outputs": [
    {
     "name": "stdout",
     "output_type": "stream",
     "text": [
      "\u001b[34mimport\u001b[39;49;00m \u001b[04m\u001b[36mtorch.nn\u001b[39;49;00m \u001b[34mas\u001b[39;49;00m \u001b[04m\u001b[36mnn\u001b[39;49;00m\r\n",
      "\r\n",
      "\u001b[34mclass\u001b[39;49;00m \u001b[04m\u001b[32mLSTMClassifier\u001b[39;49;00m(nn.Module):\r\n",
      "    \u001b[33m\"\"\"\u001b[39;49;00m\r\n",
      "\u001b[33m    This is the simple RNN model we will be using to perform Sentiment Analysis.\u001b[39;49;00m\r\n",
      "\u001b[33m    \"\"\"\u001b[39;49;00m\r\n",
      "\r\n",
      "    \u001b[34mdef\u001b[39;49;00m \u001b[32m__init__\u001b[39;49;00m(\u001b[36mself\u001b[39;49;00m, embedding_dim, hidden_dim, vocab_size):\r\n",
      "        \u001b[33m\"\"\"\u001b[39;49;00m\r\n",
      "\u001b[33m        Initialize the model by settingg up the various layers.\u001b[39;49;00m\r\n",
      "\u001b[33m        \"\"\"\u001b[39;49;00m\r\n",
      "        \u001b[36msuper\u001b[39;49;00m(LSTMClassifier, \u001b[36mself\u001b[39;49;00m).\u001b[32m__init__\u001b[39;49;00m()\r\n",
      "\r\n",
      "        \u001b[36mself\u001b[39;49;00m.embedding = nn.Embedding(vocab_size, embedding_dim, padding_idx=\u001b[34m0\u001b[39;49;00m)\r\n",
      "        \u001b[36mself\u001b[39;49;00m.lstm = nn.LSTM(embedding_dim, hidden_dim)\r\n",
      "        \u001b[36mself\u001b[39;49;00m.dense = nn.Linear(in_features=hidden_dim, out_features=\u001b[34m1\u001b[39;49;00m)\r\n",
      "        \u001b[36mself\u001b[39;49;00m.sig = nn.Sigmoid()\r\n",
      "        \r\n",
      "        \u001b[36mself\u001b[39;49;00m.word_dict = \u001b[36mNone\u001b[39;49;00m\r\n",
      "\r\n",
      "    \u001b[34mdef\u001b[39;49;00m \u001b[32mforward\u001b[39;49;00m(\u001b[36mself\u001b[39;49;00m, x):\r\n",
      "        \u001b[33m\"\"\"\u001b[39;49;00m\r\n",
      "\u001b[33m        Perform a forward pass of our model on some input.\u001b[39;49;00m\r\n",
      "\u001b[33m        \"\"\"\u001b[39;49;00m\r\n",
      "        x = x.t()\r\n",
      "        lengths = x[\u001b[34m0\u001b[39;49;00m,:]\r\n",
      "        reviews = x[\u001b[34m1\u001b[39;49;00m:,:]\r\n",
      "        embeds = \u001b[36mself\u001b[39;49;00m.embedding(reviews)\r\n",
      "        lstm_out, _ = \u001b[36mself\u001b[39;49;00m.lstm(embeds)\r\n",
      "        out = \u001b[36mself\u001b[39;49;00m.dense(lstm_out)\r\n",
      "        out = out[lengths - \u001b[34m1\u001b[39;49;00m, \u001b[36mrange\u001b[39;49;00m(\u001b[36mlen\u001b[39;49;00m(lengths))]\r\n",
      "        \u001b[34mreturn\u001b[39;49;00m \u001b[36mself\u001b[39;49;00m.sig(out.squeeze())\r\n"
     ]
    }
   ],
   "source": [
    "!pygmentize train/model.py"
   ]
  },
  {
   "cell_type": "markdown",
   "metadata": {},
   "source": [
    "The important takeaway from the implementation provided is that there are three parameters that we may wish to tweak to improve the performance of our model. These are the embedding dimension, the hidden dimension and the size of the vocabulary. We will likely want to make these parameters configurable in the training script so that if we wish to modify them we do not need to modify the script itself. We will see how to do this later on. To start we will write some of the training code in the notebook so that we can more easily diagnose any issues that arise.\n",
    "\n",
    "First we will load a small portion of the training data set to use as a sample. It would be very time consuming to try and train the model completely in the notebook as we do not have access to a gpu and the compute instance that we are using is not particularly powerful. However, we can work on a small bit of the data to get a feel for how our training script is behaving."
   ]
  },
  {
   "cell_type": "code",
   "execution_count": 25,
   "metadata": {},
   "outputs": [],
   "source": [
    "import torch\n",
    "import torch.utils.data\n",
    "\n",
    "# Read in only the first 250 rows\n",
    "train_sample = pd.read_csv(os.path.join(data_dir, 'train.csv'), header=None, names=None, nrows=250)\n",
    "\n",
    "# Turn the input pandas dataframe into tensors\n",
    "train_sample_y = torch.from_numpy(train_sample[[0]].values).float().squeeze()\n",
    "train_sample_X = torch.from_numpy(train_sample.drop([0], axis=1).values).long()\n",
    "\n",
    "# Build the dataset\n",
    "train_sample_ds = torch.utils.data.TensorDataset(train_sample_X, train_sample_y)\n",
    "# Build the dataloader\n",
    "train_sample_dl = torch.utils.data.DataLoader(train_sample_ds, batch_size=50)"
   ]
  },
  {
   "cell_type": "markdown",
   "metadata": {},
   "source": [
    "### (TODO) Writing the training method\n",
    "\n",
    "Next we need to write the training code itself. This should be very similar to training methods that you have written before to train PyTorch models. We will leave any difficult aspects such as model saving / loading and parameter loading until a little later."
   ]
  },
  {
   "cell_type": "code",
   "execution_count": 26,
   "metadata": {},
   "outputs": [],
   "source": [
    "def train(model, train_loader, epochs, optimizer, loss_fn, device):\n",
    "    for epoch in range(1, epochs + 1):\n",
    "        model.train()\n",
    "        total_loss = 0\n",
    "        for batch in train_loader:         \n",
    "            batch_X, batch_y = batch\n",
    "            \n",
    "            batch_X = batch_X.to(device)\n",
    "            batch_y = batch_y.to(device)\n",
    "            \n",
    "            # TODO: Complete this train method to train the model provided.\n",
    "            # optimizer.zero_grad() # zero accumulated gradients\n",
    "            model.zero_grad()\n",
    "            # get output of SimpleNet\n",
    "            # output = model(batch_X)\n",
    "            output = model.forward(batch_X)\n",
    "            # calculate loss and perform backprop\n",
    "            # loss = loss_fn(output, batch_y)\n",
    "            loss = loss_fn(output.squeeze(), batch_y)\n",
    "            loss.backward()\n",
    "            optimizer.step()\n",
    "            \n",
    "            total_loss += loss.data.item()\n",
    "        print(\"Epoch: {}, BCELoss: {}\".format(epoch, total_loss / len(train_loader)))"
   ]
  },
  {
   "cell_type": "markdown",
   "metadata": {},
   "source": [
    "Supposing we have the training method above, we will test that it is working by writing a bit of code in the notebook that executes our training method on the small sample training set that we loaded earlier. The reason for doing this in the notebook is so that we have an opportunity to fix any errors that arise early when they are easier to diagnose."
   ]
  },
  {
   "cell_type": "code",
   "execution_count": 27,
   "metadata": {},
   "outputs": [
    {
     "name": "stdout",
     "output_type": "stream",
     "text": [
      "Epoch: 1, BCELoss: 0.6887337327003479\n",
      "Epoch: 2, BCELoss: 0.6779070973396302\n",
      "Epoch: 3, BCELoss: 0.6687022686004639\n",
      "Epoch: 4, BCELoss: 0.6587632417678833\n",
      "Epoch: 5, BCELoss: 0.6469373941421509\n"
     ]
    }
   ],
   "source": [
    "import torch.optim as optim\n",
    "from train.model import LSTMClassifier\n",
    "\n",
    "device = torch.device(\"cuda\" if torch.cuda.is_available() else \"cpu\")\n",
    "model = LSTMClassifier(32, 100, 5000).to(device)\n",
    "optimizer = optim.Adam(model.parameters())\n",
    "loss_fn = torch.nn.BCELoss()\n",
    "\n",
    "train(model, train_sample_dl, 5, optimizer, loss_fn, device)"
   ]
  },
  {
   "cell_type": "markdown",
   "metadata": {},
   "source": [
    "In order to construct a PyTorch model using SageMaker we must provide SageMaker with a training script. We may optionally include a directory which will be copied to the container and from which our training code will be run. When the training container is executed it will check the uploaded directory (if there is one) for a `requirements.txt` file and install any required Python libraries, after which the training script will be run."
   ]
  },
  {
   "cell_type": "markdown",
   "metadata": {},
   "source": [
    "### (TODO) Training the model\n",
    "\n",
    "When a PyTorch model is constructed in SageMaker, an entry point must be specified. This is the Python file which will be executed when the model is trained. Inside of the `train` directory is a file called `train.py` which has been provided and which contains most of the necessary code to train our model. The only thing that is missing is the implementation of the `train()` method which you wrote earlier in this notebook.\n",
    "\n",
    "**TODO**: Copy the `train()` method written above and paste it into the `train/train.py` file where required.\n",
    "\n",
    "The way that SageMaker passes hyperparameters to the training script is by way of arguments. These arguments can then be parsed and used in the training script. To see how this is done take a look at the provided `train/train.py` file."
   ]
  },
  {
   "cell_type": "code",
   "execution_count": 28,
   "metadata": {},
   "outputs": [],
   "source": [
    "from sagemaker.pytorch import PyTorch\n",
    "\n",
    "estimator = PyTorch(entry_point=\"train.py\",\n",
    "                    source_dir=\"train\",\n",
    "                    role=role,\n",
    "                    framework_version='0.4.0',\n",
    "                    train_instance_count=1,\n",
    "                    train_instance_type='ml.p2.xlarge',\n",
    "                    hyperparameters={\n",
    "                        'epochs': 10,\n",
    "                        'hidden_dim': 200,\n",
    "                    })"
   ]
  },
  {
   "cell_type": "code",
   "execution_count": 29,
   "metadata": {},
   "outputs": [
    {
     "name": "stdout",
     "output_type": "stream",
     "text": [
      "2020-02-06 19:34:43 Starting - Starting the training job...\n",
      "2020-02-06 19:34:45 Starting - Launching requested ML instances............\n",
      "2020-02-06 19:36:51 Starting - Preparing the instances for training.........\n",
      "2020-02-06 19:38:20 Downloading - Downloading input data...\n",
      "2020-02-06 19:39:00 Training - Downloading the training image...\n",
      "2020-02-06 19:39:26 Training - Training image download completed. Training in progress.\u001b[34mbash: cannot set terminal process group (-1): Inappropriate ioctl for device\u001b[0m\n",
      "\u001b[34mbash: no job control in this shell\u001b[0m\n",
      "\u001b[34m2020-02-06 19:39:27,961 sagemaker-containers INFO     Imported framework sagemaker_pytorch_container.training\u001b[0m\n",
      "\u001b[34m2020-02-06 19:39:27,988 sagemaker_pytorch_container.training INFO     Block until all host DNS lookups succeed.\u001b[0m\n",
      "\u001b[34m2020-02-06 19:39:27,992 sagemaker_pytorch_container.training INFO     Invoking user training script.\u001b[0m\n",
      "\u001b[34m2020-02-06 19:39:43,569 sagemaker-containers INFO     Module train does not provide a setup.py. \u001b[0m\n",
      "\u001b[34mGenerating setup.py\u001b[0m\n",
      "\u001b[34m2020-02-06 19:39:43,569 sagemaker-containers INFO     Generating setup.cfg\u001b[0m\n",
      "\u001b[34m2020-02-06 19:39:43,570 sagemaker-containers INFO     Generating MANIFEST.in\u001b[0m\n",
      "\u001b[34m2020-02-06 19:39:43,570 sagemaker-containers INFO     Installing module with the following command:\u001b[0m\n",
      "\u001b[34m/usr/bin/python -m pip install -U . -r requirements.txt\u001b[0m\n",
      "\u001b[34mProcessing /opt/ml/code\u001b[0m\n",
      "\u001b[34mCollecting pandas (from -r requirements.txt (line 1))\u001b[0m\n",
      "\u001b[34m  Downloading https://files.pythonhosted.org/packages/74/24/0cdbf8907e1e3bc5a8da03345c23cbed7044330bb8f73bb12e711a640a00/pandas-0.24.2-cp35-cp35m-manylinux1_x86_64.whl (10.0MB)\u001b[0m\n",
      "\u001b[34mCollecting numpy (from -r requirements.txt (line 2))\n",
      "  Downloading https://files.pythonhosted.org/packages/52/e6/1715e592ef47f28f3f50065322423bb75619ed2f7c24be86380ecc93503c/numpy-1.18.1-cp35-cp35m-manylinux1_x86_64.whl (19.9MB)\u001b[0m\n",
      "\u001b[34mCollecting nltk (from -r requirements.txt (line 3))\n",
      "  Downloading https://files.pythonhosted.org/packages/f6/1d/d925cfb4f324ede997f6d47bea4d9babba51b49e87a767c170b77005889d/nltk-3.4.5.zip (1.5MB)\u001b[0m\n",
      "\u001b[34mCollecting beautifulsoup4 (from -r requirements.txt (line 4))\n",
      "  Downloading https://files.pythonhosted.org/packages/cb/a1/c698cf319e9cfed6b17376281bd0efc6bfc8465698f54170ef60a485ab5d/beautifulsoup4-4.8.2-py3-none-any.whl (106kB)\u001b[0m\n",
      "\u001b[34mCollecting html5lib (from -r requirements.txt (line 5))\n",
      "  Downloading https://files.pythonhosted.org/packages/a5/62/bbd2be0e7943ec8504b517e62bab011b4946e1258842bc159e5dfde15b96/html5lib-1.0.1-py2.py3-none-any.whl (117kB)\u001b[0m\n",
      "\u001b[34mCollecting pytz>=2011k (from pandas->-r requirements.txt (line 1))\u001b[0m\n",
      "\u001b[34m  Downloading https://files.pythonhosted.org/packages/e7/f9/f0b53f88060247251bf481fa6ea62cd0d25bf1b11a87888e53ce5b7c8ad2/pytz-2019.3-py2.py3-none-any.whl (509kB)\u001b[0m\n",
      "\u001b[34mRequirement already satisfied, skipping upgrade: python-dateutil>=2.5.0 in /usr/local/lib/python3.5/dist-packages (from pandas->-r requirements.txt (line 1)) (2.7.5)\u001b[0m\n",
      "\u001b[34mRequirement already satisfied, skipping upgrade: six in /usr/local/lib/python3.5/dist-packages (from nltk->-r requirements.txt (line 3)) (1.11.0)\u001b[0m\n",
      "\u001b[34mCollecting soupsieve>=1.2 (from beautifulsoup4->-r requirements.txt (line 4))\n",
      "  Downloading https://files.pythonhosted.org/packages/81/94/03c0f04471fc245d08d0a99f7946ac228ca98da4fa75796c507f61e688c2/soupsieve-1.9.5-py2.py3-none-any.whl\u001b[0m\n",
      "\u001b[34mCollecting webencodings (from html5lib->-r requirements.txt (line 5))\n",
      "  Downloading https://files.pythonhosted.org/packages/f4/24/2a3e3df732393fed8b3ebf2ec078f05546de641fe1b667ee316ec1dcf3b7/webencodings-0.5.1-py2.py3-none-any.whl\u001b[0m\n",
      "\u001b[34mBuilding wheels for collected packages: nltk, train\n",
      "  Running setup.py bdist_wheel for nltk: started\u001b[0m\n",
      "\u001b[34m  Running setup.py bdist_wheel for nltk: finished with status 'done'\n",
      "  Stored in directory: /root/.cache/pip/wheels/96/86/f6/68ab24c23f207c0077381a5e3904b2815136b879538a24b483\n",
      "  Running setup.py bdist_wheel for train: started\n",
      "  Running setup.py bdist_wheel for train: finished with status 'done'\n",
      "  Stored in directory: /tmp/pip-ephem-wheel-cache-p0roptvq/wheels/35/24/16/37574d11bf9bde50616c67372a334f94fa8356bc7164af8ca3\u001b[0m\n",
      "\u001b[34mSuccessfully built nltk train\u001b[0m\n",
      "\u001b[34mInstalling collected packages: numpy, pytz, pandas, nltk, soupsieve, beautifulsoup4, webencodings, html5lib, train\n",
      "  Found existing installation: numpy 1.15.4\n",
      "    Uninstalling numpy-1.15.4:\u001b[0m\n",
      "\u001b[34m      Successfully uninstalled numpy-1.15.4\u001b[0m\n",
      "\u001b[34mSuccessfully installed beautifulsoup4-4.8.2 html5lib-1.0.1 nltk-3.4.5 numpy-1.18.1 pandas-0.24.2 pytz-2019.3 soupsieve-1.9.5 train-1.0.0 webencodings-0.5.1\u001b[0m\n",
      "\u001b[34mYou are using pip version 18.1, however version 20.0.2 is available.\u001b[0m\n",
      "\u001b[34mYou should consider upgrading via the 'pip install --upgrade pip' command.\u001b[0m\n",
      "\u001b[34m2020-02-06 19:39:56,877 sagemaker-containers INFO     Invoking user script\n",
      "\u001b[0m\n",
      "\u001b[34mTraining Env:\n",
      "\u001b[0m\n",
      "\u001b[34m{\n",
      "    \"input_dir\": \"/opt/ml/input\",\n",
      "    \"input_config_dir\": \"/opt/ml/input/config\",\n",
      "    \"model_dir\": \"/opt/ml/model\",\n",
      "    \"hyperparameters\": {\n",
      "        \"epochs\": 10,\n",
      "        \"hidden_dim\": 200\n",
      "    },\n",
      "    \"framework_module\": \"sagemaker_pytorch_container.training:main\",\n",
      "    \"channel_input_dirs\": {\n",
      "        \"training\": \"/opt/ml/input/data/training\"\n",
      "    },\n",
      "    \"output_data_dir\": \"/opt/ml/output/data\",\n",
      "    \"resource_config\": {\n",
      "        \"current_host\": \"algo-1\",\n",
      "        \"network_interface_name\": \"eth0\",\n",
      "        \"hosts\": [\n",
      "            \"algo-1\"\n",
      "        ]\n",
      "    },\n",
      "    \"additional_framework_parameters\": {},\n",
      "    \"network_interface_name\": \"eth0\",\n",
      "    \"input_data_config\": {\n",
      "        \"training\": {\n",
      "            \"RecordWrapperType\": \"None\",\n",
      "            \"TrainingInputMode\": \"File\",\n",
      "            \"S3DistributionType\": \"FullyReplicated\"\n",
      "        }\n",
      "    },\n",
      "    \"current_host\": \"algo-1\",\n",
      "    \"log_level\": 20,\n",
      "    \"output_dir\": \"/opt/ml/output\",\n",
      "    \"num_gpus\": 1,\n",
      "    \"user_entry_point\": \"train.py\",\n",
      "    \"num_cpus\": 4,\n",
      "    \"module_dir\": \"s3://sagemaker-us-east-1-455773471561/sagemaker-pytorch-2020-02-06-19-34-42-875/source/sourcedir.tar.gz\",\n",
      "    \"module_name\": \"train\",\n",
      "    \"job_name\": \"sagemaker-pytorch-2020-02-06-19-34-42-875\",\n",
      "    \"hosts\": [\n",
      "        \"algo-1\"\n",
      "    ],\n",
      "    \"output_intermediate_dir\": \"/opt/ml/output/intermediate\"\u001b[0m\n",
      "\u001b[34m}\n",
      "\u001b[0m\n",
      "\u001b[34mEnvironment variables:\n",
      "\u001b[0m\n",
      "\u001b[34mSM_TRAINING_ENV={\"additional_framework_parameters\":{},\"channel_input_dirs\":{\"training\":\"/opt/ml/input/data/training\"},\"current_host\":\"algo-1\",\"framework_module\":\"sagemaker_pytorch_container.training:main\",\"hosts\":[\"algo-1\"],\"hyperparameters\":{\"epochs\":10,\"hidden_dim\":200},\"input_config_dir\":\"/opt/ml/input/config\",\"input_data_config\":{\"training\":{\"RecordWrapperType\":\"None\",\"S3DistributionType\":\"FullyReplicated\",\"TrainingInputMode\":\"File\"}},\"input_dir\":\"/opt/ml/input\",\"job_name\":\"sagemaker-pytorch-2020-02-06-19-34-42-875\",\"log_level\":20,\"model_dir\":\"/opt/ml/model\",\"module_dir\":\"s3://sagemaker-us-east-1-455773471561/sagemaker-pytorch-2020-02-06-19-34-42-875/source/sourcedir.tar.gz\",\"module_name\":\"train\",\"network_interface_name\":\"eth0\",\"num_cpus\":4,\"num_gpus\":1,\"output_data_dir\":\"/opt/ml/output/data\",\"output_dir\":\"/opt/ml/output\",\"output_intermediate_dir\":\"/opt/ml/output/intermediate\",\"resource_config\":{\"current_host\":\"algo-1\",\"hosts\":[\"algo-1\"],\"network_interface_name\":\"eth0\"},\"user_entry_point\":\"train.py\"}\u001b[0m\n",
      "\u001b[34mSM_INPUT_CONFIG_DIR=/opt/ml/input/config\u001b[0m\n",
      "\u001b[34mSM_OUTPUT_DIR=/opt/ml/output\u001b[0m\n",
      "\u001b[34mSM_NUM_CPUS=4\u001b[0m\n",
      "\u001b[34mSM_HP_HIDDEN_DIM=200\u001b[0m\n",
      "\u001b[34mSM_OUTPUT_INTERMEDIATE_DIR=/opt/ml/output/intermediate\u001b[0m\n",
      "\u001b[34mSM_HOSTS=[\"algo-1\"]\u001b[0m\n",
      "\u001b[34mSM_RESOURCE_CONFIG={\"current_host\":\"algo-1\",\"hosts\":[\"algo-1\"],\"network_interface_name\":\"eth0\"}\u001b[0m\n",
      "\u001b[34mSM_NUM_GPUS=1\u001b[0m\n",
      "\u001b[34mSM_OUTPUT_DATA_DIR=/opt/ml/output/data\u001b[0m\n",
      "\u001b[34mSM_CURRENT_HOST=algo-1\u001b[0m\n",
      "\u001b[34mSM_USER_ARGS=[\"--epochs\",\"10\",\"--hidden_dim\",\"200\"]\u001b[0m\n",
      "\u001b[34mSM_USER_ENTRY_POINT=train.py\u001b[0m\n",
      "\u001b[34mSM_CHANNEL_TRAINING=/opt/ml/input/data/training\u001b[0m\n",
      "\u001b[34mSM_INPUT_DIR=/opt/ml/input\u001b[0m\n",
      "\u001b[34mSM_LOG_LEVEL=20\u001b[0m\n",
      "\u001b[34mSM_MODULE_NAME=train\u001b[0m\n",
      "\u001b[34mSM_MODULE_DIR=s3://sagemaker-us-east-1-455773471561/sagemaker-pytorch-2020-02-06-19-34-42-875/source/sourcedir.tar.gz\u001b[0m\n",
      "\u001b[34mSM_HPS={\"epochs\":10,\"hidden_dim\":200}\u001b[0m\n",
      "\u001b[34mSM_CHANNELS=[\"training\"]\u001b[0m\n",
      "\u001b[34mSM_FRAMEWORK_MODULE=sagemaker_pytorch_container.training:main\u001b[0m\n",
      "\u001b[34mSM_HP_EPOCHS=10\u001b[0m\n",
      "\u001b[34mSM_INPUT_DATA_CONFIG={\"training\":{\"RecordWrapperType\":\"None\",\"S3DistributionType\":\"FullyReplicated\",\"TrainingInputMode\":\"File\"}}\u001b[0m\n",
      "\u001b[34mPYTHONPATH=/usr/local/bin:/usr/lib/python35.zip:/usr/lib/python3.5:/usr/lib/python3.5/plat-x86_64-linux-gnu:/usr/lib/python3.5/lib-dynload:/usr/local/lib/python3.5/dist-packages:/usr/lib/python3/dist-packages\u001b[0m\n",
      "\u001b[34mSM_FRAMEWORK_PARAMS={}\u001b[0m\n",
      "\u001b[34mSM_MODEL_DIR=/opt/ml/model\u001b[0m\n",
      "\u001b[34mSM_NETWORK_INTERFACE_NAME=eth0\n",
      "\u001b[0m\n",
      "\u001b[34mInvoking script with the following command:\n",
      "\u001b[0m\n",
      "\u001b[34m/usr/bin/python -m train --epochs 10 --hidden_dim 200\n",
      "\n",
      "\u001b[0m\n",
      "\u001b[34mUsing device cuda.\u001b[0m\n",
      "\u001b[34mGet train data loader.\u001b[0m\n"
     ]
    },
    {
     "name": "stdout",
     "output_type": "stream",
     "text": [
      "\u001b[34mModel loaded with embedding_dim 32, hidden_dim 200, vocab_size 5000.\u001b[0m\n",
      "\u001b[34mEpoch: 1, BCELoss: 0.6745271025871744\u001b[0m\n",
      "\u001b[34mEpoch: 2, BCELoss: 0.5933081556339653\u001b[0m\n",
      "\u001b[34mEpoch: 3, BCELoss: 0.49283239245414734\u001b[0m\n",
      "\u001b[34mEpoch: 4, BCELoss: 0.4323830312612105\u001b[0m\n",
      "\u001b[34mEpoch: 5, BCELoss: 0.37349817460897017\u001b[0m\n",
      "\u001b[34mEpoch: 6, BCELoss: 0.3417223126304393\u001b[0m\n",
      "\u001b[34mEpoch: 7, BCELoss: 0.319312326762141\u001b[0m\n",
      "\u001b[34mEpoch: 8, BCELoss: 0.30795856793316045\u001b[0m\n",
      "\u001b[34mEpoch: 9, BCELoss: 0.28866755171697966\u001b[0m\n",
      "\u001b[34mEpoch: 10, BCELoss: 0.28151913534621803\u001b[0m\n",
      "\u001b[34m2020-02-06 19:42:56,922 sagemaker-containers INFO     Reporting training SUCCESS\u001b[0m\n",
      "\n",
      "2020-02-06 19:43:07 Uploading - Uploading generated training model\n",
      "2020-02-06 19:43:07 Completed - Training job completed\n",
      "Training seconds: 287\n",
      "Billable seconds: 287\n"
     ]
    }
   ],
   "source": [
    "estimator.fit({'training': input_data})"
   ]
  },
  {
   "cell_type": "markdown",
   "metadata": {},
   "source": [
    "## Step 5: Testing the model\n",
    "\n",
    "As mentioned at the top of this notebook, we will be testing this model by first deploying it and then sending the testing data to the deployed endpoint. We will do this so that we can make sure that the deployed model is working correctly.\n",
    "\n",
    "## Step 6: Deploy the model for testing\n",
    "\n",
    "Now that we have trained our model, we would like to test it to see how it performs. Currently our model takes input of the form `review_length, review[500]` where `review[500]` is a sequence of `500` integers which describe the words present in the review, encoded using `word_dict`. Fortunately for us, SageMaker provides built-in inference code for models with simple inputs such as this.\n",
    "\n",
    "There is one thing that we need to provide, however, and that is a function which loads the saved model. This function must be called `model_fn()` and takes as its only parameter a path to the directory where the model artifacts are stored. This function must also be present in the python file which we specified as the entry point. In our case the model loading function has been provided and so no changes need to be made.\n",
    "\n",
    "**NOTE**: When the built-in inference code is run it must import the `model_fn()` method from the `train.py` file. This is why the training code is wrapped in a main guard ( ie, `if __name__ == '__main__':` )\n",
    "\n",
    "Since we don't need to change anything in the code that was uploaded during training, we can simply deploy the current model as-is.\n",
    "\n",
    "**NOTE:** When deploying a model you are asking SageMaker to launch an compute instance that will wait for data to be sent to it. As a result, this compute instance will continue to run until *you* shut it down. This is important to know since the cost of a deployed endpoint depends on how long it has been running for.\n",
    "\n",
    "In other words **If you are no longer using a deployed endpoint, shut it down!**\n",
    "\n",
    "**TODO:** Deploy the trained model."
   ]
  },
  {
   "cell_type": "code",
   "execution_count": 30,
   "metadata": {},
   "outputs": [
    {
     "name": "stdout",
     "output_type": "stream",
     "text": [
      "-------------------!CPU times: user 325 ms, sys: 28.1 ms, total: 354 ms\n",
      "Wall time: 9min 32s\n"
     ]
    }
   ],
   "source": [
    "%%time\n",
    "# TODO: Deploy the trained model\n",
    "predictor = estimator.deploy(initial_instance_count=1, instance_type='ml.m4.xlarge')"
   ]
  },
  {
   "cell_type": "code",
   "execution_count": 31,
   "metadata": {},
   "outputs": [
    {
     "data": {
      "text/plain": [
       "'sagemaker-pytorch-2020-02-06-19-34-42-875'"
      ]
     },
     "execution_count": 31,
     "metadata": {},
     "output_type": "execute_result"
    }
   ],
   "source": [
    "predictor.endpoint"
   ]
  },
  {
   "cell_type": "markdown",
   "metadata": {},
   "source": [
    "## Step 7 - Use the model for testing\n",
    "\n",
    "Once deployed, we can read in the test data and send it off to our deployed model to get some results. Once we collect all of the results we can determine how accurate our model is."
   ]
  },
  {
   "cell_type": "code",
   "execution_count": 32,
   "metadata": {},
   "outputs": [],
   "source": [
    "test_X = pd.concat([pd.DataFrame(test_X_len), pd.DataFrame(test_X)], axis=1)"
   ]
  },
  {
   "cell_type": "code",
   "execution_count": 33,
   "metadata": {},
   "outputs": [],
   "source": [
    "# We split the data into chunks and send each chunk seperately, accumulating the results.\n",
    "\n",
    "def predict(data, rows=512):\n",
    "    split_array = np.array_split(data, int(data.shape[0] / float(rows) + 1))\n",
    "    predictions = np.array([])\n",
    "    for array in split_array:\n",
    "        predictions = np.append(predictions, predictor.predict(array))\n",
    "    \n",
    "    return predictions"
   ]
  },
  {
   "cell_type": "code",
   "execution_count": 34,
   "metadata": {},
   "outputs": [],
   "source": [
    "predictions = predict(test_X.values)\n",
    "predictions = [round(num) for num in predictions]"
   ]
  },
  {
   "cell_type": "code",
   "execution_count": 35,
   "metadata": {},
   "outputs": [
    {
     "data": {
      "text/plain": [
       "0.85316"
      ]
     },
     "execution_count": 35,
     "metadata": {},
     "output_type": "execute_result"
    }
   ],
   "source": [
    "from sklearn.metrics import accuracy_score\n",
    "accuracy_score(test_y, predictions)"
   ]
  },
  {
   "cell_type": "markdown",
   "metadata": {},
   "source": [
    "**Question:** How does this model compare to the XGBoost model you created earlier? Why might these two models perform differently on this dataset? Which do *you* think is better for sentiment analysis?"
   ]
  },
  {
   "cell_type": "markdown",
   "metadata": {},
   "source": [
    "**Answer:** The XGBoost model performed better than this model. The reason why these two models may perform differently is due to the number of epochs that was stated for the XGBoost. Given that we increase the number of epochs on this model, I think it will outperform the XGBoost model for sentiment analysis"
   ]
  },
  {
   "cell_type": "markdown",
   "metadata": {},
   "source": [
    "### (TODO) More testing\n",
    "\n",
    "We now have a trained model which has been deployed and which we can send processed reviews to and which returns the predicted sentiment. However, ultimately we would like to be able to send our model an unprocessed review. That is, we would like to send the review itself as a string. For example, suppose we wish to send the following review to our model."
   ]
  },
  {
   "cell_type": "code",
   "execution_count": 36,
   "metadata": {},
   "outputs": [],
   "source": [
    "test_review = 'The simplest pleasures in life are the best, and this film is one of them. Combining a rather basic storyline of love and adventure this movie transcends the usual weekend fair with wit and unmitigated charm.'"
   ]
  },
  {
   "cell_type": "markdown",
   "metadata": {},
   "source": [
    "The question we now need to answer is, how do we send this review to our model?\n",
    "\n",
    "Recall in the first section of this notebook we did a bunch of data processing to the IMDb dataset. In particular, we did two specific things to the provided reviews.\n",
    " - Removed any html tags and stemmed the input\n",
    " - Encoded the review as a sequence of integers using `word_dict`\n",
    " \n",
    "In order process the review we will need to repeat these two steps.\n",
    "\n",
    "**TODO**: Using the `review_to_words` and `convert_and_pad` methods from section one, convert `test_review` into a numpy array `test_data` suitable to send to our model. Remember that our model expects input of the form `review_length, review[500]`."
   ]
  },
  {
   "cell_type": "code",
   "execution_count": 37,
   "metadata": {},
   "outputs": [],
   "source": [
    "# TODO: Convert test_review into a form usable by the model and save the results in test_data\n",
    "test_data, length = convert_and_pad(word_dict, review_to_words(test_review))\n",
    "length_test_data = np.array([np.array([length] + test_data)])"
   ]
  },
  {
   "cell_type": "markdown",
   "metadata": {},
   "source": [
    "Now that we have processed the review, we can send the resulting array to our model to predict the sentiment of the review."
   ]
  },
  {
   "cell_type": "code",
   "execution_count": 38,
   "metadata": {},
   "outputs": [
    {
     "data": {
      "text/plain": [
       "array(0.9513822, dtype=float32)"
      ]
     },
     "execution_count": 38,
     "metadata": {},
     "output_type": "execute_result"
    }
   ],
   "source": [
    "predictor.predict(length_test_data)"
   ]
  },
  {
   "cell_type": "markdown",
   "metadata": {},
   "source": [
    "Since the return value of our model is close to `1`, we can be certain that the review we submitted is positive."
   ]
  },
  {
   "cell_type": "markdown",
   "metadata": {},
   "source": [
    "### Delete the endpoint\n",
    "\n",
    "Of course, just like in the XGBoost notebook, once we've deployed an endpoint it continues to run until we tell it to shut down. Since we are done using our endpoint for now, we can delete it."
   ]
  },
  {
   "cell_type": "code",
   "execution_count": 39,
   "metadata": {},
   "outputs": [],
   "source": [
    "estimator.delete_endpoint()"
   ]
  },
  {
   "cell_type": "markdown",
   "metadata": {},
   "source": [
    "## Step 6 (again) - Deploy the model for the web app\n",
    "\n",
    "Now that we know that our model is working, it's time to create some custom inference code so that we can send the model a review which has not been processed and have it determine the sentiment of the review.\n",
    "\n",
    "As we saw above, by default the estimator which we created, when deployed, will use the entry script and directory which we provided when creating the model. However, since we now wish to accept a string as input and our model expects a processed review, we need to write some custom inference code.\n",
    "\n",
    "We will store the code that we write in the `serve` directory. Provided in this directory is the `model.py` file that we used to construct our model, a `utils.py` file which contains the `review_to_words` and `convert_and_pad` pre-processing functions which we used during the initial data processing, and `predict.py`, the file which will contain our custom inference code. Note also that `requirements.txt` is present which will tell SageMaker what Python libraries are required by our custom inference code.\n",
    "\n",
    "When deploying a PyTorch model in SageMaker, you are expected to provide four functions which the SageMaker inference container will use.\n",
    " - `model_fn`: This function is the same function that we used in the training script and it tells SageMaker how to load our model.\n",
    " - `input_fn`: This function receives the raw serialized input that has been sent to the model's endpoint and its job is to de-serialize and make the input available for the inference code.\n",
    " - `output_fn`: This function takes the output of the inference code and its job is to serialize this output and return it to the caller of the model's endpoint.\n",
    " - `predict_fn`: The heart of the inference script, this is where the actual prediction is done and is the function which you will need to complete.\n",
    "\n",
    "For the simple website that we are constructing during this project, the `input_fn` and `output_fn` methods are relatively straightforward. We only require being able to accept a string as input and we expect to return a single value as output. You might imagine though that in a more complex application the input or output may be image data or some other binary data which would require some effort to serialize.\n",
    "\n",
    "### (TODO) Writing inference code\n",
    "\n",
    "Before writing our custom inference code, we will begin by taking a look at the code which has been provided."
   ]
  },
  {
   "cell_type": "code",
   "execution_count": 40,
   "metadata": {},
   "outputs": [
    {
     "name": "stdout",
     "output_type": "stream",
     "text": [
      "\u001b[34mimport\u001b[39;49;00m \u001b[04m\u001b[36margparse\u001b[39;49;00m\r\n",
      "\u001b[34mimport\u001b[39;49;00m \u001b[04m\u001b[36mjson\u001b[39;49;00m\r\n",
      "\u001b[34mimport\u001b[39;49;00m \u001b[04m\u001b[36mos\u001b[39;49;00m\r\n",
      "\u001b[34mimport\u001b[39;49;00m \u001b[04m\u001b[36mpickle\u001b[39;49;00m\r\n",
      "\u001b[34mimport\u001b[39;49;00m \u001b[04m\u001b[36msys\u001b[39;49;00m\r\n",
      "\u001b[34mimport\u001b[39;49;00m \u001b[04m\u001b[36msagemaker_containers\u001b[39;49;00m\r\n",
      "\u001b[34mimport\u001b[39;49;00m \u001b[04m\u001b[36mpandas\u001b[39;49;00m \u001b[34mas\u001b[39;49;00m \u001b[04m\u001b[36mpd\u001b[39;49;00m\r\n",
      "\u001b[34mimport\u001b[39;49;00m \u001b[04m\u001b[36mnumpy\u001b[39;49;00m \u001b[34mas\u001b[39;49;00m \u001b[04m\u001b[36mnp\u001b[39;49;00m\r\n",
      "\u001b[34mimport\u001b[39;49;00m \u001b[04m\u001b[36mtorch\u001b[39;49;00m\r\n",
      "\u001b[34mimport\u001b[39;49;00m \u001b[04m\u001b[36mtorch.nn\u001b[39;49;00m \u001b[34mas\u001b[39;49;00m \u001b[04m\u001b[36mnn\u001b[39;49;00m\r\n",
      "\u001b[34mimport\u001b[39;49;00m \u001b[04m\u001b[36mtorch.optim\u001b[39;49;00m \u001b[34mas\u001b[39;49;00m \u001b[04m\u001b[36moptim\u001b[39;49;00m\r\n",
      "\u001b[34mimport\u001b[39;49;00m \u001b[04m\u001b[36mtorch.utils.data\u001b[39;49;00m\r\n",
      "\r\n",
      "\u001b[34mfrom\u001b[39;49;00m \u001b[04m\u001b[36mmodel\u001b[39;49;00m \u001b[34mimport\u001b[39;49;00m LSTMClassifier\r\n",
      "\r\n",
      "\u001b[34mfrom\u001b[39;49;00m \u001b[04m\u001b[36mutils\u001b[39;49;00m \u001b[34mimport\u001b[39;49;00m review_to_words, convert_and_pad\r\n",
      "\r\n",
      "\u001b[34mdef\u001b[39;49;00m \u001b[32mmodel_fn\u001b[39;49;00m(model_dir):\r\n",
      "    \u001b[33m\"\"\"Load the PyTorch model from the `model_dir` directory.\"\"\"\u001b[39;49;00m\r\n",
      "    \u001b[34mprint\u001b[39;49;00m(\u001b[33m\"\u001b[39;49;00m\u001b[33mLoading model.\u001b[39;49;00m\u001b[33m\"\u001b[39;49;00m)\r\n",
      "\r\n",
      "    \u001b[37m# First, load the parameters used to create the model.\u001b[39;49;00m\r\n",
      "    model_info = {}\r\n",
      "    model_info_path = os.path.join(model_dir, \u001b[33m'\u001b[39;49;00m\u001b[33mmodel_info.pth\u001b[39;49;00m\u001b[33m'\u001b[39;49;00m)\r\n",
      "    \u001b[34mwith\u001b[39;49;00m \u001b[36mopen\u001b[39;49;00m(model_info_path, \u001b[33m'\u001b[39;49;00m\u001b[33mrb\u001b[39;49;00m\u001b[33m'\u001b[39;49;00m) \u001b[34mas\u001b[39;49;00m f:\r\n",
      "        model_info = torch.load(f)\r\n",
      "\r\n",
      "    \u001b[34mprint\u001b[39;49;00m(\u001b[33m\"\u001b[39;49;00m\u001b[33mmodel_info: {}\u001b[39;49;00m\u001b[33m\"\u001b[39;49;00m.format(model_info))\r\n",
      "\r\n",
      "    \u001b[37m# Determine the device and construct the model.\u001b[39;49;00m\r\n",
      "    device = torch.device(\u001b[33m\"\u001b[39;49;00m\u001b[33mcuda\u001b[39;49;00m\u001b[33m\"\u001b[39;49;00m \u001b[34mif\u001b[39;49;00m torch.cuda.is_available() \u001b[34melse\u001b[39;49;00m \u001b[33m\"\u001b[39;49;00m\u001b[33mcpu\u001b[39;49;00m\u001b[33m\"\u001b[39;49;00m)\r\n",
      "    model = LSTMClassifier(model_info[\u001b[33m'\u001b[39;49;00m\u001b[33membedding_dim\u001b[39;49;00m\u001b[33m'\u001b[39;49;00m], model_info[\u001b[33m'\u001b[39;49;00m\u001b[33mhidden_dim\u001b[39;49;00m\u001b[33m'\u001b[39;49;00m], model_info[\u001b[33m'\u001b[39;49;00m\u001b[33mvocab_size\u001b[39;49;00m\u001b[33m'\u001b[39;49;00m])\r\n",
      "\r\n",
      "    \u001b[37m# Load the store model parameters.\u001b[39;49;00m\r\n",
      "    model_path = os.path.join(model_dir, \u001b[33m'\u001b[39;49;00m\u001b[33mmodel.pth\u001b[39;49;00m\u001b[33m'\u001b[39;49;00m)\r\n",
      "    \u001b[34mwith\u001b[39;49;00m \u001b[36mopen\u001b[39;49;00m(model_path, \u001b[33m'\u001b[39;49;00m\u001b[33mrb\u001b[39;49;00m\u001b[33m'\u001b[39;49;00m) \u001b[34mas\u001b[39;49;00m f:\r\n",
      "        model.load_state_dict(torch.load(f))\r\n",
      "\r\n",
      "    \u001b[37m# Load the saved word_dict.\u001b[39;49;00m\r\n",
      "    word_dict_path = os.path.join(model_dir, \u001b[33m'\u001b[39;49;00m\u001b[33mword_dict.pkl\u001b[39;49;00m\u001b[33m'\u001b[39;49;00m)\r\n",
      "    \u001b[34mwith\u001b[39;49;00m \u001b[36mopen\u001b[39;49;00m(word_dict_path, \u001b[33m'\u001b[39;49;00m\u001b[33mrb\u001b[39;49;00m\u001b[33m'\u001b[39;49;00m) \u001b[34mas\u001b[39;49;00m f:\r\n",
      "        model.word_dict = pickle.load(f)\r\n",
      "\r\n",
      "    model.to(device).eval()\r\n",
      "\r\n",
      "    \u001b[34mprint\u001b[39;49;00m(\u001b[33m\"\u001b[39;49;00m\u001b[33mDone loading model.\u001b[39;49;00m\u001b[33m\"\u001b[39;49;00m)\r\n",
      "    \u001b[34mreturn\u001b[39;49;00m model\r\n",
      "\r\n",
      "\u001b[34mdef\u001b[39;49;00m \u001b[32minput_fn\u001b[39;49;00m(serialized_input_data, content_type):\r\n",
      "    \u001b[34mprint\u001b[39;49;00m(\u001b[33m'\u001b[39;49;00m\u001b[33mDeserializing the input data.\u001b[39;49;00m\u001b[33m'\u001b[39;49;00m)\r\n",
      "    \u001b[34mif\u001b[39;49;00m content_type == \u001b[33m'\u001b[39;49;00m\u001b[33mtext/plain\u001b[39;49;00m\u001b[33m'\u001b[39;49;00m:\r\n",
      "        data = serialized_input_data.decode(\u001b[33m'\u001b[39;49;00m\u001b[33mutf-8\u001b[39;49;00m\u001b[33m'\u001b[39;49;00m)\r\n",
      "        \u001b[34mreturn\u001b[39;49;00m data\r\n",
      "    \u001b[34mraise\u001b[39;49;00m \u001b[36mException\u001b[39;49;00m(\u001b[33m'\u001b[39;49;00m\u001b[33mRequested unsupported ContentType in content_type: \u001b[39;49;00m\u001b[33m'\u001b[39;49;00m + content_type)\r\n",
      "\r\n",
      "\u001b[34mdef\u001b[39;49;00m \u001b[32moutput_fn\u001b[39;49;00m(prediction_output, accept):\r\n",
      "    \u001b[34mprint\u001b[39;49;00m(\u001b[33m'\u001b[39;49;00m\u001b[33mSerializing the generated output.\u001b[39;49;00m\u001b[33m'\u001b[39;49;00m)\r\n",
      "    \u001b[34mreturn\u001b[39;49;00m \u001b[36mstr\u001b[39;49;00m(prediction_output)\r\n",
      "\r\n",
      "\u001b[34mdef\u001b[39;49;00m \u001b[32mpredict_fn\u001b[39;49;00m(input_data, model):\r\n",
      "    \u001b[34mprint\u001b[39;49;00m(\u001b[33m'\u001b[39;49;00m\u001b[33mInferring sentiment of input data.\u001b[39;49;00m\u001b[33m'\u001b[39;49;00m)\r\n",
      "\r\n",
      "    device = torch.device(\u001b[33m\"\u001b[39;49;00m\u001b[33mcuda\u001b[39;49;00m\u001b[33m\"\u001b[39;49;00m \u001b[34mif\u001b[39;49;00m torch.cuda.is_available() \u001b[34melse\u001b[39;49;00m \u001b[33m\"\u001b[39;49;00m\u001b[33mcpu\u001b[39;49;00m\u001b[33m\"\u001b[39;49;00m)\r\n",
      "    \r\n",
      "    \u001b[34mif\u001b[39;49;00m model.word_dict \u001b[35mis\u001b[39;49;00m \u001b[36mNone\u001b[39;49;00m:\r\n",
      "        \u001b[34mraise\u001b[39;49;00m \u001b[36mException\u001b[39;49;00m(\u001b[33m'\u001b[39;49;00m\u001b[33mModel has not been loaded properly, no word_dict.\u001b[39;49;00m\u001b[33m'\u001b[39;49;00m)\r\n",
      "    \r\n",
      "    \u001b[37m# TODO: Process input_data so that it is ready to be sent to our model.\u001b[39;49;00m\r\n",
      "    \u001b[37m#       You should produce two variables:\u001b[39;49;00m\r\n",
      "    \u001b[37m#         data_X   - A sequence of length 500 which represents the converted review\u001b[39;49;00m\r\n",
      "    \u001b[37m#         data_len - The length of the review\u001b[39;49;00m\r\n",
      "\r\n",
      "    data_X, data_len = convert_and_pad(model.word_dict, review_to_words(input_data))\r\n",
      "\r\n",
      "    \u001b[37m# Using data_X and data_len we construct an appropriate input tensor. Remember\u001b[39;49;00m\r\n",
      "    \u001b[37m# that our model expects input data of the form 'len, review[500]'.\u001b[39;49;00m\r\n",
      "    data_pack = np.hstack((data_len, data_X))\r\n",
      "    data_pack = data_pack.reshape(\u001b[34m1\u001b[39;49;00m, -\u001b[34m1\u001b[39;49;00m)\r\n",
      "    \r\n",
      "    data = torch.from_numpy(data_pack)\r\n",
      "    data = data.to(device)\r\n",
      "\r\n",
      "    \u001b[37m# Make sure to put the model into evaluation mode\u001b[39;49;00m\r\n",
      "    model.eval()\r\n",
      "\r\n",
      "    \u001b[37m# TODO: Compute the result of applying the model to the input data. The variable `result` should\u001b[39;49;00m\r\n",
      "    \u001b[37m#       be a numpy array which contains a single integer which is either 1 or 0\u001b[39;49;00m\r\n",
      "    \u001b[34mwith\u001b[39;49;00m torch.no_grad():\r\n",
      "        output = model(data)\r\n",
      "    result = np.round(output.numpy())\r\n",
      "\r\n",
      "    \u001b[34mreturn\u001b[39;49;00m result\r\n"
     ]
    }
   ],
   "source": [
    "!pygmentize serve/predict.py"
   ]
  },
  {
   "cell_type": "markdown",
   "metadata": {},
   "source": [
    "As mentioned earlier, the `model_fn` method is the same as the one provided in the training code and the `input_fn` and `output_fn` methods are very simple and your task will be to complete the `predict_fn` method. Make sure that you save the completed file as `predict.py` in the `serve` directory.\n",
    "\n",
    "**TODO**: Complete the `predict_fn()` method in the `serve/predict.py` file."
   ]
  },
  {
   "cell_type": "markdown",
   "metadata": {},
   "source": [
    "### Deploying the model\n",
    "\n",
    "Now that the custom inference code has been written, we will create and deploy our model. To begin with, we need to construct a new PyTorchModel object which points to the model artifacts created during training and also points to the inference code that we wish to use. Then we can call the deploy method to launch the deployment container.\n",
    "\n",
    "**NOTE**: The default behaviour for a deployed PyTorch model is to assume that any input passed to the predictor is a `numpy` array. In our case we want to send a string so we need to construct a simple wrapper around the `RealTimePredictor` class to accomodate simple strings. In a more complicated situation you may want to provide a serialization object, for example if you wanted to sent image data."
   ]
  },
  {
   "cell_type": "code",
   "execution_count": 41,
   "metadata": {},
   "outputs": [
    {
     "name": "stdout",
     "output_type": "stream",
     "text": [
      "-------------------!"
     ]
    }
   ],
   "source": [
    "from sagemaker.predictor import RealTimePredictor\n",
    "from sagemaker.pytorch import PyTorchModel\n",
    "\n",
    "class StringPredictor(RealTimePredictor):\n",
    "    def __init__(self, endpoint_name, sagemaker_session):\n",
    "        super(StringPredictor, self).__init__(endpoint_name, sagemaker_session, content_type='text/plain')\n",
    "\n",
    "model = PyTorchModel(model_data=estimator.model_data,\n",
    "                     role = role,\n",
    "                     framework_version='0.4.0',\n",
    "                     entry_point='predict.py',\n",
    "                     source_dir='serve',\n",
    "                     predictor_cls=StringPredictor)\n",
    "predictor = model.deploy(initial_instance_count=1, instance_type='ml.m4.xlarge')"
   ]
  },
  {
   "cell_type": "markdown",
   "metadata": {},
   "source": [
    "### Testing the model\n",
    "\n",
    "Now that we have deployed our model with the custom inference code, we should test to see if everything is working. Here we test our model by loading the first `250` positive and negative reviews and send them to the endpoint, then collect the results. The reason for only sending some of the data is that the amount of time it takes for our model to process the input and then perform inference is quite long and so testing the entire data set would be prohibitive."
   ]
  },
  {
   "cell_type": "code",
   "execution_count": 44,
   "metadata": {},
   "outputs": [],
   "source": [
    "import glob\n",
    "\n",
    "def test_reviews(data_dir='../data/aclImdb', stop=250):\n",
    "    \n",
    "    results = []\n",
    "    ground = []\n",
    "    \n",
    "    # We make sure to test both positive and negative reviews    \n",
    "    for sentiment in ['pos', 'neg']:\n",
    "        \n",
    "        path = os.path.join(data_dir, 'test', sentiment, '*.txt')\n",
    "        files = glob.glob(path)\n",
    "        \n",
    "        files_read = 0\n",
    "        \n",
    "        print('Starting ', sentiment, ' files')\n",
    "        \n",
    "        # Iterate through the files and send them to the predictor\n",
    "        for f in files:\n",
    "            with open(f) as review:\n",
    "                # First, we store the ground truth (was the review positive or negative)\n",
    "                if sentiment == 'pos':\n",
    "                    ground.append(1)\n",
    "                else:\n",
    "                    ground.append(0)\n",
    "                # Read in the review and convert to 'utf-8' for transmission via HTTP\n",
    "                review_input = review.read().encode('utf-8')\n",
    "                # Send the review to the predictor and store the results\n",
    "                results.append(int(float(predictor.predict(review_input))))\n",
    "                \n",
    "            # Sending reviews to our endpoint one at a time takes a while so we\n",
    "            # only send a small number of reviews\n",
    "            files_read += 1\n",
    "            if files_read == stop:\n",
    "                break\n",
    "            \n",
    "    return ground, results"
   ]
  },
  {
   "cell_type": "code",
   "execution_count": 45,
   "metadata": {},
   "outputs": [
    {
     "name": "stdout",
     "output_type": "stream",
     "text": [
      "Starting  pos  files\n",
      "Starting  neg  files\n"
     ]
    }
   ],
   "source": [
    "ground, results = test_reviews()"
   ]
  },
  {
   "cell_type": "code",
   "execution_count": 46,
   "metadata": {},
   "outputs": [
    {
     "data": {
      "text/plain": [
       "0.834"
      ]
     },
     "execution_count": 46,
     "metadata": {},
     "output_type": "execute_result"
    }
   ],
   "source": [
    "from sklearn.metrics import accuracy_score\n",
    "accuracy_score(ground, results)"
   ]
  },
  {
   "cell_type": "markdown",
   "metadata": {},
   "source": [
    "As an additional test, we can try sending the `test_review` that we looked at earlier."
   ]
  },
  {
   "cell_type": "code",
   "execution_count": 47,
   "metadata": {},
   "outputs": [
    {
     "data": {
      "text/plain": [
       "b'1.0'"
      ]
     },
     "execution_count": 47,
     "metadata": {},
     "output_type": "execute_result"
    }
   ],
   "source": [
    "predictor.predict(test_review)"
   ]
  },
  {
   "cell_type": "markdown",
   "metadata": {},
   "source": [
    "Now that we know our endpoint is working as expected, we can set up the web page that will interact with it. If you don't have time to finish the project now, make sure to skip down to the end of this notebook and shut down your endpoint. You can deploy it again when you come back."
   ]
  },
  {
   "cell_type": "markdown",
   "metadata": {},
   "source": [
    "## Step 7 (again): Use the model for the web app\n",
    "\n",
    "> **TODO:** This entire section and the next contain tasks for you to complete, mostly using the AWS console.\n",
    "\n",
    "So far we have been accessing our model endpoint by constructing a predictor object which uses the endpoint and then just using the predictor object to perform inference. What if we wanted to create a web app which accessed our model? The way things are set up currently makes that not possible since in order to access a SageMaker endpoint the app would first have to authenticate with AWS using an IAM role which included access to SageMaker endpoints. However, there is an easier way! We just need to use some additional AWS services.\n",
    "\n",
    "<img src=\"Web App Diagram.svg\">\n",
    "\n",
    "The diagram above gives an overview of how the various services will work together. On the far right is the model which we trained above and which is deployed using SageMaker. On the far left is our web app that collects a user's movie review, sends it off and expects a positive or negative sentiment in return.\n",
    "\n",
    "In the middle is where some of the magic happens. We will construct a Lambda function, which you can think of as a straightforward Python function that can be executed whenever a specified event occurs. We will give this function permission to send and recieve data from a SageMaker endpoint.\n",
    "\n",
    "Lastly, the method we will use to execute the Lambda function is a new endpoint that we will create using API Gateway. This endpoint will be a url that listens for data to be sent to it. Once it gets some data it will pass that data on to the Lambda function and then return whatever the Lambda function returns. Essentially it will act as an interface that lets our web app communicate with the Lambda function.\n",
    "\n",
    "### Setting up a Lambda function\n",
    "\n",
    "The first thing we are going to do is set up a Lambda function. This Lambda function will be executed whenever our public API has data sent to it. When it is executed it will receive the data, perform any sort of processing that is required, send the data (the review) to the SageMaker endpoint we've created and then return the result.\n",
    "\n",
    "#### Part A: Create an IAM Role for the Lambda function\n",
    "\n",
    "Since we want the Lambda function to call a SageMaker endpoint, we need to make sure that it has permission to do so. To do this, we will construct a role that we can later give the Lambda function.\n",
    "\n",
    "Using the AWS Console, navigate to the **IAM** page and click on **Roles**. Then, click on **Create role**. Make sure that the **AWS service** is the type of trusted entity selected and choose **Lambda** as the service that will use this role, then click **Next: Permissions**.\n",
    "\n",
    "In the search box type `sagemaker` and select the check box next to the **AmazonSageMakerFullAccess** policy. Then, click on **Next: Review**.\n",
    "\n",
    "Lastly, give this role a name. Make sure you use a name that you will remember later on, for example `LambdaSageMakerRole`. Then, click on **Create role**.\n",
    "\n",
    "#### Part B: Create a Lambda function\n",
    "\n",
    "Now it is time to actually create the Lambda function.\n",
    "\n",
    "Using the AWS Console, navigate to the AWS Lambda page and click on **Create a function**. When you get to the next page, make sure that **Author from scratch** is selected. Now, name your Lambda function, using a name that you will remember later on, for example `sentiment_analysis_func`. Make sure that the **Python 3.6** runtime is selected and then choose the role that you created in the previous part. Then, click on **Create Function**.\n",
    "\n",
    "On the next page you will see some information about the Lambda function you've just created. If you scroll down you should see an editor in which you can write the code that will be executed when your Lambda function is triggered. In our example, we will use the code below. \n",
    "\n",
    "```python\n",
    "# We need to use the low-level library to interact with SageMaker since the SageMaker API\n",
    "# is not available natively through Lambda.\n",
    "import boto3\n",
    "\n",
    "def lambda_handler(event, context):\n",
    "\n",
    "    # The SageMaker runtime is what allows us to invoke the endpoint that we've created.\n",
    "    runtime = boto3.Session().client('sagemaker-runtime')\n",
    "\n",
    "    # Now we use the SageMaker runtime to invoke our endpoint, sending the review we were given\n",
    "    response = runtime.invoke_endpoint(EndpointName = '**ENDPOINT NAME HERE**',    # The name of the endpoint we created\n",
    "                                       ContentType = 'text/plain',                 # The data format that is expected\n",
    "                                       Body = event['body'])                       # The actual review\n",
    "\n",
    "    # The response is an HTTP response whose body contains the result of our inference\n",
    "    result = response['Body'].read().decode('utf-8')\n",
    "\n",
    "    return {\n",
    "        'statusCode' : 200,\n",
    "        'headers' : { 'Content-Type' : 'text/plain', 'Access-Control-Allow-Origin' : '*' },\n",
    "        'body' : result\n",
    "    }\n",
    "```\n",
    "\n",
    "Once you have copy and pasted the code above into the Lambda code editor, replace the `**ENDPOINT NAME HERE**` portion with the name of the endpoint that we deployed earlier. You can determine the name of the endpoint using the code cell below."
   ]
  },
  {
   "cell_type": "code",
   "execution_count": 48,
   "metadata": {},
   "outputs": [
    {
     "data": {
      "text/plain": [
       "'sagemaker-pytorch-2020-02-06-19-57-12-896'"
      ]
     },
     "execution_count": 48,
     "metadata": {},
     "output_type": "execute_result"
    }
   ],
   "source": [
    "predictor.endpoint"
   ]
  },
  {
   "cell_type": "markdown",
   "metadata": {},
   "source": [
    "Once you have added the endpoint name to the Lambda function, click on **Save**. Your Lambda function is now up and running. Next we need to create a way for our web app to execute the Lambda function.\n",
    "\n",
    "### Setting up API Gateway\n",
    "\n",
    "Now that our Lambda function is set up, it is time to create a new API using API Gateway that will trigger the Lambda function we have just created.\n",
    "\n",
    "Using AWS Console, navigate to **Amazon API Gateway** and then click on **Get started**.\n",
    "\n",
    "On the next page, make sure that **New API** is selected and give the new api a name, for example, `sentiment_analysis_api`. Then, click on **Create API**.\n",
    "\n",
    "Now we have created an API, however it doesn't currently do anything. What we want it to do is to trigger the Lambda function that we created earlier.\n",
    "\n",
    "Select the **Actions** dropdown menu and click **Create Method**. A new blank method will be created, select its dropdown menu and select **POST**, then click on the check mark beside it.\n",
    "\n",
    "For the integration point, make sure that **Lambda Function** is selected and click on the **Use Lambda Proxy integration**. This option makes sure that the data that is sent to the API is then sent directly to the Lambda function with no processing. It also means that the return value must be a proper response object as it will also not be processed by API Gateway.\n",
    "\n",
    "Type the name of the Lambda function you created earlier into the **Lambda Function** text entry box and then click on **Save**. Click on **OK** in the pop-up box that then appears, giving permission to API Gateway to invoke the Lambda function you created.\n",
    "\n",
    "The last step in creating the API Gateway is to select the **Actions** dropdown and click on **Deploy API**. You will need to create a new Deployment stage and name it anything you like, for example `prod`.\n",
    "\n",
    "You have now successfully set up a public API to access your SageMaker model. Make sure to copy or write down the URL provided to invoke your newly created public API as this will be needed in the next step. This URL can be found at the top of the page, highlighted in blue next to the text **Invoke URL**."
   ]
  },
  {
   "cell_type": "markdown",
   "metadata": {},
   "source": [
    "## Step 4: Deploying our web app\n",
    "\n",
    "Now that we have a publicly available API, we can start using it in a web app. For our purposes, we have provided a simple static html file which can make use of the public api you created earlier.\n",
    "\n",
    "In the `website` folder there should be a file called `index.html`. Download the file to your computer and open that file up in a text editor of your choice. There should be a line which contains **\\*\\*REPLACE WITH PUBLIC API URL\\*\\***. Replace this string with the url that you wrote down in the last step and then save the file.\n",
    "\n",
    "Now, if you open `index.html` on your local computer, your browser will behave as a local web server and you can use the provided site to interact with your SageMaker model.\n",
    "\n",
    "If you'd like to go further, you can host this html file anywhere you'd like, for example using github or hosting a static site on Amazon's S3. Once you have done this you can share the link with anyone you'd like and have them play with it too!\n",
    "\n",
    "> **Important Note** In order for the web app to communicate with the SageMaker endpoint, the endpoint has to actually be deployed and running. This means that you are paying for it. Make sure that the endpoint is running when you want to use the web app but that you shut it down when you don't need it, otherwise you will end up with a surprisingly large AWS bill.\n",
    "\n",
    "**TODO:** Make sure that you include the edited `index.html` file in your project submission."
   ]
  },
  {
   "cell_type": "markdown",
   "metadata": {},
   "source": [
    "Now that your web app is working, trying playing around with it and see how well it works.\n",
    "\n",
    "**Question**: Give an example of a review that you entered into your web app. What was the predicted sentiment of your example review?"
   ]
  },
  {
   "cell_type": "markdown",
   "metadata": {},
   "source": [
    "**Answer:** \"Amazing movie! I'd see it again\" - Your review was POSITIVE!"
   ]
  },
  {
   "cell_type": "markdown",
   "metadata": {},
   "source": [
    "### Delete the endpoint\n",
    "\n",
    "Remember to always shut down your endpoint if you are no longer using it. You are charged for the length of time that the endpoint is running so if you forget and leave it on you could end up with an unexpectedly large bill."
   ]
  },
  {
   "cell_type": "code",
   "execution_count": 49,
   "metadata": {},
   "outputs": [],
   "source": [
    "predictor.delete_endpoint()"
   ]
  },
  {
   "cell_type": "code",
   "execution_count": null,
   "metadata": {},
   "outputs": [],
   "source": []
  }
 ],
 "metadata": {
  "kernelspec": {
   "display_name": "conda_pytorch_p36",
   "language": "python",
   "name": "conda_pytorch_p36"
  },
  "language_info": {
   "codemirror_mode": {
    "name": "ipython",
    "version": 3
   },
   "file_extension": ".py",
   "mimetype": "text/x-python",
   "name": "python",
   "nbconvert_exporter": "python",
   "pygments_lexer": "ipython3",
   "version": "3.6.5"
  }
 },
 "nbformat": 4,
 "nbformat_minor": 2
}
